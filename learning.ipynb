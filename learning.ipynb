{
 "cells": [
  {
   "cell_type": "markdown",
   "metadata": {},
   "source": [
    "# Predykcja ataku <font color=\"DarkRed\"><b>phishingowego</b></font> w wiadomości e-mail za pomocą <font color=\"orange\"><b><i>nadzorowanego nauczania maszynowego</i></b>o</font>\n",
    "Dataset: \n",
    "<ul>\n",
    "    <li><i><b>Phishing Email Curated Datasets</b></i></li>\n",
    "    <ul>\n",
    "        <li><a href=\"https://zenodo.org/records/8339691\" target=\"_blank\" style=\"color: orange\">https://zenodo.org/records/8339691</a></li>\n",
    "    </ul>\n",
    "</ul>"
   ]
  },
  {
   "cell_type": "markdown",
   "metadata": {},
   "source": [
    "### Najważniejsze użyte <font color=\"orange\">moduły</font>\n",
    "<ul>\n",
    "    <li> <b>pandas</b> - praca z <i>Data Framami</i></li>\n",
    "    <li> <b>numpy</b> - obliczenia</li>\n",
    "    <li> <b>matplotlib.pyplot</b> - wizualizacja</li>\n",
    "    <li> <b>sklearn</b> - wszelakie narzędzia do <i>Machine Learningu</i></li>\n",
    "</ul>"
   ]
  },
  {
   "cell_type": "code",
   "execution_count": 1,
   "metadata": {},
   "outputs": [],
   "source": [
    "import pandas as pd\n",
    "import numpy as np\n",
    "\n",
    "import matplotlib.pyplot as plt\n",
    "\n",
    "from sklearn.model_selection import KFold, train_test_split, cross_val_score, GridSearchCV\n",
    "from sklearn.ensemble import RandomForestClassifier\n",
    "from sklearn.neighbors import KNeighborsClassifier\n",
    "from sklearn.tree import DecisionTreeClassifier\n",
    "from sklearn.preprocessing import StandardScaler\n",
    "import sklearn.metrics as skm\n",
    "\n",
    "import import_ipynb\n",
    "import re\n",
    "from unidecode import unidecode\n",
    "from termcolor import colored\n",
    "\n",
    "import warnings\n",
    "warnings.simplefilter(action='ignore', category=UserWarning)"
   ]
  },
  {
   "cell_type": "markdown",
   "metadata": {},
   "source": [
    "### Wczytanie przygotowanego <font color=\"orange\"><b>data framu</b></font>"
   ]
  },
  {
   "cell_type": "code",
   "execution_count": 2,
   "metadata": {},
   "outputs": [
    {
     "name": "stdout",
     "output_type": "stream",
     "text": [
      "   label  suspicious_words_subject  suspicious_words_body  sender_nums_count  \\\n",
      "0    1.0                       0.0                    2.0                0.0   \n",
      "1    1.0                       0.0                    0.0                4.0   \n",
      "2    1.0                       0.0                    4.0                0.0   \n",
      "\n",
      "   sender_domain_num_count  sender_domain_length  urls_count  protocol  \\\n",
      "0                      0.0                   6.0         1.0       0.0   \n",
      "1                      0.0                   6.0         1.0       0.0   \n",
      "2                      0.0                  16.0         3.0       0.0   \n",
      "\n",
      "   contains_ip  url_length  TLD_alpha  subdomain_level  slash_count  \\\n",
      "0          0.0        21.0        1.0              0.0          3.0   \n",
      "1          0.0        25.0        1.0              1.0          2.0   \n",
      "2          0.0        72.0        1.0              1.0          6.0   \n",
      "\n",
      "   dots_count  hyphens_count  has_non_latin  \n",
      "0         1.0            0.0            0.0  \n",
      "1         2.0            0.0            0.0  \n",
      "2         4.0            0.0            0.0  \n"
     ]
    }
   ],
   "source": [
    "learning_set = pd.read_csv('ML_DataFrame.csv', index_col=0)\n",
    "print(learning_set.head(3))"
   ]
  },
  {
   "cell_type": "markdown",
   "metadata": {},
   "source": [
    "### Usunięcie <font color=\"orange\"><b>wierszy</b></font> z <font color=\"orange\">pustym wartościami</font>"
   ]
  },
  {
   "cell_type": "code",
   "execution_count": 3,
   "metadata": {},
   "outputs": [
    {
     "name": "stdout",
     "output_type": "stream",
     "text": [
      "label                        0\n",
      "suspicious_words_subject     0\n",
      "suspicious_words_body        0\n",
      "sender_nums_count            0\n",
      "sender_domain_num_count      0\n",
      "sender_domain_length         0\n",
      "urls_count                   0\n",
      "protocol                     0\n",
      "contains_ip                  0\n",
      "url_length                   0\n",
      "TLD_alpha                    0\n",
      "subdomain_level             84\n",
      "slash_count                  0\n",
      "dots_count                   0\n",
      "hyphens_count                0\n",
      "has_non_latin                0\n",
      "dtype: int64\n"
     ]
    }
   ],
   "source": [
    "print(learning_set.isna().sum())\n",
    "learning_set.dropna(inplace=True)"
   ]
  },
  {
   "cell_type": "markdown",
   "metadata": {},
   "source": [
    "### Wybranie <font color=\"orange\"><b><i>X</i></b></font> i <font color=\"orange\"><b><i>y</i></b></font>\n",
    "X:\n",
    "<ul>\n",
    "    <li> suspicious_words_subject </li>\n",
    "    <li> suspicious_words_body </li>\n",
    "    <li> sender_nums_count </li>\n",
    "    <li> sender_domain_num_count </li>\n",
    "    <li> sender_domain_length </li>\n",
    "    <li> urls_count </li>\n",
    "    <li> protocol </li>\n",
    "    <li> contains_ip </li>\n",
    "    <li> url_length </li>\n",
    "    <li> TLD_alpha </li>\n",
    "    <li> subdomain_level </li>\n",
    "    <li> slash_count </li>\n",
    "    <li> dots_count </li>\n",
    "    <li> hyphens_count </li>\n",
    "    <li> has_non_latin </li>\n",
    "</ul>\n",
    "y:\n",
    "<ul>\n",
    "    <li> label </li>\n",
    "</ul>"
   ]
  },
  {
   "cell_type": "code",
   "execution_count": 4,
   "metadata": {},
   "outputs": [
    {
     "name": "stdout",
     "output_type": "stream",
     "text": [
      "(41574, 15) (41574,)\n"
     ]
    }
   ],
   "source": [
    "X = learning_set.loc[:, 'suspicious_words_subject':'has_non_latin'].values\n",
    "y = learning_set.loc[: , 'label'].values\n",
    "print(X.shape, y.shape)"
   ]
  },
  {
   "cell_type": "markdown",
   "metadata": {},
   "source": [
    "### Rozdzielanie <font color=\"orange\"><b><i>X</i></b></font> i <font color=\"orange\"><b><i>y</i></b></font> na <font color=\"orange\">treningowe</font> i <font color=\"orange\">testowe zestawy</font>"
   ]
  },
  {
   "cell_type": "code",
   "execution_count": 5,
   "metadata": {},
   "outputs": [],
   "source": [
    "X_train, X_test, y_train, y_test = train_test_split(X, y, test_size=0.2, random_state=123)"
   ]
  },
  {
   "cell_type": "markdown",
   "metadata": {},
   "source": [
    "### <font color=\"orange\">Skalujemy</font> wartości <font color=\"orange\"><b><i>X</i></b>-ów</font>"
   ]
  },
  {
   "cell_type": "code",
   "execution_count": 6,
   "metadata": {},
   "outputs": [],
   "source": [
    "scaler = StandardScaler()\n",
    "X_train = scaler.fit_transform(X_train)\n",
    "X_test = scaler.transform(X_test)"
   ]
  },
  {
   "cell_type": "code",
   "execution_count": 7,
   "metadata": {},
   "outputs": [
    {
     "name": "stdout",
     "output_type": "stream",
     "text": [
      "(33259, 15) (8315, 15) (33259,) (8315,)\n"
     ]
    }
   ],
   "source": [
    "print(X_train.shape, X_test.shape, y_train.shape, y_test.shape)"
   ]
  },
  {
   "cell_type": "markdown",
   "metadata": {},
   "source": [
    "### Szukanie <font color=\"orange\">najlepszych parametrów</font> dla <font color=\"orange\"><b><i>KNeighborsClassifier</i></b></font>\n"
   ]
  },
  {
   "cell_type": "code",
   "execution_count": 8,
   "metadata": {},
   "outputs": [
    {
     "name": "stdout",
     "output_type": "stream",
     "text": [
      "Najlepsze parametry dla KNeighborsClassifier:\n",
      "n_neighbors: 8\n",
      "p: 1\n",
      "weights: distance\n",
      "Uzyskana precyzja:  0.8931714625269559\n",
      "Precyzja zestawu testowego: 0.8939266386049308\n"
     ]
    }
   ],
   "source": [
    "kf = KFold(n_splits=6, shuffle=True, random_state=42)\n",
    "params = {\n",
    "    'n_neighbors': np.arange(1, 15, 1),\n",
    "    'weights': ['uniform', 'distance'],\n",
    "    'p': [1, 2]\n",
    "}\n",
    "knn = KNeighborsClassifier()\n",
    "knn_cv = GridSearchCV(knn, param_grid=params, cv=kf)\n",
    "knn_cv.fit(X_train, y_train)\n",
    "\n",
    "print('Najlepsze parametry dla KNeighborsClassifier:')\n",
    "for p, val in knn_cv.best_params_.items():\n",
    "    print('{}: {}'.format(p, val), end='\\n')\n",
    "print('Uzyskana precyzja: ', knn_cv.best_score_)\n",
    "\n",
    "best_knn = knn_cv.best_estimator_\n",
    "test_accuracy = best_knn.score(X_test, y_test)\n",
    "print(\"Precyzja zestawu testowego:\", test_accuracy)\n",
    "\n"
   ]
  },
  {
   "cell_type": "markdown",
   "metadata": {},
   "source": [
    "### Szukanie <font color=\"orange\">najlepszych parametrów</font> dla <font color=\"orange\"><b><i>LogisticRegression</i></b></font>"
   ]
  },
  {
   "cell_type": "code",
   "execution_count": null,
   "metadata": {},
   "outputs": [],
   "source": [
    "from sklearn.linear_model import LogisticRegression\n",
    "kf = KFold(n_splits=6, shuffle=True, random_state=42)\n",
    "params = {\n",
    "    'penalty': [None, 'l2'],\n",
    "    'C': [0.001, 0.01, 0.1, 1, 10] \n",
    "}\n",
    "logreg_forest = LogisticRegression()\n",
    "logreg_cv = GridSearchCV(logreg_forest, param_grid=params, cv=kf)\n",
    "logreg_cv.fit(X_train, y_train)\n",
    "\n",
    "print('Najlepsze parametry dla LogisticRegression:')\n",
    "for p, val in logreg_cv.best_params_.items():\n",
    "    print('{}: {}'.format(p, val), end='\\n')\n",
    "print('Uzyskana precyzja: ', logreg_cv.best_score_)\n",
    "\n",
    "best_logreg = logreg_cv.best_estimator_\n",
    "test_accuracy = best_logreg.score(X_test, y_test)\n",
    "print(\"Precyzja zestawu testowego:\", test_accuracy)"
   ]
  },
  {
   "cell_type": "markdown",
   "metadata": {},
   "source": [
    "### Szukanie <font color=\"orange\">najlepszych parametrów</font> dla <font color=\"orange\"><b><i>DecisionTreeClassifier</i></b></font> "
   ]
  },
  {
   "cell_type": "code",
   "execution_count": 10,
   "metadata": {},
   "outputs": [
    {
     "name": "stdout",
     "output_type": "stream",
     "text": [
      "Najlepsze parametry dla DecisionTreeClassifier:\n",
      "criterion: gini\n",
      "max_depth: None\n",
      "min_samples_leaf: 1\n",
      "min_samples_split: 10\n",
      "Uzyskana precyzja:  0.8818364460390439\n",
      "Precyzja zestawu testowego: 0.8817799158147925\n"
     ]
    }
   ],
   "source": [
    "kf = KFold(n_splits=6, shuffle=True, random_state=42)\n",
    "params = {\n",
    "    'criterion': ['gini', 'entropy'],\n",
    "    'max_depth': [None, 5, 10, 15],\n",
    "    'min_samples_split': [2, 5, 10],\n",
    "    'min_samples_leaf': [1, 2, 4]  \n",
    "}\n",
    "tree = DecisionTreeClassifier()\n",
    "tree_cv = GridSearchCV(tree, param_grid=params, cv=kf)\n",
    "tree_cv.fit(X_train, y_train)\n",
    "\n",
    "print('Najlepsze parametry dla DecisionTreeClassifier:')\n",
    "for p, val in tree_cv.best_params_.items():\n",
    "    print('{}: {}'.format(p, val), end='\\n')\n",
    "print('Uzyskana precyzja: ', tree_cv.best_score_)\n",
    "\n",
    "best_tree = tree_cv.best_estimator_\n",
    "test_accuracy = best_tree.score(X_test, y_test)\n",
    "print(\"Precyzja zestawu testowego:\", test_accuracy)"
   ]
  },
  {
   "cell_type": "markdown",
   "metadata": {},
   "source": [
    "### Szukanie <font color=\"orange\">najlepszych parametrów</font> dla <font color=\"orange\"><b><i>RandomForestClassifier</i></b></font> "
   ]
  },
  {
   "cell_type": "code",
   "execution_count": 11,
   "metadata": {},
   "outputs": [
    {
     "name": "stdout",
     "output_type": "stream",
     "text": [
      "Najlepsze parametry dla RandomForestClassifier:\n",
      "max_depth: None\n",
      "min_samples_leaf: 1\n",
      "min_samples_split: 5\n",
      "n_estimators: 100\n",
      "Uzyskana precyzja:  0.9137373190683672\n",
      "Precyzja zestawu testowego: 0.9128081779915814\n"
     ]
    }
   ],
   "source": [
    "from sklearn.ensemble import RandomForestClassifier\n",
    "\n",
    "kf = KFold(n_splits=6, shuffle=True, random_state=42)\n",
    "params = {\n",
    "    'n_estimators': [50, 100, 200],\n",
    "    'max_depth': [None, 5, 10, 15],\n",
    "    'min_samples_split': [2, 5, 10],\n",
    "    'min_samples_leaf': [1, 2, 4] \n",
    "}\n",
    "rand_forest = RandomForestClassifier()\n",
    "rand_forest_cv = GridSearchCV(rand_forest, param_grid=params, cv=kf)\n",
    "rand_forest_cv.fit(X_train, y_train)\n",
    "\n",
    "print('Najlepsze parametry dla RandomForestClassifier:')\n",
    "for p, val in rand_forest_cv.best_params_.items():\n",
    "    print('{}: {}'.format(p, val), end='\\n')\n",
    "print('Uzyskana precyzja: ', rand_forest_cv.best_score_)\n",
    "\n",
    "best_rand_forest = rand_forest_cv.best_estimator_\n",
    "test_accuracy = best_rand_forest.score(X_test, y_test)\n",
    "print(\"Precyzja zestawu testowego:\", test_accuracy)"
   ]
  },
  {
   "cell_type": "markdown",
   "metadata": {},
   "source": [
    "### Szukanie <font color=\"orange\">najlepszych parametrów</font> dla <font color=\"orange\"><b><i>SVM Classifier</i></b></font>"
   ]
  },
  {
   "cell_type": "code",
   "execution_count": 12,
   "metadata": {},
   "outputs": [
    {
     "name": "stdout",
     "output_type": "stream",
     "text": [
      "Najlepsze parametry dla SVM Classifier:\n",
      "C: 1\n",
      "gamma: 1\n",
      "kernel: rbf\n",
      "Uzyskana precyzja:  0.8840010675208222\n",
      "Precyzja zestawu testowego: 0.8849067949488876\n"
     ]
    }
   ],
   "source": [
    "from sklearn.svm import SVC\n",
    "\n",
    "kf = KFold(n_splits=6, shuffle=True, random_state=42)\n",
    "params = {\n",
    "    'C': [0.1, 1, 10], \n",
    "    'kernel': ['linear', 'rbf'],\n",
    "    'gamma': ['scale', 'auto', 0.1, 1]\n",
    "}\n",
    "svm = SVC()\n",
    "svm_cv = GridSearchCV(svm, param_grid=params, cv=kf)\n",
    "svm_cv.fit(X_train, y_train)\n",
    "\n",
    "print('Najlepsze parametry dla SVM Classifier:')\n",
    "for p, val in svm_cv.best_params_.items():\n",
    "    print('{}: {}'.format(p, val), end='\\n')\n",
    "print('Uzyskana precyzja: ', svm_cv.best_score_)\n",
    "\n",
    "best_svm = svm_cv.best_estimator_\n",
    "test_accuracy = best_svm.score(X_test, y_test)\n",
    "print(\"Precyzja zestawu testowego:\", test_accuracy)"
   ]
  },
  {
   "cell_type": "markdown",
   "metadata": {},
   "source": [
    "## Ewaluacja <font color=\"orange\"><b>modeli</b></font>"
   ]
  },
  {
   "cell_type": "code",
   "execution_count": 13,
   "metadata": {},
   "outputs": [],
   "source": [
    "models = {\n",
    "    'KNeighborsClassifier': KNeighborsClassifier(n_neighbors=8, p=1, weights='distance'),\n",
    "    'LogisticRegression': LogisticRegression(C=1, penalty='l2'),\n",
    "    'DecisionTreeClassifier': DecisionTreeClassifier(criterion='gini', max_depth=None, min_samples_leaf=1, min_samples_split=10),\n",
    "    'RandomForestClassifier': RandomForestClassifier(max_depth=None, min_samples_leaf=1, min_samples_split=5, n_estimators=100),\n",
    "    'SVM Classifier': SVC(C=10, gamma=1, kernel='rbf')\n",
    "}\n",
    "\n",
    "results = []\n",
    "for model in models.values():\n",
    "    kf = KFold(n_splits=6, shuffle=True, random_state=10)\n",
    "    cv_results = cross_val_score(model, X_train, y_train, cv=kf)\n",
    "    results.append(cv_results)"
   ]
  },
  {
   "cell_type": "code",
   "execution_count": 14,
   "metadata": {},
   "outputs": [
    {
     "data": {
      "image/png": "[encoded data removed]",
      "text/plain": [
       "<Figure size 1600x1200 with 1 Axes>"
      ]
     },
     "metadata": {},
     "output_type": "display_data"
    }
   ],
   "source": [
    "plt.style.use('seaborn-v0_8')\n",
    "fig, ax = plt.subplots(figsize=(16, 12))\n",
    "\n",
    "boxplot = ax.boxplot(\n",
    "    results,\n",
    "    labels=models.keys(),\n",
    "    patch_artist=True,\n",
    "    boxprops=dict(edgecolor='black'),\n",
    "    whiskerprops=dict(linewidth=1),\n",
    "    capprops=dict(linewidth=1),\n",
    "    medianprops=dict(color='black', linewidth=1),\n",
    "    widths=0.2,\n",
    ")\n",
    "\n",
    "box_colors = ['#fceb03', '#03fcdb', '#90EE90', '#fc9d03', '#FFC0CB']\n",
    "for box, color in zip(boxplot['boxes'], box_colors):\n",
    "    box.set(facecolor=color)\n",
    "\n",
    "ax.set_title('Wyniki walidacji krzyżowej', fontsize=24)\n",
    "ax.tick_params(axis='both', labelsize=17)\n",
    "ax.set_xlabel('Model', fontsize=20)\n",
    "ax.set_ylabel('Precyzja', fontsize=20)\n",
    "ax.set_ylim(0.70, 1)\n",
    "ax.yaxis.grid(True)\n",
    "\n",
    "plt.tight_layout()\n",
    "plt.show()"
   ]
  },
  {
   "cell_type": "markdown",
   "metadata": {},
   "source": [
    "### Nauczenie <font color=\"orange\">najskuteczniejszego <b>modelu</b></font>\n",
    "<ul>\n",
    "    <li>Najlepszy okazał się <font color=\"orange\"><b><i>RandomForestClassifier</i></b></font></li>\n",
    "</ul>\n"
   ]
  },
  {
   "cell_type": "code",
   "execution_count": 15,
   "metadata": {},
   "outputs": [],
   "source": [
    "import sklearn.metrics as skm\n",
    "random_forest = RandomForestClassifier(max_depth=None,\n",
    "                                       min_samples_leaf=1,\n",
    "                                       min_samples_split=10,\n",
    "                                       n_estimators=50)\n",
    "rand_forest.fit(X_train, y_train)\n",
    "y_pred = rand_forest.predict(X_test)"
   ]
  },
  {
   "cell_type": "markdown",
   "metadata": {},
   "source": [
    "### Ponowne <font color=\"orange\">sprawdzenie skuteczności <b>modelu</b></font>\n",
    "Tym razem dokładniej, przy pomocy:\n",
    "<ul>\n",
    "    <li><font color=\"orange\"><i>macierzy pomyłek </i></font><font color=\"gray\">(confusion matrix)</font></li>\n",
    "    <li> <font color=\"orange\"><i>classification report </i></font></li>\n",
    "</ul>"
   ]
  },
  {
   "cell_type": "code",
   "execution_count": 16,
   "metadata": {},
   "outputs": [
    {
     "data": {
      "image/png": "[encoded data removed]",
      "text/plain": [
       "<Figure size 640x480 with 2 Axes>"
      ]
     },
     "metadata": {},
     "output_type": "display_data"
    },
    {
     "data": {
      "image/png": "[encoded data removed]",
      "text/plain": [
       "<Figure size 640x480 with 2 Axes>"
      ]
     },
     "metadata": {},
     "output_type": "display_data"
    },
    {
     "name": "stdout",
     "output_type": "stream",
     "text": [
      "              precision    recall  f1-score   support\n",
      "\n",
      "        safe       0.87      0.90      0.89      3137\n",
      "    phishing       0.94      0.92      0.93      5178\n",
      "\n",
      "    accuracy                           0.91      8315\n",
      "   macro avg       0.90      0.91      0.91      8315\n",
      "weighted avg       0.91      0.91      0.91      8315\n",
      "\n"
     ]
    }
   ],
   "source": [
    "# Confusion Matrix\n",
    "confusion_matrix = skm.confusion_matrix(y_test, y_pred)\n",
    "\n",
    "plt.style.use('default')\n",
    "cm_display = skm.ConfusionMatrixDisplay(\n",
    "    confusion_matrix=confusion_matrix,\n",
    "    display_labels=['safe', 'phishing'])\n",
    "\n",
    "cm_display.plot(cmap='Blues')\n",
    "plt.show()\n",
    "\n",
    "# Wartości %\n",
    "cm_display = skm.ConfusionMatrixDisplay(\n",
    "    confusion_matrix=confusion_matrix/np.sum(confusion_matrix),\n",
    "    display_labels=['safe', 'phishing'])\n",
    "    \n",
    "cm_display.plot(cmap='Blues')\n",
    "plt.show()\n",
    "\n",
    "# Classification report\n",
    "target_names = ['safe', 'phishing']\n",
    "class_report = skm.classification_report(y_test, y_pred, target_names=target_names)\n",
    "print(class_report)"
   ]
  },
  {
   "cell_type": "code",
   "execution_count": null,
   "metadata": {},
   "outputs": [],
   "source": [
    "# Confusion Matrix\n",
    "confusion_matrix = skm.confusion_matrix(y_test, y_pred)\n",
    "\n",
    "plt.style.use('default')\n",
    "fig, ax = plt.subplots(ncols=2, nrows=1)\n",
    "ax[0] = skm.ConfusionMatrixDisplay(\n",
    "    confusion_matrix=confusion_matrix,\n",
    "    display_labels=['safe', 'phishing'])\n",
    "\n",
    "ax[0].plot(cmap='Blues')\n",
    "\n",
    "\n",
    "# Wartości %\n",
    "ax[1] = skm.ConfusionMatrixDisplay(\n",
    "    confusion_matrix=confusion_matrix/np.sum(confusion_matrix),\n",
    "    display_labels=['safe', 'phishing'])\n",
    "    \n",
    "ax[1].plot(cmap='Blues')\n",
    "plt.show()\n",
    "\n",
    "# Classification report\n",
    "target_names = ['safe', 'phishing']\n",
    "class_report = skm.classification_report(y_test, y_pred, target_names=target_names)\n",
    "print(class_report)"
   ]
  },
  {
   "cell_type": "markdown",
   "metadata": {},
   "source": [
    "### Tworzymy <font color=\"orange\">metodę</font> do <font color=\"orange\">konwertowania maila</font> na <font color=\"orange\">wartości liczbowe</font> na wzór tych użytych przy nauczaniu modelu"
   ]
  },
  {
   "cell_type": "code",
   "execution_count": 23,
   "metadata": {},
   "outputs": [],
   "source": [
    "from unidecode import unidecode\n",
    "import spacy\n",
    "import re\n",
    "\n",
    "nlp = spacy.load('en_core_web_md', disable=[\"parser\", \"ner\"])\n",
    "def import_suspicious_words():\n",
    "    with open('suspicious_words.txt', 'r') as file:\n",
    "        lines = file.readlines()\n",
    "    \n",
    "    suspicious_words = []\n",
    "    for line in lines:\n",
    "        word = line.strip()\n",
    "        suspicious_words.append(word)\n",
    "\n",
    "    suspicious_str = ' '.join(suspicious_words)\n",
    "    doc = nlp(suspicious_str)\n",
    "    suspicious_lemmas = [token.lemma_.lower() for token in doc]\n",
    "\n",
    "    suspicious_set = set(suspicious_lemmas)\n",
    "    return suspicious_set\n",
    "def parse_mail_to_nums(mail: dict):\n",
    "    \n",
    "    sender = mail['sender']\n",
    "    splitted = sender.split('@')\n",
    "    \n",
    "    sender_name = splitted[0]\n",
    "    sender_domain = splitted[1]\n",
    "    \n",
    "    sender_num_count = sum(1 for char in sender_name if char.isnumeric())\n",
    "\n",
    "    splitted_dom = sender_domain.split('.')[:-1]\n",
    "    domain_noTLD = '.'.join(splitted_dom)\n",
    "    print(domain_noTLD)\n",
    "    sender_domain_num_count = sum(1 for char in domain_noTLD if char.isnumeric())\n",
    "    print('sender_domain_num_count ', sender_domain_num_count)\n",
    "    sender_domain_length = len(domain_noTLD)\n",
    "    \n",
    "    # subject and body text\n",
    "    suspicious_set = import_suspicious_words()\n",
    "\n",
    "    doc = nlp(mail['subject'])\n",
    "    tokens = [token.lemma_.lower() for token in doc if token.text.isalnum()]\n",
    "    unique_words = set(tokens)\n",
    "    sus_words = unique_words.intersection(suspicious_set)\n",
    "    suspicious_words_subject = len(sus_words)\n",
    "\n",
    "    doc = nlp(mail['body'])\n",
    "    tokens = [token.lemma_.lower() for token in doc if token.text.isalnum()]\n",
    "    unique_words = set(tokens)\n",
    "    sus_words = unique_words.intersection(suspicious_set)\n",
    "    suspicious_words_body = len(sus_words)\n",
    "\n",
    "\n",
    "    # body urls\n",
    "    body = mail['body']\n",
    "    url_pattern = re.compile(r'https?://\\S+|www\\.\\S+')\n",
    "    urls = re.findall(url_pattern, body)\n",
    "    # urls_count\n",
    "    urls_count = len(urls)\n",
    "    url = urls[np.random.randint(0, urls_count)]\n",
    "    # protocol\n",
    "    protocol = url[:5].lower()\n",
    "    protocol = 'https' if protocol == 'https' else 'http'\n",
    "    # contains_ip\n",
    "    IP_pattern = re.compile(r'\\b(?:\\d{1,3}\\.){3}\\d{1,3}\\b|\\b(?:[0-9a-fA-F]{1,4}:){7}[0-9a-fA-F]{1,4}\\b')\n",
    "    IPs = IP_pattern.findall(url)\n",
    "    contains_ip = 1 if IPs else 0\n",
    "    # url_length\n",
    "    url_length = len(url)\n",
    "    # TLD_alpha\n",
    "    pattern = re.compile(r'https?://([^/?]+)')\n",
    "    match = pattern.match(url)\n",
    "    if match:\n",
    "        domain = match.group(1)\n",
    "        if '/' in domain:\n",
    "            domain = domain.split('/')[0]\n",
    "    else:\n",
    "        domain = url\n",
    "    \n",
    "    split_domain = domain.split('.')\n",
    "    n = len(split_domain)\n",
    "    delimiters = ['/', ':', ')', ']', '%', '_', '=', ',', '>', '\"', '#', '!']\n",
    "    # Check if not weird ending\n",
    "    after_dot = split_domain[n-1]\n",
    "    if len(after_dot) > 2 and not after_dot.isalpha():\n",
    "        after_dot = after_dot.split('/')[0]\n",
    "        \n",
    "        if len(after_dot) > 2 and not after_dot.isalpha():\n",
    "            print(after_dot, 'INSIDE')\n",
    "            for delimiter in delimiters:\n",
    "                after_dot = \" \".join(after_dot.split(delimiter))\n",
    "            \n",
    "            after_dot = after_dot.split()[0]\n",
    "\n",
    "    TLD = '.'+after_dot.lower()\n",
    "    TLD_alpha = TLD[1:].isalpha()\n",
    "    # subdomain_level\n",
    "    subdomain_level = domain.count('.')-1\n",
    "    # slash_count\n",
    "    slash_count = url.count('/')\n",
    "    # dots_count\n",
    "    dots_count = url.count('.')\n",
    "    # hyphens_count\n",
    "    hyphens_count = url.count('-')\n",
    "    # has_non_latin\n",
    "    ascii = unidecode(url)\n",
    "    has_non_latin = url != ascii\n",
    "\n",
    "    data = {\n",
    "        'sender_num_count': sender_num_count,\n",
    "        'sender_domain_num_count': sender_domain_num_count,\n",
    "        'sender_domain_length': sender_domain_length,\n",
    "        'suspicious_words_subject': suspicious_words_subject,\n",
    "        'suspicious_words_body': suspicious_words_body,\n",
    "        'urls_count': urls_count,\n",
    "        'protocol': protocol,\n",
    "        'contains_ip': contains_ip,\n",
    "        'url_length': url_length,\n",
    "        'TLD_alpha': TLD_alpha,\n",
    "        'subdomain_level': subdomain_level,\n",
    "        'slash_count': slash_count,\n",
    "        'dots_count': dots_count,\n",
    "        'hyphens_count': hyphens_count,\n",
    "        'has_non_latin': has_non_latin,\n",
    "    }\n",
    "\n",
    "    for k, v in data.items():\n",
    "        print('{}: {}'.format(k, v), end='\\n')\n",
    "\n",
    "    # numeric values\n",
    "    urls_count_out = urls_count if urls_count <= 2 else 3\n",
    "    protocol_out = 1 if protocol=='https' else 0\n",
    "    contains_ip_out = contains_ip\n",
    "    url_length_out = url_length\n",
    "    TLD_alpha_out = 1 if TLD_alpha is True else 0\n",
    "    subdomain_level_out = subdomain_level if subdomain_level <= 2 else 3\n",
    "    slash_count_out = slash_count if slash_count <= 5 else 6\n",
    "    dots_count_out = dots_count if dots_count <= 4 else 5\n",
    "    hyphens_count_out = hyphens_count if hyphens_count <= 1 else 2\n",
    "    has_non_latin_out = has_non_latin\n",
    "\n",
    "    X_output = np.array(list([\n",
    "        [sender_num_count],\n",
    "        [sender_domain_num_count],\n",
    "        [sender_domain_length],\n",
    "        [suspicious_words_subject],\n",
    "        [suspicious_words_body],\n",
    "        [urls_count_out],\n",
    "        [protocol_out],\n",
    "        [contains_ip_out],\n",
    "        [url_length_out],\n",
    "        [TLD_alpha_out],\n",
    "        [subdomain_level_out],\n",
    "        [slash_count_out],\n",
    "        [dots_count_out],\n",
    "        [hyphens_count_out],\n",
    "        [has_non_latin_out]\n",
    "    ]))\n",
    "    return X_output.reshape(1, -1)"
   ]
  },
  {
   "cell_type": "markdown",
   "metadata": {},
   "source": [
    "### Testy na <font color=\"orange\">życiowych przykładach</font>"
   ]
  },
  {
   "cell_type": "code",
   "execution_count": 50,
   "metadata": {},
   "outputs": [
    {
     "name": "stdout",
     "output_type": "stream",
     "text": [
      "ue.poznan\n",
      "sender_domain_num_count  0\n",
      "sender_num_count: 0\n",
      "sender_domain_num_count: 0\n",
      "sender_domain_length: 9\n",
      "suspicious_words_subject: 0\n",
      "suspicious_words_body: 2\n",
      "urls_count: 6\n",
      "protocol: https\n",
      "contains_ip: 0\n",
      "url_length: 52\n",
      "TLD_alpha: True\n",
      "subdomain_level: 2\n",
      "slash_count: 6\n",
      "dots_count: 3\n",
      "hyphens_count: 1\n",
      "has_non_latin: False\n",
      "-=-=-=-=-\n",
      "Predykcja:\n",
      "-=-=-=-=-\n",
      "\u001b[32mE-mail bezpieczny 8)\u001b[0m\n"
     ]
    }
   ],
   "source": [
    "mail_example = {\n",
    "'sender': 'Hanna.Wdowicka@ue.poznan.pl',\n",
    "'subject': 'Reaktywacja SKN Estymator',\n",
    "'body': '''\n",
    "        Szanowni Państwo,\n",
    "\n",
    "        Poniżej przekazuję wiadomość od dr Macieja Beęsewicza, prof. UEP. Osoby zainteresowane zachęcam do kontaktu!\n",
    "        Pozdrawiam,\n",
    "        Hanna Wdowicka\n",
    "\n",
    "        Temat: Reaktywacja SKN Estymator\n",
    "\n",
    "        Treść:\n",
    "\n",
    "        Szanowni Państwo,\n",
    "\n",
    "        dr Maciej Beręsewicz z Katedry Statystyki poszukuje studentów/tek zainteresowanych statystyką oraz matematyką, którzy lubią wyznaczać pochodne i całki, do pracy naukowej w ramach działalności koła naukowego Estymator. W szczególności poszukuje osób, których interesuje tematyka rynku pracy, statystyka, programowanie w języku R, posiadających zacięcie matematyczne oraz czas wolny do projektów związanych z analizą ofert pracy oraz szacowania wielkości populacji.\n",
    "\n",
    "        Poniżej przedstawiono przykłady prac, które będą realizowane w ramach pracy w kole:\n",
    "\n",
    "        1. Estimating the number of entities with vacancies using administrative and online data -- https://arxiv.org/abs/2106.03263\n",
    "        2. Inferring job vacancies from online job advertisements -- https://ec.europa.eu/eurostat/web/products-statistical-working-papers/-/ks-tc-20-008\n",
    "        3. Enhancing the Demand for Labour survey by including skills from online job advertisements using model-assisted calibration -- https://ojs.ub.uni-konstanz.de/srm/article/view/7670\n",
    "        4. Maximum entropy classification for record linkage — https://htmlpreview.github.io/?https://github.com/ncn-foreigners/mecRecordLinkage/blob/main/mecRecordLinkage.html\n",
    "        5. Developing methods for determining the number of unauthorized foreigners in Norway — https://www.ssb.no/a/english/publikasjoner/pdf/doc_200811_en/doc_200811_en.pdf\n",
    "\n",
    "        Proszę się kontaktować przez mail maciej.beresewicz@ue.poznan.pl lub przez MS Teams.\n",
    "\n",
    "        Z poważaniem\n",
    "\n",
    "        dr Maciej Beręsewicz, prof. UEP\n",
    "\n",
    "        Katedra Statystyki\n",
    "        Uniwersytet Ekonomiczny w Poznaniu\n",
    "        Department of Statistics\n",
    "        Poznań University of Economics and Business\n",
    "        al. Niepodległości 10 | 61-875 Poznań\n",
    "        tel. + 48 61-854-36-80 | maciej.beresewicz@ue.poznan.pl\n",
    "        www.ue.poznan.pl\n",
    "'''\n",
    "}\n",
    "prediction = rand_forest.predict(\n",
    "    scaler.transform(parse_mail_to_nums(mail_example))\n",
    ")\n",
    "\n",
    "print('-=-=-=-=-\\nPredykcja:\\n-=-=-=-=-')\n",
    "print(colored('Phishing! >:(', 'red')) if prediction == 1 else print(colored('E-mail bezpieczny 8)', 'green'))"
   ]
  },
  {
   "cell_type": "code",
   "execution_count": 32,
   "metadata": {},
   "outputs": [
    {
     "name": "stdout",
     "output_type": "stream",
     "text": [
      "ysadna321\n",
      "sender_domain_num_count  3\n",
      "qwe12 INSIDE\n",
      "sender_num_count: 2\n",
      "sender_domain_num_count: 3\n",
      "sender_domain_length: 9\n",
      "suspicious_words_subject: 1\n",
      "suspicious_words_body: 2\n",
      "urls_count: 1\n",
      "protocol: http\n",
      "contains_ip: 0\n",
      "url_length: 65\n",
      "TLD_alpha: False\n",
      "subdomain_level: 1\n",
      "slash_count: 3\n",
      "dots_count: 3\n",
      "hyphens_count: 0\n",
      "has_non_latin: False\n",
      "-=-=-=-=-\\Predykcja:\n",
      "-=-=-=-\n",
      "\u001b[31mPhishing! >:(\u001b[0m\n"
     ]
    }
   ],
   "source": [
    "mail_example = {\n",
    "'sender': 'x3r0@ysadna321.com',\n",
    "'subject': 'Your xero invoice available now.',\n",
    "'body': '''\n",
    "        Hi,\n",
    "        Thanks for working with us. Your bill for $373.75 was due on 28 Aug 2016.\n",
    "        If you've already paid it, please ignore this email and sorry for bothering you. If you've not paid it, please do so as soon as possible.\n",
    "        To view your bill visit http://in.x312412.qwe12/5LQDhRwfvoQfeDtLDMqkk1JWSqC4CmJt4VVJRSGN.\n",
    "        If you've got any questions, or want to arrange alternative payment don't hesitate to get in touch.\n",
    "        Thanks\n",
    "        NJW Limited\n",
    "        Download PDF\n",
    "'''\n",
    "}\n",
    "prediction = rand_forest.predict(\n",
    "    scaler.transform(parse_mail_to_nums(mail_example))\n",
    ")\n",
    "\n",
    "print('-=-=-=-=-\\Predykcja:\\n-=-=-=-')\n",
    "print(colored('Phishing! >:(', 'red')) if prediction == 1 else print(colored('E-mail bezpieczny 8)', 'green'))"
   ]
  },
  {
   "cell_type": "markdown",
   "metadata": {},
   "source": [
    "# ✨ <font color=\"orange\"><b><i>Rezultat projektu</i></b></font> ✨\n",
    "<hr width=\"45%\" align=\"left\"/>\n",
    "Przy pomocy <font color=\"orange\"><i><b>RandomForestClassifier</i></font></b> udało się wytrenować model z wynikami:\n",
    "<ul>\n",
    "    <li><font color=\"orange\"><b>accuracy</b></font>: 0.91</li>\n",
    "    <li><font color=\"orange\"><b>precision</b></font>:</li>\n",
    "    <ul>\n",
    "        <li>safe: 0.87</li>\n",
    "        <li>phishing: 0.94</li>\n",
    "    </ul>  \n",
    "    <li><font color=\"orange\"><b>recall</b></font>:</li>\n",
    "    <ul>\n",
    "        <li>safe: 0.90</li>\n",
    "        <li>phishing: 0.92</li>\n",
    "    </ul>  \n",
    "    <li><font color=\"orange\"><b>f1</b></font>:</li>\n",
    "    <ul>\n",
    "        <li>safe: 0.89</li>\n",
    "        <li>phishing: 0.93</li>\n",
    "    </ul>  \n",
    "</ul>\n",
    "</br>\n",
    "Problemy projektu\n",
    "<ul>\n",
    "    <li> <font color=\"orange\">mało <b>uniwersalny</b></font> </li>\n",
    "    <li> <font color=\"orange\"><b>model</b></font> za bardzo <font color=\"orange\">opiera się</font> na <font color=\"orange\">odnośnikach</font> znajdujących się w e-mailu </li>\n",
    "    <ul>\n",
    "        <li>\n",
    "            bardzo dużo maili <font color=\"red\"><b>phishingowych</b></font>zawiera <font color=\"orange\">buttony</font>, nie <font color=\"orange\">klasyczne odnośniki</font>\n",
    "        </li>\n",
    "    </ul>\n",
    "\n",
    "<li> <font color=\"orange\">dostęp</font> do jakiegokolwiek sensownego <font color=\"orange\">API</font> jest <font color=\"orange\">płatny</font></li>\n",
    "<ul>\n",
    "    <li> brak sprawdzania <font color=\"orange\">domen w blacklistach</font></li>\n",
    "    <li> brak sprawdzania adresów <font color=\"orange\">e-mail w blacklistach</font></li>\n",
    "    <li> słabe/brak informacji o <font color=\"orange\">szyfrowaniu SSL</font> </li>\n",
    "    <li> brak sprawdzania <font color=\"orange\">wieku</font> domeny </li>\n",
    "</ul>\n",
    "<li> Dane <font color=\"orange\">zbierane</font> w latach <font color=\"orange\"><b>1998</b></font>-<font color=\"orange\"><b>2022</b></font></li>\n",
    "<ul>\n",
    "    <li>prawdopodobnie wiele maili pochodzi z wczesnych lat 2000</li>\n",
    "    <ul>\n",
    "        <li>(bardzo dużo http, nawet wśród bezpiecznych domen)</li>\n",
    "    </ul>\n",
    "</ul>\n",
    "<li> Człowiek jakkolwiek obeznany w internecie bez problemu poradziłby sobie </br>z klasyfikowaniem ataków <font color=\"red\"><b>phishingowych</b></font> z datasetu.</li>\n",
    "<ul>\n",
    "    <li>model w takiej formie w zasadzie nikomu nie służy</li>\n",
    "</ul>\n",
    "</ul>\n",
    "<hr width=\"45%\" align=\"left\"/>"
   ]
  }
 ],
 "metadata": {
  "kernelspec": {
   "display_name": "Python 3",
   "language": "python",
   "name": "python3"
  },
  "language_info": {
   "codemirror_mode": {
    "name": "ipython",
    "version": 3
   },
   "file_extension": ".py",
   "mimetype": "text/x-python",
   "name": "python",
   "nbconvert_exporter": "python",
   "pygments_lexer": "ipython3",
   "version": "3.11.7"
  }
 },
 "nbformat": 4,
 "nbformat_minor": 2
}
