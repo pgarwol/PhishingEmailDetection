{
 "cells": [
  {
   "cell_type": "code",
   "execution_count": 1,
   "metadata": {},
   "outputs": [],
   "source": [
    "import pandas as pd"
   ]
  },
  {
   "cell_type": "code",
   "execution_count": 3,
   "metadata": {},
   "outputs": [
    {
     "name": "stdout",
     "output_type": "stream",
     "text": [
      "   Unnamed: 0  label  urls_count  protocol  contains_ip  url_length  \\\n",
      "0           0    1.0         1.0       0.0          0.0        21.0   \n",
      "1           1    1.0         1.0       0.0          0.0        25.0   \n",
      "2           2    1.0         3.0       0.0          0.0        68.0   \n",
      "3           3    0.0         3.0       0.0          0.0        14.0   \n",
      "4           4    1.0         1.0       0.0          0.0       136.0   \n",
      "\n",
      "   TLD_alpha  subdomain_level  slash_count  dots_count  hyphens_count  \\\n",
      "0        1.0              0.0          3.0         1.0            0.0   \n",
      "1        1.0              1.0          2.0         2.0            0.0   \n",
      "2        1.0              1.0          6.0         4.0            0.0   \n",
      "3        1.0              1.0          0.0         2.0            0.0   \n",
      "4        1.0              2.0          4.0         4.0            2.0   \n",
      "\n",
      "   has_non_latin  \n",
      "0            0.0  \n",
      "1            0.0  \n",
      "2            0.0  \n",
      "3            0.0  \n",
      "4            0.0  \n"
     ]
    }
   ],
   "source": [
    "learning_set = pd.read_csv('ML_DataFrame.csv')\n",
    "print(learning_set.head())"
   ]
  },
  {
   "cell_type": "code",
   "execution_count": null,
   "metadata": {},
   "outputs": [],
   "source": []
  }
 ],
 "metadata": {
  "kernelspec": {
   "display_name": "Python 3",
   "language": "python",
   "name": "python3"
  },
  "language_info": {
   "codemirror_mode": {
    "name": "ipython",
    "version": 3
   },
   "file_extension": ".py",
   "mimetype": "text/x-python",
   "name": "python",
   "nbconvert_exporter": "python",
   "pygments_lexer": "ipython3",
   "version": "3.11.6"
  }
 },
 "nbformat": 4,
 "nbformat_minor": 2
}
