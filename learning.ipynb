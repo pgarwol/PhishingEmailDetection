{
 "cells": [
  {
   "cell_type": "markdown",
   "metadata": {},
   "source": [
    "# Predykcja ataku <font color=\"DarkRed\"><b>phishingowego</b></font> w wiadomości e-mail za pomocą <font color=\"orange\"><b><i>nadzorowanego nauczania maszynowego</i></b>o</font>\n",
    "Dataset: \n",
    "<ul>\n",
    "    <li><i><b>Phishing Email Curated Datasets</b></i></li>\n",
    "    <ul>\n",
    "        <li><a href=\"https://zenodo.org/records/8339691\" target=\"_blank\" style=\"color: orange\">https://zenodo.org/records/8339691</a></li>\n",
    "    </ul>\n",
    "</ul>"
   ]
  },
  {
   "cell_type": "markdown",
   "metadata": {},
   "source": [
    "### Najważniejsze użyte <font color=\"orange\">moduły</font>\n",
    "<ul>\n",
    "    <li> <b>pandas</b> - praca z <i>Data Framami</i></li>\n",
    "    <li> <b>numpy</b> - obliczenia</li>\n",
    "    <li> <b>matplotlib.pyplot</b> - wizualizacja</li>\n",
    "    <li> <b>sklearn</b> - wszelakie narzędzia do <i>Machine Learningu</i></li>\n",
    "</ul>"
   ]
  },
  {
   "cell_type": "code",
   "execution_count": 1,
   "metadata": {},
   "outputs": [
    {
     "name": "stdout",
     "output_type": "stream",
     "text": [
      "CPU Cores:  12\n",
      "Used CPU Cores:  -1\n"
     ]
    }
   ],
   "source": [
    "import pandas as pd\n",
    "import numpy as np\n",
    "\n",
    "import matplotlib.pyplot as plt\n",
    "\n",
    "from sklearn.model_selection import KFold, train_test_split, cross_val_score, GridSearchCV\n",
    "from sklearn.preprocessing import StandardScaler, MultiLabelBinarizer\n",
    "from sklearn.metrics import multilabel_confusion_matrix, ConfusionMatrixDisplay, roc_auc_score, roc_curve, auc\n",
    "from sklearn.ensemble import RandomForestClassifier\n",
    "from sklearn.neighbors import KNeighborsClassifier\n",
    "from sklearn.tree import DecisionTreeClassifier\n",
    "import sklearn.metrics as skm\n",
    "\n",
    "from unidecode import unidecode\n",
    "from termcolor import colored\n",
    "import import_ipynb\n",
    "import os\n",
    "import re\n",
    "\n",
    "cores = os.cpu_count()\n",
    "cpu_usage = 'high'\n",
    "\n",
    "if cpu_usage == 'high':\n",
    "    cores_used = -1\n",
    "elif cpu_usage == 'medium':\n",
    "    cores_used = cores // 2\n",
    "else:\n",
    "    cores_used = 1\n",
    "\n",
    "\n",
    "print('CPU Cores: ', cores)\n",
    "print('Used CPU Cores: ', cores_used)"
   ]
  },
  {
   "cell_type": "markdown",
   "metadata": {},
   "source": [
    "### Wczytanie przygotowanego <font color=\"orange\"><b>data framu</b></font>"
   ]
  },
  {
   "cell_type": "code",
   "execution_count": 2,
   "metadata": {},
   "outputs": [
    {
     "name": "stdout",
     "output_type": "stream",
     "text": [
      "   is_phishing  is_safe  suspicious_words_subject  suspicious_words_body  \\\n",
      "0          1.0      0.0                       0.0                    2.0   \n",
      "1          1.0      0.0                       0.0                    0.0   \n",
      "2          1.0      0.0                       0.0                    4.0   \n",
      "\n",
      "   sender_nums_count  sender_domain_num_count  sender_domain_length  \\\n",
      "0                0.0                      0.0                   6.0   \n",
      "1                4.0                      0.0                   6.0   \n",
      "2                0.0                      0.0                  16.0   \n",
      "\n",
      "   urls_count  protocol  contains_ip  url_length  TLD_alpha  subdomain_level  \\\n",
      "0         1.0       0.0          0.0        21.0        1.0              0.0   \n",
      "1         1.0       0.0          0.0        25.0        1.0              1.0   \n",
      "2         3.0       0.0          0.0       107.0        1.0              1.0   \n",
      "\n",
      "   slash_count  dots_count  hyphens_count  has_non_latin  \n",
      "0          3.0         1.0            0.0            0.0  \n",
      "1          2.0         2.0            0.0            0.0  \n",
      "2          6.0         5.0            0.0            0.0  \n"
     ]
    }
   ],
   "source": [
    "learning_set = pd.read_csv('ML_DataFrame.csv', index_col=0)\n",
    "print(learning_set.head(3))"
   ]
  },
  {
   "cell_type": "code",
   "execution_count": 3,
   "metadata": {},
   "outputs": [
    {
     "name": "stdout",
     "output_type": "stream",
     "text": [
      "(25614, 17)\n",
      "(16044, 17)\n"
     ]
    }
   ],
   "source": [
    "print(learning_set[learning_set['is_phishing']==1.0].shape)\n",
    "print(learning_set[learning_set['is_phishing']==0.0].shape)"
   ]
  },
  {
   "cell_type": "markdown",
   "metadata": {},
   "source": [
    "### Usunięcie <font color=\"orange\"><b>wierszy</b></font> z <font color=\"orange\">pustym wartościami</font>"
   ]
  },
  {
   "cell_type": "code",
   "execution_count": 4,
   "metadata": {},
   "outputs": [
    {
     "name": "stdout",
     "output_type": "stream",
     "text": [
      "is_phishing                  0\n",
      "is_safe                      0\n",
      "suspicious_words_subject     0\n",
      "suspicious_words_body        0\n",
      "sender_nums_count            0\n",
      "sender_domain_num_count      0\n",
      "sender_domain_length         0\n",
      "urls_count                   0\n",
      "protocol                     0\n",
      "contains_ip                  0\n",
      "url_length                   0\n",
      "TLD_alpha                    0\n",
      "subdomain_level             84\n",
      "slash_count                  0\n",
      "dots_count                   0\n",
      "hyphens_count                0\n",
      "has_non_latin                0\n",
      "dtype: int64\n"
     ]
    }
   ],
   "source": [
    "print(learning_set.isna().sum())\n",
    "learning_set.dropna(inplace=True)"
   ]
  },
  {
   "cell_type": "markdown",
   "metadata": {},
   "source": [
    "### Wybranie <font color=\"orange\"><b><i>X</i></b></font> i <font color=\"orange\"><b><i>y</i></b></font>\n",
    "X:\n",
    "<ul>\n",
    "    <li> suspicious_words_subject </li>\n",
    "    <li> suspicious_words_body </li>\n",
    "    <li> sender_nums_count </li>\n",
    "    <li> sender_domain_num_count </li>\n",
    "    <li> sender_domain_length </li>\n",
    "    <li> urls_count </li>\n",
    "    <li> protocol </li>\n",
    "    <li> contains_ip </li>\n",
    "    <li> url_length </li>\n",
    "    <li> TLD_alpha </li>\n",
    "    <li> subdomain_level </li>\n",
    "    <li> slash_count </li>\n",
    "    <li> dots_count </li>\n",
    "    <li> hyphens_count </li>\n",
    "    <li> has_non_latin </li>\n",
    "</ul>\n",
    "y:\n",
    "<ul>\n",
    "    <li> is_phishing </li>\n",
    "    <li> is_safe </li>\n",
    "</ul>"
   ]
  },
  {
   "cell_type": "code",
   "execution_count": 5,
   "metadata": {},
   "outputs": [
    {
     "name": "stdout",
     "output_type": "stream",
     "text": [
      "(41574, 15) (41574,)\n"
     ]
    }
   ],
   "source": [
    "X = learning_set.loc[:, 'suspicious_words_subject':'has_non_latin'].values\n",
    "y = learning_set.loc[: , ['is_safe']].values.ravel()\n",
    "print(X.shape, y.shape)"
   ]
  },
  {
   "cell_type": "markdown",
   "metadata": {},
   "source": [
    "### Rozdzielanie <font color=\"orange\"><b><i>X</i></b></font> i <font color=\"orange\"><b><i>y</i></b></font> na <font color=\"orange\">treningowe</font> i <font color=\"orange\">testowe zestawy</font>"
   ]
  },
  {
   "cell_type": "code",
   "execution_count": 6,
   "metadata": {},
   "outputs": [],
   "source": [
    "X_train, X_test, y_train, y_test = train_test_split(X, y, test_size=0.2, random_state=19)"
   ]
  },
  {
   "cell_type": "markdown",
   "metadata": {},
   "source": [
    "### <font color=\"orange\">Skalujemy</font> wartości <font color=\"orange\"><b><i>X</i></b>-ów</font>"
   ]
  },
  {
   "cell_type": "code",
   "execution_count": 7,
   "metadata": {},
   "outputs": [],
   "source": [
    "scaler = StandardScaler()\n",
    "X_train = scaler.fit_transform(X_train)\n",
    "X_test = scaler.transform(X_test)"
   ]
  },
  {
   "cell_type": "code",
   "execution_count": 8,
   "metadata": {},
   "outputs": [
    {
     "name": "stdout",
     "output_type": "stream",
     "text": [
      "(33259, 15) (8315, 15) (33259,) (8315,)\n"
     ]
    }
   ],
   "source": [
    "print(X_train.shape, X_test.shape, y_train.shape, y_test.shape)"
   ]
  },
  {
   "cell_type": "markdown",
   "metadata": {},
   "source": [
    "## Hyperparameter Tuning"
   ]
  },
  {
   "cell_type": "code",
   "execution_count": 9,
   "metadata": {},
   "outputs": [],
   "source": [
    "kf = KFold(n_splits=6, shuffle=True, random_state=13)\n",
    "models = {}"
   ]
  },
  {
   "cell_type": "markdown",
   "metadata": {},
   "source": [
    "### Szukanie <font color=\"orange\">najlepszych hiperparametrów</font> dla <font color=\"orange\"><b><i>KNeighborsClassifier</i></b></font>\n"
   ]
  },
  {
   "cell_type": "code",
   "execution_count": 10,
   "metadata": {},
   "outputs": [],
   "source": [
    "params = {\n",
    "    'weights': ['uniform', 'distance'],\n",
    "    'n_neighbors': range(4, 41, 2),\n",
    "    'p': [1, 2],\n",
    "}\n",
    "knn = KNeighborsClassifier()\n",
    "knn_cv = GridSearchCV(knn, scoring='f1', param_grid=params, cv=kf, refit=True, n_jobs=cores_used)\n",
    "models.update({'KNeighborsClassifier': knn_cv.fit(X_train, y_train)})"
   ]
  },
  {
   "cell_type": "markdown",
   "metadata": {},
   "source": [
    "### Szukanie <font color=\"orange\">najlepszych hiperparametrów</font> dla <font color=\"orange\"><b><i>DecisionTreeClassifier</i></b></font> "
   ]
  },
  {
   "cell_type": "code",
   "execution_count": 11,
   "metadata": {},
   "outputs": [],
   "source": [
    "params = {\n",
    "    'criterion': ['gini', 'entropy'],\n",
    "    'min_samples_split': np.linspace(10, 50, 5, dtype=int),\n",
    "    'min_samples_leaf': np.linspace(10, 50, 5, dtype=int),\n",
    "}\n",
    "decision_tree = DecisionTreeClassifier(max_depth=None)\n",
    "decision_tree_cv = GridSearchCV(decision_tree, scoring='f1', param_grid=params, cv=kf, refit=True, n_jobs=cores_used)\n",
    "models.update({'DecisionTreeClassifier': decision_tree_cv.fit(X_train, y_train)})"
   ]
  },
  {
   "cell_type": "markdown",
   "metadata": {},
   "source": [
    "### Szukanie <font color=\"orange\">najlepszych hiperparametrów</font> dla <font color=\"orange\"><b><i>RandomForestClassifier</i></b></font> "
   ]
  },
  {
   "cell_type": "code",
   "execution_count": 12,
   "metadata": {},
   "outputs": [],
   "source": [
    "params = {\n",
    "    'n_estimators': [500, 750, 1000],\n",
    "    'min_samples_split': np.linspace(2, 11, 3, dtype=int),\n",
    "    'min_samples_leaf': np.linspace(2, 11, 3, dtype=int)\n",
    "}\n",
    "rand_forest = RandomForestClassifier(max_depth=None)\n",
    "rand_forest_cv = GridSearchCV(rand_forest,\n",
    "                              param_grid=params,\n",
    "                              scoring='f1',\n",
    "                              cv=kf,\n",
    "                              refit=True,\n",
    "                              n_jobs=cores_used)\n",
    "models.update({'RandomForestClassifier': rand_forest_cv.fit(X_train, y_train)})"
   ]
  },
  {
   "cell_type": "markdown",
   "metadata": {},
   "source": [
    "## Ewaluacja <font color=\"orange\"><b>estymatorów</b></font>"
   ]
  },
  {
   "cell_type": "code",
   "execution_count": 13,
   "metadata": {},
   "outputs": [
    {
     "name": "stdout",
     "output_type": "stream",
     "text": [
      "\n",
      "Najlepsze parametry dla estymatora KNeighborsClassifier:\n",
      "n_neighbors: 8\n",
      "p: 1\n",
      "weights: distance\n"
     ]
    },
    {
     "ename": "KeyboardInterrupt",
     "evalue": "",
     "output_type": "error",
     "traceback": [
      "\u001b[1;31m---------------------------------------------------------------------------\u001b[0m",
      "\u001b[1;31mKeyboardInterrupt\u001b[0m                         Traceback (most recent call last)",
      "\u001b[1;32mc:\\Users\\Patryk\\Documents\\GitHub\\PhishingEmailDetection\\learning.ipynb Cell 25\u001b[0m line \u001b[0;36m9\n\u001b[0;32m      <a href='vscode-notebook-cell:/c%3A/Users/Patryk/Documents/GitHub/PhishingEmailDetection/learning.ipynb#X33sZmlsZQ%3D%3D?line=5'>6</a>\u001b[0m \u001b[39mfor\u001b[39;00m param, val \u001b[39min\u001b[39;00m model\u001b[39m.\u001b[39mbest_params_\u001b[39m.\u001b[39mitems():\n\u001b[0;32m      <a href='vscode-notebook-cell:/c%3A/Users/Patryk/Documents/GitHub/PhishingEmailDetection/learning.ipynb#X33sZmlsZQ%3D%3D?line=6'>7</a>\u001b[0m     \u001b[39mprint\u001b[39m(\u001b[39m'\u001b[39m\u001b[39m{}\u001b[39;00m\u001b[39m: \u001b[39m\u001b[39m{}\u001b[39;00m\u001b[39m'\u001b[39m\u001b[39m.\u001b[39mformat(param, val), end\u001b[39m=\u001b[39m\u001b[39m'\u001b[39m\u001b[39m\\n\u001b[39;00m\u001b[39m'\u001b[39m)\n\u001b[1;32m----> <a href='vscode-notebook-cell:/c%3A/Users/Patryk/Documents/GitHub/PhishingEmailDetection/learning.ipynb#X33sZmlsZQ%3D%3D?line=8'>9</a>\u001b[0m cv_results \u001b[39m=\u001b[39m cross_val_score(model,\n\u001b[0;32m     <a href='vscode-notebook-cell:/c%3A/Users/Patryk/Documents/GitHub/PhishingEmailDetection/learning.ipynb#X33sZmlsZQ%3D%3D?line=9'>10</a>\u001b[0m                              X_train,\n\u001b[0;32m     <a href='vscode-notebook-cell:/c%3A/Users/Patryk/Documents/GitHub/PhishingEmailDetection/learning.ipynb#X33sZmlsZQ%3D%3D?line=10'>11</a>\u001b[0m                              y_train,\n\u001b[0;32m     <a href='vscode-notebook-cell:/c%3A/Users/Patryk/Documents/GitHub/PhishingEmailDetection/learning.ipynb#X33sZmlsZQ%3D%3D?line=11'>12</a>\u001b[0m                              scoring\u001b[39m=\u001b[39;49m\u001b[39m'\u001b[39;49m\u001b[39mf1\u001b[39;49m\u001b[39m'\u001b[39;49m,\n\u001b[0;32m     <a href='vscode-notebook-cell:/c%3A/Users/Patryk/Documents/GitHub/PhishingEmailDetection/learning.ipynb#X33sZmlsZQ%3D%3D?line=12'>13</a>\u001b[0m                              cv\u001b[39m=\u001b[39;49mkf,\n\u001b[0;32m     <a href='vscode-notebook-cell:/c%3A/Users/Patryk/Documents/GitHub/PhishingEmailDetection/learning.ipynb#X33sZmlsZQ%3D%3D?line=13'>14</a>\u001b[0m                              n_jobs\u001b[39m=\u001b[39;49mcores_used)\n\u001b[0;32m     <a href='vscode-notebook-cell:/c%3A/Users/Patryk/Documents/GitHub/PhishingEmailDetection/learning.ipynb#X33sZmlsZQ%3D%3D?line=14'>15</a>\u001b[0m results\u001b[39m.\u001b[39mupdate({name: cv_results})\n\u001b[0;32m     <a href='vscode-notebook-cell:/c%3A/Users/Patryk/Documents/GitHub/PhishingEmailDetection/learning.ipynb#X33sZmlsZQ%3D%3D?line=16'>17</a>\u001b[0m \u001b[39mif\u001b[39;00m model\u001b[39m.\u001b[39mbest_score_ \u001b[39m>\u001b[39m best_score:\n",
      "File \u001b[1;32m~\\AppData\\Local\\Packages\\PythonSoftwareFoundation.Python.3.11_qbz5n2kfra8p0\\LocalCache\\local-packages\\Python311\\site-packages\\sklearn\\model_selection\\_validation.py:562\u001b[0m, in \u001b[0;36mcross_val_score\u001b[1;34m(estimator, X, y, groups, scoring, cv, n_jobs, verbose, fit_params, pre_dispatch, error_score)\u001b[0m\n\u001b[0;32m    559\u001b[0m \u001b[39m# To ensure multimetric format is not supported\u001b[39;00m\n\u001b[0;32m    560\u001b[0m scorer \u001b[39m=\u001b[39m check_scoring(estimator, scoring\u001b[39m=\u001b[39mscoring)\n\u001b[1;32m--> 562\u001b[0m cv_results \u001b[39m=\u001b[39m cross_validate(\n\u001b[0;32m    563\u001b[0m     estimator\u001b[39m=\u001b[39;49mestimator,\n\u001b[0;32m    564\u001b[0m     X\u001b[39m=\u001b[39;49mX,\n\u001b[0;32m    565\u001b[0m     y\u001b[39m=\u001b[39;49my,\n\u001b[0;32m    566\u001b[0m     groups\u001b[39m=\u001b[39;49mgroups,\n\u001b[0;32m    567\u001b[0m     scoring\u001b[39m=\u001b[39;49m{\u001b[39m\"\u001b[39;49m\u001b[39mscore\u001b[39;49m\u001b[39m\"\u001b[39;49m: scorer},\n\u001b[0;32m    568\u001b[0m     cv\u001b[39m=\u001b[39;49mcv,\n\u001b[0;32m    569\u001b[0m     n_jobs\u001b[39m=\u001b[39;49mn_jobs,\n\u001b[0;32m    570\u001b[0m     verbose\u001b[39m=\u001b[39;49mverbose,\n\u001b[0;32m    571\u001b[0m     fit_params\u001b[39m=\u001b[39;49mfit_params,\n\u001b[0;32m    572\u001b[0m     pre_dispatch\u001b[39m=\u001b[39;49mpre_dispatch,\n\u001b[0;32m    573\u001b[0m     error_score\u001b[39m=\u001b[39;49merror_score,\n\u001b[0;32m    574\u001b[0m )\n\u001b[0;32m    575\u001b[0m \u001b[39mreturn\u001b[39;00m cv_results[\u001b[39m\"\u001b[39m\u001b[39mtest_score\u001b[39m\u001b[39m\"\u001b[39m]\n",
      "File \u001b[1;32m~\\AppData\\Local\\Packages\\PythonSoftwareFoundation.Python.3.11_qbz5n2kfra8p0\\LocalCache\\local-packages\\Python311\\site-packages\\sklearn\\utils\\_param_validation.py:214\u001b[0m, in \u001b[0;36mvalidate_params.<locals>.decorator.<locals>.wrapper\u001b[1;34m(*args, **kwargs)\u001b[0m\n\u001b[0;32m    208\u001b[0m \u001b[39mtry\u001b[39;00m:\n\u001b[0;32m    209\u001b[0m     \u001b[39mwith\u001b[39;00m config_context(\n\u001b[0;32m    210\u001b[0m         skip_parameter_validation\u001b[39m=\u001b[39m(\n\u001b[0;32m    211\u001b[0m             prefer_skip_nested_validation \u001b[39mor\u001b[39;00m global_skip_validation\n\u001b[0;32m    212\u001b[0m         )\n\u001b[0;32m    213\u001b[0m     ):\n\u001b[1;32m--> 214\u001b[0m         \u001b[39mreturn\u001b[39;00m func(\u001b[39m*\u001b[39;49margs, \u001b[39m*\u001b[39;49m\u001b[39m*\u001b[39;49mkwargs)\n\u001b[0;32m    215\u001b[0m \u001b[39mexcept\u001b[39;00m InvalidParameterError \u001b[39mas\u001b[39;00m e:\n\u001b[0;32m    216\u001b[0m     \u001b[39m# When the function is just a wrapper around an estimator, we allow\u001b[39;00m\n\u001b[0;32m    217\u001b[0m     \u001b[39m# the function to delegate validation to the estimator, but we replace\u001b[39;00m\n\u001b[0;32m    218\u001b[0m     \u001b[39m# the name of the estimator by the name of the function in the error\u001b[39;00m\n\u001b[0;32m    219\u001b[0m     \u001b[39m# message to avoid confusion.\u001b[39;00m\n\u001b[0;32m    220\u001b[0m     msg \u001b[39m=\u001b[39m re\u001b[39m.\u001b[39msub(\n\u001b[0;32m    221\u001b[0m         \u001b[39mr\u001b[39m\u001b[39m\"\u001b[39m\u001b[39mparameter of \u001b[39m\u001b[39m\\\u001b[39m\u001b[39mw+ must be\u001b[39m\u001b[39m\"\u001b[39m,\n\u001b[0;32m    222\u001b[0m         \u001b[39mf\u001b[39m\u001b[39m\"\u001b[39m\u001b[39mparameter of \u001b[39m\u001b[39m{\u001b[39;00mfunc\u001b[39m.\u001b[39m\u001b[39m__qualname__\u001b[39m\u001b[39m}\u001b[39;00m\u001b[39m must be\u001b[39m\u001b[39m\"\u001b[39m,\n\u001b[0;32m    223\u001b[0m         \u001b[39mstr\u001b[39m(e),\n\u001b[0;32m    224\u001b[0m     )\n",
      "File \u001b[1;32m~\\AppData\\Local\\Packages\\PythonSoftwareFoundation.Python.3.11_qbz5n2kfra8p0\\LocalCache\\local-packages\\Python311\\site-packages\\sklearn\\model_selection\\_validation.py:309\u001b[0m, in \u001b[0;36mcross_validate\u001b[1;34m(estimator, X, y, groups, scoring, cv, n_jobs, verbose, fit_params, pre_dispatch, return_train_score, return_estimator, return_indices, error_score)\u001b[0m\n\u001b[0;32m    306\u001b[0m \u001b[39m# We clone the estimator to make sure that all the folds are\u001b[39;00m\n\u001b[0;32m    307\u001b[0m \u001b[39m# independent, and that it is pickle-able.\u001b[39;00m\n\u001b[0;32m    308\u001b[0m parallel \u001b[39m=\u001b[39m Parallel(n_jobs\u001b[39m=\u001b[39mn_jobs, verbose\u001b[39m=\u001b[39mverbose, pre_dispatch\u001b[39m=\u001b[39mpre_dispatch)\n\u001b[1;32m--> 309\u001b[0m results \u001b[39m=\u001b[39m parallel(\n\u001b[0;32m    310\u001b[0m     delayed(_fit_and_score)(\n\u001b[0;32m    311\u001b[0m         clone(estimator),\n\u001b[0;32m    312\u001b[0m         X,\n\u001b[0;32m    313\u001b[0m         y,\n\u001b[0;32m    314\u001b[0m         scorers,\n\u001b[0;32m    315\u001b[0m         train,\n\u001b[0;32m    316\u001b[0m         test,\n\u001b[0;32m    317\u001b[0m         verbose,\n\u001b[0;32m    318\u001b[0m         \u001b[39mNone\u001b[39;49;00m,\n\u001b[0;32m    319\u001b[0m         fit_params,\n\u001b[0;32m    320\u001b[0m         return_train_score\u001b[39m=\u001b[39;49mreturn_train_score,\n\u001b[0;32m    321\u001b[0m         return_times\u001b[39m=\u001b[39;49m\u001b[39mTrue\u001b[39;49;00m,\n\u001b[0;32m    322\u001b[0m         return_estimator\u001b[39m=\u001b[39;49mreturn_estimator,\n\u001b[0;32m    323\u001b[0m         error_score\u001b[39m=\u001b[39;49merror_score,\n\u001b[0;32m    324\u001b[0m     )\n\u001b[0;32m    325\u001b[0m     \u001b[39mfor\u001b[39;49;00m train, test \u001b[39min\u001b[39;49;00m indices\n\u001b[0;32m    326\u001b[0m )\n\u001b[0;32m    328\u001b[0m _warn_or_raise_about_fit_failures(results, error_score)\n\u001b[0;32m    330\u001b[0m \u001b[39m# For callable scoring, the return type is only know after calling. If the\u001b[39;00m\n\u001b[0;32m    331\u001b[0m \u001b[39m# return type is a dictionary, the error scores can now be inserted with\u001b[39;00m\n\u001b[0;32m    332\u001b[0m \u001b[39m# the correct key.\u001b[39;00m\n",
      "File \u001b[1;32m~\\AppData\\Local\\Packages\\PythonSoftwareFoundation.Python.3.11_qbz5n2kfra8p0\\LocalCache\\local-packages\\Python311\\site-packages\\sklearn\\utils\\parallel.py:65\u001b[0m, in \u001b[0;36mParallel.__call__\u001b[1;34m(self, iterable)\u001b[0m\n\u001b[0;32m     60\u001b[0m config \u001b[39m=\u001b[39m get_config()\n\u001b[0;32m     61\u001b[0m iterable_with_config \u001b[39m=\u001b[39m (\n\u001b[0;32m     62\u001b[0m     (_with_config(delayed_func, config), args, kwargs)\n\u001b[0;32m     63\u001b[0m     \u001b[39mfor\u001b[39;00m delayed_func, args, kwargs \u001b[39min\u001b[39;00m iterable\n\u001b[0;32m     64\u001b[0m )\n\u001b[1;32m---> 65\u001b[0m \u001b[39mreturn\u001b[39;00m \u001b[39msuper\u001b[39;49m()\u001b[39m.\u001b[39;49m\u001b[39m__call__\u001b[39;49m(iterable_with_config)\n",
      "File \u001b[1;32m~\\AppData\\Local\\Packages\\PythonSoftwareFoundation.Python.3.11_qbz5n2kfra8p0\\LocalCache\\local-packages\\Python311\\site-packages\\joblib\\parallel.py:1952\u001b[0m, in \u001b[0;36mParallel.__call__\u001b[1;34m(self, iterable)\u001b[0m\n\u001b[0;32m   1946\u001b[0m \u001b[39m# The first item from the output is blank, but it makes the interpreter\u001b[39;00m\n\u001b[0;32m   1947\u001b[0m \u001b[39m# progress until it enters the Try/Except block of the generator and\u001b[39;00m\n\u001b[0;32m   1948\u001b[0m \u001b[39m# reach the first `yield` statement. This starts the aynchronous\u001b[39;00m\n\u001b[0;32m   1949\u001b[0m \u001b[39m# dispatch of the tasks to the workers.\u001b[39;00m\n\u001b[0;32m   1950\u001b[0m \u001b[39mnext\u001b[39m(output)\n\u001b[1;32m-> 1952\u001b[0m \u001b[39mreturn\u001b[39;00m output \u001b[39mif\u001b[39;00m \u001b[39mself\u001b[39m\u001b[39m.\u001b[39mreturn_generator \u001b[39melse\u001b[39;00m \u001b[39mlist\u001b[39;49m(output)\n",
      "File \u001b[1;32m~\\AppData\\Local\\Packages\\PythonSoftwareFoundation.Python.3.11_qbz5n2kfra8p0\\LocalCache\\local-packages\\Python311\\site-packages\\joblib\\parallel.py:1595\u001b[0m, in \u001b[0;36mParallel._get_outputs\u001b[1;34m(self, iterator, pre_dispatch)\u001b[0m\n\u001b[0;32m   1592\u001b[0m     \u001b[39myield\u001b[39;00m\n\u001b[0;32m   1594\u001b[0m     \u001b[39mwith\u001b[39;00m \u001b[39mself\u001b[39m\u001b[39m.\u001b[39m_backend\u001b[39m.\u001b[39mretrieval_context():\n\u001b[1;32m-> 1595\u001b[0m         \u001b[39myield from\u001b[39;00m \u001b[39mself\u001b[39m\u001b[39m.\u001b[39m_retrieve()\n\u001b[0;32m   1597\u001b[0m \u001b[39mexcept\u001b[39;00m \u001b[39mGeneratorExit\u001b[39;00m:\n\u001b[0;32m   1598\u001b[0m     \u001b[39m# The generator has been garbage collected before being fully\u001b[39;00m\n\u001b[0;32m   1599\u001b[0m     \u001b[39m# consumed. This aborts the remaining tasks if possible and warn\u001b[39;00m\n\u001b[0;32m   1600\u001b[0m     \u001b[39m# the user if necessary.\u001b[39;00m\n\u001b[0;32m   1601\u001b[0m     \u001b[39mself\u001b[39m\u001b[39m.\u001b[39m_exception \u001b[39m=\u001b[39m \u001b[39mTrue\u001b[39;00m\n",
      "File \u001b[1;32m~\\AppData\\Local\\Packages\\PythonSoftwareFoundation.Python.3.11_qbz5n2kfra8p0\\LocalCache\\local-packages\\Python311\\site-packages\\joblib\\parallel.py:1707\u001b[0m, in \u001b[0;36mParallel._retrieve\u001b[1;34m(self)\u001b[0m\n\u001b[0;32m   1702\u001b[0m \u001b[39m# If the next job is not ready for retrieval yet, we just wait for\u001b[39;00m\n\u001b[0;32m   1703\u001b[0m \u001b[39m# async callbacks to progress.\u001b[39;00m\n\u001b[0;32m   1704\u001b[0m \u001b[39mif\u001b[39;00m ((\u001b[39mlen\u001b[39m(\u001b[39mself\u001b[39m\u001b[39m.\u001b[39m_jobs) \u001b[39m==\u001b[39m \u001b[39m0\u001b[39m) \u001b[39mor\u001b[39;00m\n\u001b[0;32m   1705\u001b[0m     (\u001b[39mself\u001b[39m\u001b[39m.\u001b[39m_jobs[\u001b[39m0\u001b[39m]\u001b[39m.\u001b[39mget_status(\n\u001b[0;32m   1706\u001b[0m         timeout\u001b[39m=\u001b[39m\u001b[39mself\u001b[39m\u001b[39m.\u001b[39mtimeout) \u001b[39m==\u001b[39m TASK_PENDING)):\n\u001b[1;32m-> 1707\u001b[0m     time\u001b[39m.\u001b[39msleep(\u001b[39m0.01\u001b[39m)\n\u001b[0;32m   1708\u001b[0m     \u001b[39mcontinue\u001b[39;00m\n\u001b[0;32m   1710\u001b[0m \u001b[39m# We need to be careful: the job list can be filling up as\u001b[39;00m\n\u001b[0;32m   1711\u001b[0m \u001b[39m# we empty it and Python list are not thread-safe by\u001b[39;00m\n\u001b[0;32m   1712\u001b[0m \u001b[39m# default hence the use of the lock\u001b[39;00m\n",
      "\u001b[1;31mKeyboardInterrupt\u001b[0m: "
     ]
    }
   ],
   "source": [
    "best_score = 0\n",
    "results = {}\n",
    "best_estimator = {}\n",
    "for name, model in models.items():\n",
    "    print(f'\\nNajlepsze parametry dla estymatora {name}:')\n",
    "    for param, val in model.best_params_.items():\n",
    "        print('{}: {}'.format(param, val), end='\\n')\n",
    "\n",
    "    cv_results = cross_val_score(model,\n",
    "                                 X_train,\n",
    "                                 y_train,\n",
    "                                 scoring='f1',\n",
    "                                 cv=kf,\n",
    "                                 n_jobs=cores_used)\n",
    "    results.update({name: cv_results})\n",
    "\n",
    "    if model.best_score_ > best_score:\n",
    "        best_estimator.update({\n",
    "            'name': name,\n",
    "            'estimator': model,\n",
    "            'f1':  model.best_score_\n",
    "        })\n",
    "\n",
    "print('\\nNajlepszym estymatorem okazał się {} z wynikiem roc-auc = {}'\n",
    "      .format(best_estimator['name'], best_estimator['f1']))"
   ]
  },
  {
   "cell_type": "code",
   "execution_count": null,
   "metadata": {},
   "outputs": [
    {
     "data": {
      "image/png": "[encoded data removed]",
      "text/plain": [
       "<Figure size 800x1200 with 1 Axes>"
      ]
     },
     "metadata": {},
     "output_type": "display_data"
    }
   ],
   "source": [
    "plt.style.use('seaborn-v0_8')\n",
    "fig, ax = plt.subplots(figsize=(8, 12))\n",
    "\n",
    "boxplot = ax.boxplot(\n",
    "    results.values(),\n",
    "    labels=results.keys(),\n",
    "    patch_artist=True,\n",
    "    boxprops=dict(edgecolor='black'),\n",
    "    whiskerprops=dict(linewidth=1),\n",
    "    capprops=dict(linewidth=1),\n",
    "    medianprops=dict(color='black', linewidth=1),\n",
    "    widths=0.2,\n",
    ")\n",
    "\n",
    "box_colors = ['#fceb03', '#03fcdb', '#90EE90', '#fc9d03', '#FFC0CB']\n",
    "for box, color in zip(boxplot['boxes'], box_colors):\n",
    "    box.set(facecolor=color)\n",
    "\n",
    "ax.set_title('Wyniki walidacji krzyżowej', fontsize=24)\n",
    "ax.tick_params(axis='both', labelsize=17)\n",
    "ax.set_xlabel('Model', fontsize=20)\n",
    "ax.set_ylabel('F1', fontsize=20)\n",
    "ax.set_ylim(0.80, 1)\n",
    "ax.yaxis.grid(True)\n",
    "plt.xticks(rotation=20)\n",
    "\n",
    "plt.tight_layout()\n",
    "plt.show()"
   ]
  },
  {
   "cell_type": "markdown",
   "metadata": {},
   "source": [
    "### Zastosowanie <font color=\"orange\">najskuteczniejszego <b>estymatora</b></font>\n",
    "<ul>\n",
    "    <li>Najlepszy okazał się <font color=\"orange\"><b><i>RandomForestClassifier</i></b></font></li>\n",
    "</ul>\n"
   ]
  },
  {
   "cell_type": "code",
   "execution_count": null,
   "metadata": {},
   "outputs": [
    {
     "data": {
      "image/png": "[encoded data removed]",
      "text/plain": [
       "<Figure size 640x480 with 2 Axes>"
      ]
     },
     "metadata": {},
     "output_type": "display_data"
    },
    {
     "data": {
      "image/png": "[encoded data removed]",
      "text/plain": [
       "<Figure size 640x480 with 2 Axes>"
      ]
     },
     "metadata": {},
     "output_type": "display_data"
    },
    {
     "name": "stdout",
     "output_type": "stream",
     "text": [
      "              precision    recall  f1-score   support\n",
      "\n",
      "        safe       0.92      0.92      0.92      5070\n",
      "    phishing       0.87      0.88      0.87      3245\n",
      "\n",
      "    accuracy                           0.90      8315\n",
      "   macro avg       0.90      0.90      0.90      8315\n",
      "weighted avg       0.90      0.90      0.90      8315\n",
      "\n"
     ]
    }
   ],
   "source": [
    "# Confusion Matrix\n",
    "y_pred = best_estimator['estimator'].predict(X_test)\n",
    "confusion_matrix = skm.confusion_matrix(y_test, y_pred)\n",
    "\n",
    "plt.style.use('default')\n",
    "cm_display = skm.ConfusionMatrixDisplay(\n",
    "    confusion_matrix=confusion_matrix,\n",
    "    display_labels=['safe', 'phishing'])\n",
    "\n",
    "cm_display.plot(cmap='Blues')\n",
    "plt.show()\n",
    "\n",
    "# Wartości %\n",
    "cm_display = skm.ConfusionMatrixDisplay(\n",
    "    confusion_matrix=confusion_matrix/np.sum(confusion_matrix),\n",
    "    display_labels=['safe', 'phishing'])\n",
    "    \n",
    "cm_display.plot(cmap='Blues')\n",
    "plt.show()\n",
    "\n",
    "# Classification report\n",
    "target_names = ['safe', 'phishing']\n",
    "class_report = skm.classification_report(y_test, y_pred, target_names=target_names)\n",
    "print(class_report)"
   ]
  },
  {
   "cell_type": "code",
   "execution_count": null,
   "metadata": {},
   "outputs": [],
   "source": [
    "# # Confusion Matrix\n",
    "# plt.style.use('default')\n",
    "# fig, ax = plt.subplots()\n",
    "# ax = skm.ConfusionMatrixDisplay(\n",
    "#     confusion_matrix=confusion_matrix[0],\n",
    "#     display_labels=['safe', 'phishing'])\n",
    "\n",
    "# ax.plot(cmap='Blues')\n",
    "\n",
    "\n",
    "\n",
    "# # Classification report\n",
    "# target_names = ['safe', 'phishing']\n",
    "# class_report = skm.classification_report(y_test_bin, y_pred_bin, target_names=target_names)\n",
    "# print(class_report)"
   ]
  },
  {
   "cell_type": "markdown",
   "metadata": {},
   "source": [
    "### Tworzymy <font color=\"orange\">metodę</font> do <font color=\"orange\">konwertowania maila</font> na <font color=\"orange\">wartości liczbowe</font> na wzór tych użytych przy nauczaniu modelu"
   ]
  },
  {
   "cell_type": "code",
   "execution_count": null,
   "metadata": {},
   "outputs": [],
   "source": [
    "from unidecode import unidecode\n",
    "import spacy\n",
    "import re\n",
    "\n",
    "nlp = spacy.load('en_core_web_md', disable=[\"parser\", \"ner\"])\n",
    "def import_suspicious_words():\n",
    "    with open('suspicious_words.txt', 'r') as file:\n",
    "        lines = file.readlines()\n",
    "    \n",
    "    suspicious_words = []\n",
    "    for line in lines:\n",
    "        word = line.strip()\n",
    "        suspicious_words.append(word)\n",
    "\n",
    "    suspicious_str = ' '.join(suspicious_words)\n",
    "    doc = nlp(suspicious_str)\n",
    "    suspicious_lemmas = [token.lemma_.lower() for token in doc]\n",
    "\n",
    "    suspicious_set = set(suspicious_lemmas)\n",
    "    return suspicious_set\n",
    "def parse_mail_to_nums(mail: dict):\n",
    "    \n",
    "    sender = mail['sender']\n",
    "    splitted = sender.split('@')\n",
    "    \n",
    "    sender_name = splitted[0]\n",
    "    sender_domain = splitted[1]\n",
    "    \n",
    "    sender_num_count = sum(1 for char in sender_name if char.isnumeric())\n",
    "\n",
    "    splitted_dom = sender_domain.split('.')[:-1]\n",
    "    domain_noTLD = '.'.join(splitted_dom)\n",
    "    print(domain_noTLD)\n",
    "    sender_domain_num_count = sum(1 for char in domain_noTLD if char.isnumeric())\n",
    "    print('sender_domain_num_count ', sender_domain_num_count)\n",
    "    sender_domain_length = len(domain_noTLD)\n",
    "    \n",
    "    # subject and body text\n",
    "    suspicious_set = import_suspicious_words()\n",
    "\n",
    "    doc = nlp(mail['subject'])\n",
    "    tokens = [token.lemma_.lower() for token in doc if token.text.isalnum()]\n",
    "    unique_words = set(tokens)\n",
    "    sus_words = unique_words.intersection(suspicious_set)\n",
    "    suspicious_words_subject = len(sus_words)\n",
    "\n",
    "    doc = nlp(mail['body'])\n",
    "    tokens = [token.lemma_.lower() for token in doc if token.text.isalnum()]\n",
    "    unique_words = set(tokens)\n",
    "    sus_words = unique_words.intersection(suspicious_set)\n",
    "    suspicious_words_body = len(sus_words)\n",
    "\n",
    "\n",
    "    # body urls\n",
    "    body = mail['body']\n",
    "    url_pattern = re.compile(r'https?://\\S+|www\\.\\S+')\n",
    "    urls = re.findall(url_pattern, body)\n",
    "    # urls_count\n",
    "    urls_count = len(urls)\n",
    "    url = urls[np.random.randint(0, urls_count)]\n",
    "    # protocol\n",
    "    protocol = url[:5].lower()\n",
    "    protocol = 'https' if protocol == 'https' else 'http'\n",
    "    # contains_ip\n",
    "    IP_pattern = re.compile(r'\\b(?:\\d{1,3}\\.){3}\\d{1,3}\\b|\\b(?:[0-9a-fA-F]{1,4}:){7}[0-9a-fA-F]{1,4}\\b')\n",
    "    IPs = IP_pattern.findall(url)\n",
    "    contains_ip = 1 if IPs else 0\n",
    "    # url_length\n",
    "    url_length = len(url)\n",
    "    # TLD_alpha\n",
    "    pattern = re.compile(r'https?://([^/?]+)')\n",
    "    match = pattern.match(url)\n",
    "    if match:\n",
    "        domain = match.group(1)\n",
    "        if '/' in domain:\n",
    "            domain = domain.split('/')[0]\n",
    "    else:\n",
    "        domain = url\n",
    "    \n",
    "    split_domain = domain.split('.')\n",
    "    n = len(split_domain)\n",
    "    delimiters = ['/', ':', ')', ']', '%', '_', '=', ',', '>', '\"', '#', '!']\n",
    "    # Check if not weird ending\n",
    "    after_dot = split_domain[n-1]\n",
    "    if len(after_dot) > 2 and not after_dot.isalpha():\n",
    "        after_dot = after_dot.split('/')[0]\n",
    "        \n",
    "        if len(after_dot) > 2 and not after_dot.isalpha():\n",
    "            print(after_dot, 'INSIDE')\n",
    "            for delimiter in delimiters:\n",
    "                after_dot = \" \".join(after_dot.split(delimiter))\n",
    "            \n",
    "            after_dot = after_dot.split()[0]\n",
    "\n",
    "    TLD = '.'+after_dot.lower()\n",
    "    TLD_alpha = TLD[1:].isalpha()\n",
    "    # subdomain_level\n",
    "    subdomain_level = domain.count('.')-1\n",
    "    # slash_count\n",
    "    slash_count = url.count('/')\n",
    "    # dots_count\n",
    "    dots_count = url.count('.')\n",
    "    # hyphens_count\n",
    "    hyphens_count = url.count('-')\n",
    "    # has_non_latin\n",
    "    ascii = unidecode(url)\n",
    "    has_non_latin = url != ascii\n",
    "\n",
    "    data = {\n",
    "        'sender_num_count': sender_num_count,\n",
    "        'sender_domain_num_count': sender_domain_num_count,\n",
    "        'sender_domain_length': sender_domain_length,\n",
    "        'suspicious_words_subject': suspicious_words_subject,\n",
    "        'suspicious_words_body': suspicious_words_body,\n",
    "        'urls_count': urls_count,\n",
    "        'protocol': protocol,\n",
    "        'contains_ip': contains_ip,\n",
    "        'url_length': url_length,\n",
    "        'TLD_alpha': TLD_alpha,\n",
    "        'subdomain_level': subdomain_level,\n",
    "        'slash_count': slash_count,\n",
    "        'dots_count': dots_count,\n",
    "        'hyphens_count': hyphens_count,\n",
    "        'has_non_latin': has_non_latin,\n",
    "    }\n",
    "\n",
    "    for k, v in data.items():\n",
    "        print('{}: {}'.format(k, v), end='\\n')\n",
    "\n",
    "    # numeric values\n",
    "    urls_count_out = urls_count if urls_count <= 2 else 3\n",
    "    protocol_out = 1 if protocol=='https' else 0\n",
    "    contains_ip_out = contains_ip\n",
    "    url_length_out = url_length\n",
    "    TLD_alpha_out = 1 if TLD_alpha is True else 0\n",
    "    subdomain_level_out = subdomain_level if subdomain_level <= 2 else 3\n",
    "    slash_count_out = slash_count if slash_count <= 5 else 6\n",
    "    dots_count_out = dots_count if dots_count <= 4 else 5\n",
    "    hyphens_count_out = hyphens_count if hyphens_count <= 1 else 2\n",
    "    has_non_latin_out = has_non_latin\n",
    "\n",
    "    X_output = np.array(list([\n",
    "        [sender_num_count],\n",
    "        [sender_domain_num_count],\n",
    "        [sender_domain_length],\n",
    "        [suspicious_words_subject],\n",
    "        [suspicious_words_body],\n",
    "        [urls_count_out],\n",
    "        [protocol_out],\n",
    "        [contains_ip_out],\n",
    "        [url_length_out],\n",
    "        [TLD_alpha_out],\n",
    "        [subdomain_level_out],\n",
    "        [slash_count_out],\n",
    "        [dots_count_out],\n",
    "        [hyphens_count_out],\n",
    "        [has_non_latin_out]\n",
    "    ]))\n",
    "    return X_output.reshape(1, -1)"
   ]
  },
  {
   "cell_type": "markdown",
   "metadata": {},
   "source": [
    "### Testy na <font color=\"orange\">życiowych przykładach</font>"
   ]
  },
  {
   "cell_type": "code",
   "execution_count": null,
   "metadata": {},
   "outputs": [
    {
     "name": "stdout",
     "output_type": "stream",
     "text": [
      "ue.poznan\n",
      "sender_domain_num_count  0\n",
      "sender_num_count: 0\n",
      "sender_domain_num_count: 0\n",
      "sender_domain_length: 9\n",
      "suspicious_words_subject: 0\n",
      "suspicious_words_body: 2\n",
      "urls_count: 6\n",
      "protocol: https\n",
      "contains_ip: 0\n",
      "url_length: 32\n",
      "TLD_alpha: True\n",
      "subdomain_level: 0\n",
      "slash_count: 4\n",
      "dots_count: 2\n",
      "hyphens_count: 0\n",
      "has_non_latin: False\n",
      "-=-=-=-=-\n",
      "Predykcja:\n",
      "-=-=-=-=-\n",
      "\u001b[32mE-mail bezpieczny 8)\u001b[0m\n"
     ]
    }
   ],
   "source": [
    "mail_example = {\n",
    "'sender': 'Hanna.Wdowicka@ue.poznan.pl',\n",
    "'subject': 'Reaktywacja SKN',\n",
    "'body': '''\n",
    "        Szanowni Państwo,\n",
    "\n",
    "        Poniżej przekazuję wiadomość od dr Macieja Beęsewicza, prof. UEP. Osoby zainteresowane zachęcam do kontaktu!\n",
    "        Pozdrawiam,\n",
    "        Hanna Wdowicka\n",
    "\n",
    "        Temat: Reaktywacja SKN Estymator\n",
    "\n",
    "        Treść:\n",
    "\n",
    "        Szanowni Państwo,\n",
    "\n",
    "        dr Maciej Beręsewicz z Katedry Statystyki poszukuje studentów/tek zainteresowanych statystyką oraz matematyką, którzy lubią wyznaczać pochodne i całki, do pracy naukowej w ramach działalności koła naukowego Estymator. W szczególności poszukuje osób, których interesuje tematyka rynku pracy, statystyka, programowanie w języku R, posiadających zacięcie matematyczne oraz czas wolny do projektów związanych z analizą ofert pracy oraz szacowania wielkości populacji.\n",
    "\n",
    "        Poniżej przedstawiono przykłady prac, które będą realizowane w ramach pracy w kole:\n",
    "\n",
    "        1. Estimating the number of entities with vacancies using administrative and online data -- https://arxiv.org/abs/2106.03263\n",
    "        2. Inferring job vacancies from online job advertisements -- https://ec.europa.eu/eurostat/web/products-statistical-working-papers/-/ks-tc-20-008\n",
    "        3. Enhancing the Demand for Labour survey by including skills from online job advertisements using model-assisted calibration -- https://ojs.ub.uni-konstanz.de/srm/article/view/7670\n",
    "        4. Maximum entropy classification for record linkage — https://htmlpreview.github.io/?https://github.com/ncn-foreigners/mecRecordLinkage/blob/main/mecRecordLinkage.html\n",
    "        5. Developing methods for determining the number of unauthorized foreigners in Norway — https://www.ssb.no/a/english/publikasjoner/pdf/doc_200811_en/doc_200811_en.pdf\n",
    "\n",
    "        Proszę się kontaktować przez mail maciej.beresewicz@ue.poznan.pl lub przez MS Teams.\n",
    "\n",
    "        Z poważaniem\n",
    "\n",
    "        dr Maciej Beręsewicz, prof. UEP\n",
    "\n",
    "        Katedra Statystyki\n",
    "        Uniwersytet Ekonomiczny w Poznaniu\n",
    "        Department of Statistics\n",
    "        Poznań University of Economics and Business\n",
    "        al. Niepodległości 10 | 61-875 Poznań\n",
    "        tel. + 48 61-854-36-80 | maciej.beresewicz@ue.poznan.pl\n",
    "        www.ue.poznan.pl\n",
    "'''\n",
    "}\n",
    "prediction = rand_forest_cv.best_estimator_.predict(\n",
    "    scaler.transform(parse_mail_to_nums(mail_example))\n",
    ")\n",
    "\n",
    "print('-=-=-=-=-\\nPredykcja:\\n-=-=-=-=-')\n",
    "print(colored('Phishing! >:(', 'red')) if prediction[0] == 1 else print(colored('E-mail bezpieczny 8)', 'green'))"
   ]
  },
  {
   "cell_type": "code",
   "execution_count": null,
   "metadata": {},
   "outputs": [
    {
     "name": "stdout",
     "output_type": "stream",
     "text": [
      "ysadna321\n",
      "sender_domain_num_count  3\n",
      "qweds12 INSIDE\n",
      "sender_num_count: 2\n",
      "sender_domain_num_count: 3\n",
      "sender_domain_length: 9\n",
      "suspicious_words_subject: 1\n",
      "suspicious_words_body: 2\n",
      "urls_count: 1\n",
      "protocol: http\n",
      "contains_ip: 0\n",
      "url_length: 67\n",
      "TLD_alpha: False\n",
      "subdomain_level: 1\n",
      "slash_count: 3\n",
      "dots_count: 3\n",
      "hyphens_count: 0\n",
      "has_non_latin: False\n",
      "-=-=-=-=-\\Predykcja:\n",
      "-=-=-=-\n",
      "\u001b[32mE-mail bezpieczny 8)\u001b[0m\n"
     ]
    }
   ],
   "source": [
    "mail_example = {\n",
    "'sender': 'x3r0@ysadna321.com',\n",
    "'subject': 'Your xero invoice available now.',\n",
    "'body': '''\n",
    "        Hi,\n",
    "        Thanks for working with us. Your bill for $373.75 was due on 28 Aug 2016.\n",
    "        If you've already paid it, please ignore this email and sorry for bothering you. If you've not paid it, please do so as soon as possible.\n",
    "        To view your bill visit http://in.x312412.qweds12/5LQDhRwfvoQfeDtLDMqkk1JWSqC4CmJt4VVJRSGN.\n",
    "        If you've got any questions, or want to arrange alternative payment don't hesitate to get in touch.\n",
    "        Thanks\n",
    "        NJW Limited\n",
    "        Download PDF\n",
    "'''\n",
    "}\n",
    "prediction = rand_forest_cv.best_estimator_.predict(\n",
    "    scaler.transform(parse_mail_to_nums(mail_example))\n",
    ")\n",
    "\n",
    "print('-=-=-=-=-\\Predykcja:\\n-=-=-=-')\n",
    "print(colored('Phishing! >:(', 'red')) if prediction[0] == 1 else print(colored('E-mail bezpieczny 8)', 'green'))"
   ]
  },
  {
   "cell_type": "markdown",
   "metadata": {},
   "source": [
    "# ✨ <font color=\"orange\"><b><i>Rezultat projektu</i></b></font> ✨\n",
    "<hr width=\"45%\" align=\"left\"/>\n",
    "Przy pomocy <font color=\"orange\"><i><b>RandomForestClassifier</i></font></b> udało się wytrenować model z wynikami:\n",
    "<ul>\n",
    "    <li><font color=\"orange\"><b>accuracy</b></font>: 0.91</li>\n",
    "    <li><font color=\"orange\"><b>precision</b></font>:</li>\n",
    "    <ul>\n",
    "        <li>safe: 0.87</li>\n",
    "        <li>phishing: 0.94</li>\n",
    "    </ul>  \n",
    "    <li><font color=\"orange\"><b>recall</b></font>:</li>\n",
    "    <ul>\n",
    "        <li>safe: 0.90</li>\n",
    "        <li>phishing: 0.92</li>\n",
    "    </ul>  \n",
    "    <li><font color=\"orange\"><b>f1</b></font>:</li>\n",
    "    <ul>\n",
    "        <li>safe: 0.89</li>\n",
    "        <li>phishing: 0.93</li>\n",
    "    </ul>  \n",
    "</ul>\n",
    "</br>\n",
    "Problemy projektu\n",
    "<ul>\n",
    "    <li> <font color=\"orange\">mało <b>uniwersalny</b></font> </li>\n",
    "    <li> <font color=\"orange\"><b>model</b></font> za bardzo <font color=\"orange\">opiera się</font> na <font color=\"orange\">odnośnikach</font> znajdujących się w e-mailu </li>\n",
    "    <ul>\n",
    "        <li>\n",
    "            bardzo dużo maili <font color=\"red\"><b>phishingowych</b></font>zawiera <font color=\"orange\">buttony</font>, nie <font color=\"orange\">klasyczne odnośniki</font>\n",
    "        </li>\n",
    "    </ul>\n",
    "\n",
    "<li> <font color=\"orange\">dostęp</font> do jakiegokolwiek sensownego <font color=\"orange\">API</font> jest <font color=\"orange\">płatny</font></li>\n",
    "<ul>\n",
    "    <li> brak sprawdzania <font color=\"orange\">domen w blacklistach</font></li>\n",
    "    <li> brak sprawdzania adresów <font color=\"orange\">e-mail w blacklistach</font></li>\n",
    "    <li> słabe/brak informacji o <font color=\"orange\">szyfrowaniu SSL</font> </li>\n",
    "    <li> brak sprawdzania <font color=\"orange\">wieku</font> domeny </li>\n",
    "</ul>\n",
    "<li> Dane <font color=\"orange\">zbierane</font> w latach <font color=\"orange\"><b>1998</b></font>-<font color=\"orange\"><b>2022</b></font></li>\n",
    "<ul>\n",
    "    <li>prawdopodobnie wiele maili pochodzi z wczesnych lat 2000</li>\n",
    "    <ul>\n",
    "        <li>(bardzo dużo http, nawet wśród bezpiecznych domen)</li>\n",
    "    </ul>\n",
    "</ul>\n",
    "<li> Człowiek jakkolwiek obeznany w internecie bez problemu poradziłby sobie </br>z klasyfikowaniem ataków <font color=\"red\"><b>phishingowych</b></font> z datasetu.</li>\n",
    "</ul>\n",
    "<hr width=\"45%\" align=\"left\"/>"
   ]
  }
 ],
 "metadata": {
  "kernelspec": {
   "display_name": "Python 3",
   "language": "python",
   "name": "python3"
  },
  "language_info": {
   "codemirror_mode": {
    "name": "ipython",
    "version": 3
   },
   "file_extension": ".py",
   "mimetype": "text/x-python",
   "name": "python",
   "nbconvert_exporter": "python",
   "pygments_lexer": "ipython3",
   "version": "3.11.7"
  }
 },
 "nbformat": 4,
 "nbformat_minor": 2
}
