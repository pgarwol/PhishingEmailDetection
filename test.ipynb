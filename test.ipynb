{
 "cells": [
  {
   "cell_type": "code",
   "execution_count": 2,
   "metadata": {},
   "outputs": [],
   "source": [
    "import pandas as pd\n",
    "\n",
    "mails = pd.read_csv('merged_datasets.csv')"
   ]
  },
  {
   "cell_type": "code",
   "execution_count": 3,
   "metadata": {},
   "outputs": [
    {
     "name": "stdout",
     "output_type": "stream",
     "text": [
      "   Unnamed: 0                              sender_mail  \\\n",
      "0           0                          Young@iworld.de   \n",
      "1           1                   ipline's1983@icable.ph   \n",
      "2           2  Karmandeep-opengevl@universalnet.psi.br   \n",
      "3           3                        ivqrnai@pobox.com   \n",
      "4           4         externalsep1@loanofficertool.com   \n",
      "\n",
      "                                             subject  \\\n",
      "0                          Never agree to be a loser   \n",
      "1                             Befriend Jenna Jameson   \n",
      "2                               CNN.com Daily Top 10   \n",
      "3  Re: svn commit: r619753 - in /spamassassin/tru...   \n",
      "4                         SpecialPricesPharmMoreinfo   \n",
      "\n",
      "                                                body  is_phishing  is_safe  \n",
      "0  Buck up, your troubles caused by small dimensi...         True    False  \n",
      "1  \\nUpgrade your sex and pleasures with these te...         True    False  \n",
      "2  >+=+=+=+=+=+=+=+=+=+=+=+=+=+=+=+=+=+=+=+=+=+=+...         True    False  \n",
      "3  Would anyone object to removing .so from this ...        False     True  \n",
      "4  \\nWelcomeFastShippingCustomerSupport\\nhttp://7...         True    False  \n"
     ]
    }
   ],
   "source": [
    "one_hot_encoded = pd.get_dummies(mails['label'], prefix='is')\n",
    "mails = pd.concat([mails, one_hot_encoded], axis=1)\n",
    "mails.drop('label', axis=1, inplace=True)\n",
    "print(mails.head())"
   ]
  },
  {
   "cell_type": "code",
   "execution_count": 5,
   "metadata": {},
   "outputs": [],
   "source": [
    "mails[['is_phishing', 'is_safe']] = mails[['is_phishing', 'is_safe']].astype(float)"
   ]
  },
  {
   "cell_type": "code",
   "execution_count": 6,
   "metadata": {},
   "outputs": [
    {
     "name": "stdout",
     "output_type": "stream",
     "text": [
      "<class 'pandas.core.frame.DataFrame'>\n",
      "RangeIndex: 99470 entries, 0 to 99469\n",
      "Data columns (total 6 columns):\n",
      " #   Column       Non-Null Count  Dtype  \n",
      "---  ------       --------------  -----  \n",
      " 0   Unnamed: 0   99470 non-null  int64  \n",
      " 1   sender_mail  98429 non-null  object \n",
      " 2   subject      99470 non-null  object \n",
      " 3   body         99470 non-null  object \n",
      " 4   is_phishing  99470 non-null  float64\n",
      " 5   is_safe      99470 non-null  float64\n",
      "dtypes: float64(2), int64(1), object(3)\n",
      "memory usage: 4.6+ MB\n",
      "None\n",
      "   Unnamed: 0                              sender_mail  \\\n",
      "0           0                          Young@iworld.de   \n",
      "1           1                   ipline's1983@icable.ph   \n",
      "2           2  Karmandeep-opengevl@universalnet.psi.br   \n",
      "3           3                        ivqrnai@pobox.com   \n",
      "4           4         externalsep1@loanofficertool.com   \n",
      "\n",
      "                                             subject  \\\n",
      "0                          Never agree to be a loser   \n",
      "1                             Befriend Jenna Jameson   \n",
      "2                               CNN.com Daily Top 10   \n",
      "3  Re: svn commit: r619753 - in /spamassassin/tru...   \n",
      "4                         SpecialPricesPharmMoreinfo   \n",
      "\n",
      "                                                body  is_phishing  is_safe  \n",
      "0  Buck up, your troubles caused by small dimensi...          1.0      0.0  \n",
      "1  \\nUpgrade your sex and pleasures with these te...          1.0      0.0  \n",
      "2  >+=+=+=+=+=+=+=+=+=+=+=+=+=+=+=+=+=+=+=+=+=+=+...          1.0      0.0  \n",
      "3  Would anyone object to removing .so from this ...          0.0      1.0  \n",
      "4  \\nWelcomeFastShippingCustomerSupport\\nhttp://7...          1.0      0.0  \n"
     ]
    }
   ],
   "source": [
    "print(mails.info())\n",
    "print(mails.head())"
   ]
  },
  {
   "cell_type": "code",
   "execution_count": null,
   "metadata": {},
   "outputs": [],
   "source": []
  }
 ],
 "metadata": {
  "kernelspec": {
   "display_name": "Python 3",
   "language": "python",
   "name": "python3"
  },
  "language_info": {
   "codemirror_mode": {
    "name": "ipython",
    "version": 3
   },
   "file_extension": ".py",
   "mimetype": "text/x-python",
   "name": "python",
   "nbconvert_exporter": "python",
   "pygments_lexer": "ipython3",
   "version": "3.11.7"
  }
 },
 "nbformat": 4,
 "nbformat_minor": 2
}
