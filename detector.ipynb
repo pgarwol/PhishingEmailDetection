{
 "cells": [
  {
   "cell_type": "code",
   "execution_count": 1,
   "metadata": {},
   "outputs": [],
   "source": [
    "import pandas as pd\n",
    "import numpy as np\n",
    "import matplotlib.pyplot as plt\n",
    "\n",
    "import re\n",
    "\n",
    "import spacy"
   ]
  },
  {
   "cell_type": "code",
   "execution_count": 2,
   "metadata": {},
   "outputs": [
    {
     "output_type": "stream",
     "name": "stdout",
     "text": "sender  \\\n0                   Young Esposito <Young@iworld.de>   \n1                       Mok <ipline's1983@icable.ph>   \n2  Daily Top 10 <Karmandeep-opengevl@universalnet...   \n3                 Michael Parker <ivqrnai@pobox.com>   \n4  Gretchen Suggs <externalsep1@loanofficertool.com>   \n5  Caroline Aragon <dwthaidomainnamesm@thaidomain...   \n6    Replica Watches <jhorton@thebakercompanies.com>   \n7             Daily Top 10 <acidirev_1972@tcwpg.com>   \n8                  qydlqcws-iacfym@issues.apache.org   \n9      Daily Top 10 <orn|dent_1973@musicaedischi.it>   \n\n                                         receiver  \\\n0                     user4@gvc.ceas-challenge.cc   \n1                   user2.2@gvc.ceas-challenge.cc   \n2                   user2.9@gvc.ceas-challenge.cc   \n3  SpamAssassin Dev <xrh@spamassassin.apache.org>   \n4                   user2.2@gvc.ceas-challenge.cc   \n5                user7-ext5@gvc.ceas-challenge.cc   \n6                  user2.10@gvc.ceas-challenge.cc   \n7                   user2.3@gvc.ceas-challenge.cc   \n8                     xrh@spamassassin.apache.org   \n9                     user7@gvc.ceas-challenge.cc   \n\n                              date  \\\n0  Tue, 05 Aug 2008 16:31:02 -0700   \n1  Tue, 05 Aug 2008 18:31:03 -0500   \n2  Tue, 05 Aug 2008 20:28:00 -1200   \n3  Tue, 05 Aug 2008 17:31:20 -0600   \n4  Tue, 05 Aug 2008 19:31:21 -0400   \n5  Wed, 06 Aug 2008 05:31:22 +0600   \n6  Tue, 05 Aug 2008 21:44:01 +0000   \n7  Tue, 05 Aug 2008 20:41:14 -0300   \n8  Tue, 05 Aug 2008 15:31:03 -0800   \n9  Wed, 06 Aug 2008 00:31:38 +0100   \n\n                                             subject  \\\n0                          Never agree to be a loser   \n1                             Befriend Jenna Jameson   \n2                               CNN.com Daily Top 10   \n3  Re: svn commit: r619753 - in /spamassassin/tru...   \n4                         SpecialPricesPharmMoreinfo   \n5                               From Caroline Aragon   \n6                                    Replica Watches   \n7                               CNN.com Daily Top 10   \n8  [Bug 5780] URI processing turns uuencoded stri...   \n9                               CNN.com Daily Top 10   \n\n                                                body  label  urls  \n0  Buck up, your troubles caused by small dimensi...      1     1  \n1  \\nUpgrade your sex and pleasures with these te...      1     1  \n2  >+=+=+=+=+=+=+=+=+=+=+=+=+=+=+=+=+=+=+=+=+=+=+...      1     1  \n3  Would anyone object to removing .so from this ...      0     1  \n4  \\nWelcomeFastShippingCustomerSupport\\nhttp://7...      1     1  \n5  \\n\\n\\n\\n\\nYo wu urS mo ou go rc ebo eForM rgi ...      1     0  \n6  We have fake Swiss Men's and Ladie's Replica \\...      1     0  \n7  >+=+=+=+=+=+=+=+=+=+=+=+=+=+=+=+=+=+=+=+=+=+=+...      1     1  \n8  http://issues.apache.org/SpamAssassin/show_bug...      0     1  \n9  >+=+=+=+=+=+=+=+=+=+=+=+=+=+=+=+=+=+=+=+=+=+=+...      1     1  \n"
    }
   ],
   "source": [
    "mails = pd.read_csv('CEAS_08.csv')\n",
    "print(mails.head(10))"
   ]
  },
  {
   "cell_type": "code",
   "execution_count": 3,
   "metadata": {},
   "outputs": [],
   "source": [
    "duplicates = mails.duplicated(subset=['subject', 'sender'], keep=False)"
   ]
  },
  {
   "cell_type": "code",
   "execution_count": 4,
   "metadata": {},
   "outputs": [
    {
     "output_type": "stream",
     "name": "stdout",
     "text": "sender        0\ndate          0\nbody          0\nlabel         0\nurls          0\nsubject      28\nreceiver    462\ndtype: int64\n"
    }
   ],
   "source": [
    "print(mails.isnull().sum().sort_values())\n",
    "mails.dropna(subset=['subject'], inplace=True)"
   ]
  },
  {
   "cell_type": "code",
   "execution_count": 5,
   "metadata": {},
   "outputs": [
    {
     "output_type": "stream",
     "name": "stdout",
     "text": "['Young Esposito <Young@iworld.de>' \"Mok <ipline's1983@icable.ph>\"\n 'Daily Top 10 <Karmandeep-opengevl@universalnet.psi.br>' ...\n 'Abhijit Vyas <xpojhbz@gmail.com>'\n 'Joseph Brennan <vupzesm@columbia.edu>'\n 'Christian Heimes <wluhe@cheimes.de>']\n"
    }
   ],
   "source": [
    "print(mails['sender'].values)"
   ]
  },
  {
   "cell_type": "code",
   "execution_count": 6,
   "metadata": {},
   "outputs": [
    {
     "output_type": "stream",
     "name": "stdout",
     "text": "Young@iworld.de\n0                             Young@iworld.de\n1                      ipline's1983@icable.ph\n2     Karmandeep-opengevl@universalnet.psi.br\n3                           ivqrnai@pobox.com\n4            externalsep1@loanofficertool.com\n                       ...                   \n95                           liivp@python.org\n96                       ppcwedbyff@gmail.com\n97                        xycn-vtnhz@perl.org\n98                   qgzon.djsmosok@gmail.com\n99      vqznddhdkax_04446187@yourvoice.net.nz\nName: sender_mail, Length: 100, dtype: object\n"
    }
   ],
   "source": [
    "def strip_for_mail(sender):\n",
    "    start_symbol = '<'\n",
    "    end_symbol = '>'\n",
    "    if start_symbol in sender:\n",
    "        start_index = sender.index(start_symbol) + 1\n",
    "        end_index = sender.index(end_symbol)\n",
    "        output = sender[start_index:end_index]\n",
    "        return output\n",
    "    else:\n",
    "        return sender\n",
    "\n",
    "print(strip_for_mail('Young Esposito <Young@iworld.de>'))\n",
    "\n",
    "mails['sender_mail'] = mails['sender'].apply(strip_for_mail)\n",
    "print(mails['sender_mail'].head(100))\n",
    "\n",
    "\n"
   ]
  },
  {
   "cell_type": "code",
   "execution_count": 7,
   "metadata": {},
   "outputs": [],
   "source": [
    "mails = mails[['sender_mail', 'subject', 'body', 'urls', 'label']]\n",
    "mails.columns = ['sender_mail', 'subject', 'body', 'contain_urls', 'is_phishing']"
   ]
  },
  {
   "cell_type": "code",
   "execution_count": 8,
   "metadata": {},
   "outputs": [],
   "source": [
    "# Smaller dataframe for easier computing\n",
    "mails_small = mails.head(100)"
   ]
  },
  {
   "cell_type": "code",
   "execution_count": 9,
   "metadata": {},
   "outputs": [
    {
     "output_type": "stream",
     "name": "stdout",
     "text": ">+=+=+=+=+=+=+=+=+=+=+=+=+=+=+=+=+=+=+=+=+=+=+=+=+=+=+=+=+=+= >THE DAILY TOP 10 >from CNN.com >Top videos and stories as of: Aug  1, 2008  3:58 PM EDT >+=+=+=+=+=+=+=+=+=+=+=+=+=+=+=+=+=+=+=+=+=+=+=+=+=+=+=+=+=+= TOP 10 VIDEOS 1. MONTAUK 'MONSTER' http://www.cnn.com/video/partners/email/index.html?url=/video/us/2008/07/31/moos.montauk.monster.cnn Is it a devil dog? Is it a turtle? Is it the Montauk Monster? CNN's Jeanne Moos asks, \"what is this thing?\" 2. RACY PHOTOS OF TODDLER'S MOM http://www.cnn.com/video/partners/email/index.html?url=/video/crime/2008/07/31/ng.racy.photos.cnn 3. NEWS OF THE ABSURD EPISODE 54 http://www.cnn.com/video/partners/email/index.html?url=/video/podcasts/absurd/site/2008/08/01/nota.episode.54.cnn 4. POLICE BEATING DISPUTE http://www.cnn.com/video/partners/email/index.html?url=/video/us/2008/07/31/levs.police.video.cnn 5. MOM PLEADS FOR GIRL'S RETURN http://www.cnn.com/video/partners/email/index.html?url=/video/crime/2008/08/01/hill.boss.reigh.plea.cnn 6. DEFENDANT FAKES HEART ATTACK http://www.cnn.com/video/partners/email/index.html?url=/video/crime/2008/08/01/dnt.fake.heart.attack.mxf.whio 7. KILLER CARRIED VICTIM'S HEAD http://www.cnn.com/video/partners/email/index.html?url=/video/world/2008/07/31/natpkg.can.bus.decapitation.ctv 8. MURDER CONFESSION RECANTED http://www.cnn.com/video/partners/email/index.html?url=/video/world/2008/08/01/blake.brazil.teen.murder.itn 9. ANTHRAX SUSPECT'S HOME http://www.cnn.com/video/partners/email/index.html?url=/video/us/2008/08/01/von.dr.bruce.ivins.home.cnn 10. HECKLERS INTERRUPT OBAMA TALK http://www.cnn.com/video/partners/email/index.html?url=/video/politics/2008/08/01/sot.fl.obama.protesters.baynews9 TOP 10 STORIES 1. SUSPECT IN BEHEADING IDENTIFIED http://www.cnn.com/2008/WORLD/americas/08/01/canada.beheading/index.html Canadian police say Vince Weiguang Li, 40, of Edmonton is charged with second-degree murder in the beheading of a man on a bus. 2. JUDGE TAKEN OFF LAST JENA 6 CASES http://www.cnn.com/2008/CRIME/08/01/jena6.appeal/index.html 3. PEOPLE MAG GETS PITT-JOLIE PIX http://www.cnn.com/2008/SHOWBIZ/Movies/08/01/brangelina.photos.ap/index.html 4. ATTACK IN TORONTO CALLED RACIAL http://www.cnn.com/2008/WORLD/americas/08/01/canada.attack.ap/index.html 5. IREPORTERS' UNUSUAL NAMES http://www.cnn.com/2008/LIVING/08/01/unusual.names.irpt/index.html 6. MOTHER PLEADS FOR CHILD'S RETURN http://www.cnn.com/2008/CRIME/08/01/rockefeller.kidnapping/index.html 7. KARADZIC: I MADE DEAL WITH U.S. http://www.cnn.com/2008/WORLD/europe/08/01/karadzic.trial/index.html 8. SUSPECT ARRESTED IN SWIM KILLINGS http://www.cnn.com/2008/CRIME/08/01/wisconsin.shooting.ap/index.html 9. ANTHRAX SUSPECT APPARENT SUICIDE http://www.cnn.com/2008/CRIME/08/01/anthrax.death/index.html 10. MCCAIN: OBAMA CRITICISM 'FAIR' http://www.cnn.com/2008/POLITICS/08/01/campaign.wrap/index.html CNN, The Most Trusted Name in News >    Cable News Network LP, LLLP.                       < >    One CNN Center, Atlanta, Georgia 30303             < >    2008 Cable News Network LP, LLLP.                  < >    A Time Warner Company.                             < >    All Rights Reserved.                               < ========================================================= =   Please send comments or suggestions by going to     = =           http://www.cnn.com/feedback/                = =                                                       = =      Read our privacy guidelines by going to          = =         http://www.cnn.com/privacy.html               = ========================================================= You have agreed to receive this email from CNN.com as a result of your CNN.com preference settings. To manage your settings, go to: http://www.cnn.com/linkto/bn.manage.html To unsubscribe from the Daily Top 10, go to http://cgi.cnn.com/m/clik?e=c202f8eb239faf8d4b0a5c6a41cde453@gvc.ceas-challenge.cc&l=cnn-dailytop10\n"
    }
   ],
   "source": [
    "text_example = mails_small.iloc[2]['body']\n",
    "print(text_example)"
   ]
  },
  {
   "cell_type": "code",
   "execution_count": 12,
   "metadata": {},
   "outputs": [
    {
     "output_type": "stream",
     "name": "stdout",
     "text": "sender_mail                    subject  \\\n0                          Young@iworld.de  Never agree to be a loser   \n1                   ipline's1983@icable.ph     Befriend Jenna Jameson   \n2  Karmandeep-opengevl@universalnet.psi.br       CNN.com Daily Top 10   \n\n                                                body  contain_urls  \\\n0  Buck up, your troubles caused by small dimensi...             1   \n1  \\nUpgrade your sex and pleasures with these te...             1   \n2  >+=+=+=+=+=+=+=+=+=+=+=+=+=+=+=+=+=+=+=+=+=+=+...             1   \n\n   is_phishing                                             lemmas  lemmas_len  \\\n0            1  [Buck, trouble, cause, small, dimension, soon,...          19   \n1            1                [upgrade, sex, pleasure, technique]           4   \n2            1  [DAILY, TOP, video, story, Aug, PM, EDT, VIDEO...         144   \n\n                                            entities  entities_len  \\\n0                     [(Buck, PERSON), (Nazi, NORP)]             2   \n1                                                 []             0   \n2  [(CNN, ORG), (OBAMA, PERSON), (Canadian, NORP)...            13   \n\n                                                 pos  pos_len  \n0  [(Buck, PROPN), (troubles, NOUN), (caused, VER...       22  \n1  [(Upgrade, VERB), (sex, NOUN), (pleasures, NOU...        4  \n2  [(THE, DET), (DAILY, PROPN), (TOP, PROPN), (To...      175  \n"
    }
   ],
   "source": [
    "def count_tuples(t):\n",
    "    return len(t)\n",
    "\n",
    "mails_small['lemmas'] = mails_small['body'].apply(get_lemmas)\n",
    "mails_small['lemmas_len'] = mails_small['lemmas'].apply(count_tuples)\n",
    "\n",
    "mails_small['entities'] = mails_small['body'].apply(get_ents)\n",
    "mails_small['entities_len'] = mails_small['entities'].apply(count_tuples)\n",
    "\n",
    "mails_small['pos'] = mails_small['body'].apply(get_pos)\n",
    "mails_small['pos_len'] = mails_small['pos'].apply(count_tuples)\n",
    "\n",
    "print(mails_small.head(3))"
   ]
  },
  {
   "cell_type": "code",
   "execution_count": 10,
   "metadata": {},
   "outputs": [],
   "source": [
    "# Set up spaCy\n",
    "nlp = spacy.load('en_core_web_lg')\n",
    "\n",
    "stopwords = spacy.lang.en.stop_words.STOP_WORDS"
   ]
  },
  {
   "cell_type": "code",
   "execution_count": 11,
   "metadata": {},
   "outputs": [],
   "source": [
    "def not_stopword_and_is_alpha(s):\n",
    "    return s.isalpha() and s not in stopwords\n",
    "\n",
    "\n",
    "def get_lemmas(s):\n",
    "    doc = nlp(s)\n",
    "    output = [token.lemma_ for token in doc\n",
    "                        if not_stopword_and_is_alpha(token.lemma_)]\n",
    "    return output\n",
    "\n",
    "\n",
    "def get_ents(s):\n",
    "    doc = nlp(s)\n",
    "    output = [(ent.text, ent.label_) for ent in doc.ents\n",
    "                                    if not_stopword_and_is_alpha(ent.text)]\n",
    "    return output\n",
    "\n",
    "\n",
    "def get_pos(s):\n",
    "    doc = nlp(s)\n",
    "    output = [(token.text, token.pos_) for token in doc\n",
    "                                    if not_stopword_and_is_alpha(token.text)]\n",
    "    return output"
   ]
  },
  {
   "cell_type": "code",
   "execution_count": 15,
   "metadata": {},
   "outputs": [
    {
     "output_type": "display_data",
     "data": {
      "text/plain": "<Figure size 640x480 with 1 Axes>",
      "image/svg+xml": "<?xml version=\"1.0\" encoding=\"utf-8\" standalone=\"no\"?>\n<!DOCTYPE svg PUBLIC \"-//W3C//DTD SVG 1.1//EN\"\n  \"http://www.w3.org/Graphics/SVG/1.1/DTD/svg11.dtd\">\n<svg xmlns:xlink=\"http://www.w3.org/1999/xlink\" width=\"403.97pt\" height=\"312.30825pt\" viewBox=\"0 0 403.97 312.30825\" xmlns=\"http://www.w3.org/2000/svg\" version=\"1.1\">\n <metadata>\n  <rdf:RDF xmlns:dc=\"http://purl.org/dc/elements/1.1/\" xmlns:cc=\"http://creativecommons.org/ns#\" xmlns:rdf=\"http://www.w3.org/1999/02/22-rdf-syntax-ns#\">\n   <cc:Work>\n    <dc:type rdf:resource=\"http://purl.org/dc/dcmitype/StillImage\"/>\n    <dc:date>2023-11-29T16:30:09.960336</dc:date>\n    <dc:format>image/svg+xml</dc:format>\n    <dc:creator>\n     <cc:Agent>\n      <dc:title>Matplotlib v3.6.2, https://matplotlib.org/</dc:title>\n     </cc:Agent>\n    </dc:creator>\n   </cc:Work>\n  </rdf:RDF>\n </metadata>\n <defs>\n  <style type=\"text/css\">*{stroke-linejoin: round; stroke-linecap: butt}</style>\n </defs>\n <g id=\"figure_1\">\n  <g id=\"patch_1\">\n   <path d=\"M 0 312.30825 \nL 403.97 312.30825 \nL 403.97 0 \nL 0 0 \nz\n\" style=\"fill: #ffffff\"/>\n  </g>\n  <g id=\"axes_1\">\n   <g id=\"patch_2\">\n    <path d=\"M 39.65 288.430125 \nL 396.77 288.430125 \nL 396.77 22.318125 \nL 39.65 22.318125 \nz\n\" style=\"fill: #ffffff\"/>\n   </g>\n   <g id=\"matplotlib.axis_1\">\n    <g id=\"xtick_1\">\n     <g id=\"line2d_1\">\n      <defs>\n       <path id=\"me32aec9ee8\" d=\"M 0 0 \nL 0 3.5 \n\" style=\"stroke: #000000; stroke-width: 0.8\"/>\n      </defs>\n      <g>\n       <use xlink:href=\"#me32aec9ee8\" x=\"128.93\" y=\"288.430125\" style=\"stroke: #000000; stroke-width: 0.8\"/>\n      </g>\n     </g>\n     <g id=\"text_1\">\n      <!-- phishing -->\n      <g transform=\"translate(107.6925 303.028562) scale(0.1 -0.1)\">\n       <defs>\n        <path id=\"DejaVuSans-70\" d=\"M 1159 525 \nL 1159 -1331 \nL 581 -1331 \nL 581 3500 \nL 1159 3500 \nL 1159 2969 \nQ 1341 3281 1617 3432 \nQ 1894 3584 2278 3584 \nQ 2916 3584 3314 3078 \nQ 3713 2572 3713 1747 \nQ 3713 922 3314 415 \nQ 2916 -91 2278 -91 \nQ 1894 -91 1617 61 \nQ 1341 213 1159 525 \nz\nM 3116 1747 \nQ 3116 2381 2855 2742 \nQ 2594 3103 2138 3103 \nQ 1681 3103 1420 2742 \nQ 1159 2381 1159 1747 \nQ 1159 1113 1420 752 \nQ 1681 391 2138 391 \nQ 2594 391 2855 752 \nQ 3116 1113 3116 1747 \nz\n\" transform=\"scale(0.015625)\"/>\n        <path id=\"DejaVuSans-68\" d=\"M 3513 2113 \nL 3513 0 \nL 2938 0 \nL 2938 2094 \nQ 2938 2591 2744 2837 \nQ 2550 3084 2163 3084 \nQ 1697 3084 1428 2787 \nQ 1159 2491 1159 1978 \nL 1159 0 \nL 581 0 \nL 581 4863 \nL 1159 4863 \nL 1159 2956 \nQ 1366 3272 1645 3428 \nQ 1925 3584 2291 3584 \nQ 2894 3584 3203 3211 \nQ 3513 2838 3513 2113 \nz\n\" transform=\"scale(0.015625)\"/>\n        <path id=\"DejaVuSans-69\" d=\"M 603 3500 \nL 1178 3500 \nL 1178 0 \nL 603 0 \nL 603 3500 \nz\nM 603 4863 \nL 1178 4863 \nL 1178 4134 \nL 603 4134 \nL 603 4863 \nz\n\" transform=\"scale(0.015625)\"/>\n        <path id=\"DejaVuSans-73\" d=\"M 2834 3397 \nL 2834 2853 \nQ 2591 2978 2328 3040 \nQ 2066 3103 1784 3103 \nQ 1356 3103 1142 2972 \nQ 928 2841 928 2578 \nQ 928 2378 1081 2264 \nQ 1234 2150 1697 2047 \nL 1894 2003 \nQ 2506 1872 2764 1633 \nQ 3022 1394 3022 966 \nQ 3022 478 2636 193 \nQ 2250 -91 1575 -91 \nQ 1294 -91 989 -36 \nQ 684 19 347 128 \nL 347 722 \nQ 666 556 975 473 \nQ 1284 391 1588 391 \nQ 1994 391 2212 530 \nQ 2431 669 2431 922 \nQ 2431 1156 2273 1281 \nQ 2116 1406 1581 1522 \nL 1381 1569 \nQ 847 1681 609 1914 \nQ 372 2147 372 2553 \nQ 372 3047 722 3315 \nQ 1072 3584 1716 3584 \nQ 2034 3584 2315 3537 \nQ 2597 3491 2834 3397 \nz\n\" transform=\"scale(0.015625)\"/>\n        <path id=\"DejaVuSans-6e\" d=\"M 3513 2113 \nL 3513 0 \nL 2938 0 \nL 2938 2094 \nQ 2938 2591 2744 2837 \nQ 2550 3084 2163 3084 \nQ 1697 3084 1428 2787 \nQ 1159 2491 1159 1978 \nL 1159 0 \nL 581 0 \nL 581 3500 \nL 1159 3500 \nL 1159 2956 \nQ 1366 3272 1645 3428 \nQ 1925 3584 2291 3584 \nQ 2894 3584 3203 3211 \nQ 3513 2838 3513 2113 \nz\n\" transform=\"scale(0.015625)\"/>\n        <path id=\"DejaVuSans-67\" d=\"M 2906 1791 \nQ 2906 2416 2648 2759 \nQ 2391 3103 1925 3103 \nQ 1463 3103 1205 2759 \nQ 947 2416 947 1791 \nQ 947 1169 1205 825 \nQ 1463 481 1925 481 \nQ 2391 481 2648 825 \nQ 2906 1169 2906 1791 \nz\nM 3481 434 \nQ 3481 -459 3084 -895 \nQ 2688 -1331 1869 -1331 \nQ 1566 -1331 1297 -1286 \nQ 1028 -1241 775 -1147 \nL 775 -588 \nQ 1028 -725 1275 -790 \nQ 1522 -856 1778 -856 \nQ 2344 -856 2625 -561 \nQ 2906 -266 2906 331 \nL 2906 616 \nQ 2728 306 2450 153 \nQ 2172 0 1784 0 \nQ 1141 0 747 490 \nQ 353 981 353 1791 \nQ 353 2603 747 3093 \nQ 1141 3584 1784 3584 \nQ 2172 3584 2450 3431 \nQ 2728 3278 2906 2969 \nL 2906 3500 \nL 3481 3500 \nL 3481 434 \nz\n\" transform=\"scale(0.015625)\"/>\n       </defs>\n       <use xlink:href=\"#DejaVuSans-70\"/>\n       <use xlink:href=\"#DejaVuSans-68\" x=\"63.476562\"/>\n       <use xlink:href=\"#DejaVuSans-69\" x=\"126.855469\"/>\n       <use xlink:href=\"#DejaVuSans-73\" x=\"154.638672\"/>\n       <use xlink:href=\"#DejaVuSans-68\" x=\"206.738281\"/>\n       <use xlink:href=\"#DejaVuSans-69\" x=\"270.117188\"/>\n       <use xlink:href=\"#DejaVuSans-6e\" x=\"297.900391\"/>\n       <use xlink:href=\"#DejaVuSans-67\" x=\"361.279297\"/>\n      </g>\n     </g>\n    </g>\n    <g id=\"xtick_2\">\n     <g id=\"line2d_2\">\n      <g>\n       <use xlink:href=\"#me32aec9ee8\" x=\"307.49\" y=\"288.430125\" style=\"stroke: #000000; stroke-width: 0.8\"/>\n      </g>\n     </g>\n     <g id=\"text_2\">\n      <!-- benign -->\n      <g transform=\"translate(290.338437 303.028562) scale(0.1 -0.1)\">\n       <defs>\n        <path id=\"DejaVuSans-62\" d=\"M 3116 1747 \nQ 3116 2381 2855 2742 \nQ 2594 3103 2138 3103 \nQ 1681 3103 1420 2742 \nQ 1159 2381 1159 1747 \nQ 1159 1113 1420 752 \nQ 1681 391 2138 391 \nQ 2594 391 2855 752 \nQ 3116 1113 3116 1747 \nz\nM 1159 2969 \nQ 1341 3281 1617 3432 \nQ 1894 3584 2278 3584 \nQ 2916 3584 3314 3078 \nQ 3713 2572 3713 1747 \nQ 3713 922 3314 415 \nQ 2916 -91 2278 -91 \nQ 1894 -91 1617 61 \nQ 1341 213 1159 525 \nL 1159 0 \nL 581 0 \nL 581 4863 \nL 1159 4863 \nL 1159 2969 \nz\n\" transform=\"scale(0.015625)\"/>\n        <path id=\"DejaVuSans-65\" d=\"M 3597 1894 \nL 3597 1613 \nL 953 1613 \nQ 991 1019 1311 708 \nQ 1631 397 2203 397 \nQ 2534 397 2845 478 \nQ 3156 559 3463 722 \nL 3463 178 \nQ 3153 47 2828 -22 \nQ 2503 -91 2169 -91 \nQ 1331 -91 842 396 \nQ 353 884 353 1716 \nQ 353 2575 817 3079 \nQ 1281 3584 2069 3584 \nQ 2775 3584 3186 3129 \nQ 3597 2675 3597 1894 \nz\nM 3022 2063 \nQ 3016 2534 2758 2815 \nQ 2500 3097 2075 3097 \nQ 1594 3097 1305 2825 \nQ 1016 2553 972 2059 \nL 3022 2063 \nz\n\" transform=\"scale(0.015625)\"/>\n       </defs>\n       <use xlink:href=\"#DejaVuSans-62\"/>\n       <use xlink:href=\"#DejaVuSans-65\" x=\"63.476562\"/>\n       <use xlink:href=\"#DejaVuSans-6e\" x=\"125\"/>\n       <use xlink:href=\"#DejaVuSans-69\" x=\"188.378906\"/>\n       <use xlink:href=\"#DejaVuSans-67\" x=\"216.162109\"/>\n       <use xlink:href=\"#DejaVuSans-6e\" x=\"279.638672\"/>\n      </g>\n     </g>\n    </g>\n   </g>\n   <g id=\"matplotlib.axis_2\">\n    <g id=\"ytick_1\">\n     <g id=\"line2d_3\">\n      <defs>\n       <path id=\"m885877c3b7\" d=\"M 0 0 \nL -3.5 0 \n\" style=\"stroke: #000000; stroke-width: 0.8\"/>\n      </defs>\n      <g>\n       <use xlink:href=\"#m885877c3b7\" x=\"39.65\" y=\"276.555258\" style=\"stroke: #000000; stroke-width: 0.8\"/>\n      </g>\n     </g>\n     <g id=\"text_3\">\n      <!-- 0 -->\n      <g transform=\"translate(26.2875 280.354477) scale(0.1 -0.1)\">\n       <defs>\n        <path id=\"DejaVuSans-30\" d=\"M 2034 4250 \nQ 1547 4250 1301 3770 \nQ 1056 3291 1056 2328 \nQ 1056 1369 1301 889 \nQ 1547 409 2034 409 \nQ 2525 409 2770 889 \nQ 3016 1369 3016 2328 \nQ 3016 3291 2770 3770 \nQ 2525 4250 2034 4250 \nz\nM 2034 4750 \nQ 2819 4750 3233 4129 \nQ 3647 3509 3647 2328 \nQ 3647 1150 3233 529 \nQ 2819 -91 2034 -91 \nQ 1250 -91 836 529 \nQ 422 1150 422 2328 \nQ 422 3509 836 4129 \nQ 1250 4750 2034 4750 \nz\n\" transform=\"scale(0.015625)\"/>\n       </defs>\n       <use xlink:href=\"#DejaVuSans-30\"/>\n      </g>\n     </g>\n    </g>\n    <g id=\"ytick_2\">\n     <g id=\"line2d_4\">\n      <g>\n       <use xlink:href=\"#m885877c3b7\" x=\"39.65\" y=\"232.328567\" style=\"stroke: #000000; stroke-width: 0.8\"/>\n      </g>\n     </g>\n     <g id=\"text_4\">\n      <!-- 200 -->\n      <g transform=\"translate(13.5625 236.127786) scale(0.1 -0.1)\">\n       <defs>\n        <path id=\"DejaVuSans-32\" d=\"M 1228 531 \nL 3431 531 \nL 3431 0 \nL 469 0 \nL 469 531 \nQ 828 903 1448 1529 \nQ 2069 2156 2228 2338 \nQ 2531 2678 2651 2914 \nQ 2772 3150 2772 3378 \nQ 2772 3750 2511 3984 \nQ 2250 4219 1831 4219 \nQ 1534 4219 1204 4116 \nQ 875 4013 500 3803 \nL 500 4441 \nQ 881 4594 1212 4672 \nQ 1544 4750 1819 4750 \nQ 2544 4750 2975 4387 \nQ 3406 4025 3406 3419 \nQ 3406 3131 3298 2873 \nQ 3191 2616 2906 2266 \nQ 2828 2175 2409 1742 \nQ 1991 1309 1228 531 \nz\n\" transform=\"scale(0.015625)\"/>\n       </defs>\n       <use xlink:href=\"#DejaVuSans-32\"/>\n       <use xlink:href=\"#DejaVuSans-30\" x=\"63.623047\"/>\n       <use xlink:href=\"#DejaVuSans-30\" x=\"127.246094\"/>\n      </g>\n     </g>\n    </g>\n    <g id=\"ytick_3\">\n     <g id=\"line2d_5\">\n      <g>\n       <use xlink:href=\"#m885877c3b7\" x=\"39.65\" y=\"188.101876\" style=\"stroke: #000000; stroke-width: 0.8\"/>\n      </g>\n     </g>\n     <g id=\"text_5\">\n      <!-- 400 -->\n      <g transform=\"translate(13.5625 191.901095) scale(0.1 -0.1)\">\n       <defs>\n        <path id=\"DejaVuSans-34\" d=\"M 2419 4116 \nL 825 1625 \nL 2419 1625 \nL 2419 4116 \nz\nM 2253 4666 \nL 3047 4666 \nL 3047 1625 \nL 3713 1625 \nL 3713 1100 \nL 3047 1100 \nL 3047 0 \nL 2419 0 \nL 2419 1100 \nL 313 1100 \nL 313 1709 \nL 2253 4666 \nz\n\" transform=\"scale(0.015625)\"/>\n       </defs>\n       <use xlink:href=\"#DejaVuSans-34\"/>\n       <use xlink:href=\"#DejaVuSans-30\" x=\"63.623047\"/>\n       <use xlink:href=\"#DejaVuSans-30\" x=\"127.246094\"/>\n      </g>\n     </g>\n    </g>\n    <g id=\"ytick_4\">\n     <g id=\"line2d_6\">\n      <g>\n       <use xlink:href=\"#m885877c3b7\" x=\"39.65\" y=\"143.875185\" style=\"stroke: #000000; stroke-width: 0.8\"/>\n      </g>\n     </g>\n     <g id=\"text_6\">\n      <!-- 600 -->\n      <g transform=\"translate(13.5625 147.674404) scale(0.1 -0.1)\">\n       <defs>\n        <path id=\"DejaVuSans-36\" d=\"M 2113 2584 \nQ 1688 2584 1439 2293 \nQ 1191 2003 1191 1497 \nQ 1191 994 1439 701 \nQ 1688 409 2113 409 \nQ 2538 409 2786 701 \nQ 3034 994 3034 1497 \nQ 3034 2003 2786 2293 \nQ 2538 2584 2113 2584 \nz\nM 3366 4563 \nL 3366 3988 \nQ 3128 4100 2886 4159 \nQ 2644 4219 2406 4219 \nQ 1781 4219 1451 3797 \nQ 1122 3375 1075 2522 \nQ 1259 2794 1537 2939 \nQ 1816 3084 2150 3084 \nQ 2853 3084 3261 2657 \nQ 3669 2231 3669 1497 \nQ 3669 778 3244 343 \nQ 2819 -91 2113 -91 \nQ 1303 -91 875 529 \nQ 447 1150 447 2328 \nQ 447 3434 972 4092 \nQ 1497 4750 2381 4750 \nQ 2619 4750 2861 4703 \nQ 3103 4656 3366 4563 \nz\n\" transform=\"scale(0.015625)\"/>\n       </defs>\n       <use xlink:href=\"#DejaVuSans-36\"/>\n       <use xlink:href=\"#DejaVuSans-30\" x=\"63.623047\"/>\n       <use xlink:href=\"#DejaVuSans-30\" x=\"127.246094\"/>\n      </g>\n     </g>\n    </g>\n    <g id=\"ytick_5\">\n     <g id=\"line2d_7\">\n      <g>\n       <use xlink:href=\"#m885877c3b7\" x=\"39.65\" y=\"99.648494\" style=\"stroke: #000000; stroke-width: 0.8\"/>\n      </g>\n     </g>\n     <g id=\"text_7\">\n      <!-- 800 -->\n      <g transform=\"translate(13.5625 103.447713) scale(0.1 -0.1)\">\n       <defs>\n        <path id=\"DejaVuSans-38\" d=\"M 2034 2216 \nQ 1584 2216 1326 1975 \nQ 1069 1734 1069 1313 \nQ 1069 891 1326 650 \nQ 1584 409 2034 409 \nQ 2484 409 2743 651 \nQ 3003 894 3003 1313 \nQ 3003 1734 2745 1975 \nQ 2488 2216 2034 2216 \nz\nM 1403 2484 \nQ 997 2584 770 2862 \nQ 544 3141 544 3541 \nQ 544 4100 942 4425 \nQ 1341 4750 2034 4750 \nQ 2731 4750 3128 4425 \nQ 3525 4100 3525 3541 \nQ 3525 3141 3298 2862 \nQ 3072 2584 2669 2484 \nQ 3125 2378 3379 2068 \nQ 3634 1759 3634 1313 \nQ 3634 634 3220 271 \nQ 2806 -91 2034 -91 \nQ 1263 -91 848 271 \nQ 434 634 434 1313 \nQ 434 1759 690 2068 \nQ 947 2378 1403 2484 \nz\nM 1172 3481 \nQ 1172 3119 1398 2916 \nQ 1625 2713 2034 2713 \nQ 2441 2713 2670 2916 \nQ 2900 3119 2900 3481 \nQ 2900 3844 2670 4047 \nQ 2441 4250 2034 4250 \nQ 1625 4250 1398 4047 \nQ 1172 3844 1172 3481 \nz\n\" transform=\"scale(0.015625)\"/>\n       </defs>\n       <use xlink:href=\"#DejaVuSans-38\"/>\n       <use xlink:href=\"#DejaVuSans-30\" x=\"63.623047\"/>\n       <use xlink:href=\"#DejaVuSans-30\" x=\"127.246094\"/>\n      </g>\n     </g>\n    </g>\n    <g id=\"ytick_6\">\n     <g id=\"line2d_8\">\n      <g>\n       <use xlink:href=\"#m885877c3b7\" x=\"39.65\" y=\"55.421803\" style=\"stroke: #000000; stroke-width: 0.8\"/>\n      </g>\n     </g>\n     <g id=\"text_8\">\n      <!-- 1000 -->\n      <g transform=\"translate(7.2 59.221022) scale(0.1 -0.1)\">\n       <defs>\n        <path id=\"DejaVuSans-31\" d=\"M 794 531 \nL 1825 531 \nL 1825 4091 \nL 703 3866 \nL 703 4441 \nL 1819 4666 \nL 2450 4666 \nL 2450 531 \nL 3481 531 \nL 3481 0 \nL 794 0 \nL 794 531 \nz\n\" transform=\"scale(0.015625)\"/>\n       </defs>\n       <use xlink:href=\"#DejaVuSans-31\"/>\n       <use xlink:href=\"#DejaVuSans-30\" x=\"63.623047\"/>\n       <use xlink:href=\"#DejaVuSans-30\" x=\"127.246094\"/>\n       <use xlink:href=\"#DejaVuSans-30\" x=\"190.869141\"/>\n      </g>\n     </g>\n    </g>\n   </g>\n   <g id=\"patch_3\">\n    <path d=\"M 115.538 274.067507 \nL 142.322 274.067507 \nL 142.322 237.856904 \nL 115.538 237.856904 \nL 115.538 274.067507 \nz\n\" clip-path=\"url(#p4b3ca2568c)\" style=\"fill: #1f77b4; stroke: #000000; stroke-linejoin: miter\"/>\n   </g>\n   <g id=\"line2d_9\">\n    <path d=\"M 128.93 274.067507 \nL 128.93 276.334125 \n\" clip-path=\"url(#p4b3ca2568c)\" style=\"fill: none; stroke: #000000; stroke-linecap: square\"/>\n   </g>\n   <g id=\"line2d_10\">\n    <path d=\"M 128.93 237.856904 \nL 128.93 237.856904 \n\" clip-path=\"url(#p4b3ca2568c)\" style=\"fill: none; stroke: #000000; stroke-linecap: square\"/>\n   </g>\n   <g id=\"line2d_11\">\n    <path d=\"M 122.234 276.334125 \nL 135.626 276.334125 \n\" clip-path=\"url(#p4b3ca2568c)\" style=\"fill: none; stroke: #000000; stroke-linecap: square\"/>\n   </g>\n   <g id=\"line2d_12\">\n    <path d=\"M 122.234 237.856904 \nL 135.626 237.856904 \n\" clip-path=\"url(#p4b3ca2568c)\" style=\"fill: none; stroke: #000000; stroke-linecap: square\"/>\n   </g>\n   <g id=\"line2d_13\"/>\n   <g id=\"patch_4\">\n    <path d=\"M 294.098 262.623851 \nL 320.882 262.623851 \nL 320.882 229.177416 \nL 294.098 229.177416 \nL 294.098 262.623851 \nz\n\" clip-path=\"url(#p4b3ca2568c)\" style=\"fill: #1f77b4; stroke: #000000; stroke-linejoin: miter\"/>\n   </g>\n   <g id=\"line2d_14\">\n    <path d=\"M 307.49 262.623851 \nL 307.49 275.007324 \n\" clip-path=\"url(#p4b3ca2568c)\" style=\"fill: none; stroke: #000000; stroke-linecap: square\"/>\n   </g>\n   <g id=\"line2d_15\">\n    <path d=\"M 307.49 229.177416 \nL 307.49 210.878622 \n\" clip-path=\"url(#p4b3ca2568c)\" style=\"fill: none; stroke: #000000; stroke-linecap: square\"/>\n   </g>\n   <g id=\"line2d_16\">\n    <path d=\"M 300.794 275.007324 \nL 314.186 275.007324 \n\" clip-path=\"url(#p4b3ca2568c)\" style=\"fill: none; stroke: #000000; stroke-linecap: square\"/>\n   </g>\n   <g id=\"line2d_17\">\n    <path d=\"M 300.794 210.878622 \nL 314.186 210.878622 \n\" clip-path=\"url(#p4b3ca2568c)\" style=\"fill: none; stroke: #000000; stroke-linecap: square\"/>\n   </g>\n   <g id=\"line2d_18\">\n    <defs>\n     <path id=\"m9b08d5efb8\" d=\"M 0 3 \nC 0.795609 3 1.55874 2.683901 2.12132 2.12132 \nC 2.683901 1.55874 3 0.795609 3 0 \nC 3 -0.795609 2.683901 -1.55874 2.12132 -2.12132 \nC 1.55874 -2.683901 0.795609 -3 0 -3 \nC -0.795609 -3 -1.55874 -2.683901 -2.12132 -2.12132 \nC -2.683901 -1.55874 -3 -0.795609 -3 0 \nC -3 0.795609 -2.683901 1.55874 -2.12132 2.12132 \nC -1.55874 2.683901 -0.795609 3 0 3 \nz\n\" style=\"stroke: #000000\"/>\n    </defs>\n    <g clip-path=\"url(#p4b3ca2568c)\">\n     <use xlink:href=\"#m9b08d5efb8\" x=\"307.49\" y=\"118.002571\" style=\"fill-opacity: 0; stroke: #000000\"/>\n     <use xlink:href=\"#m9b08d5efb8\" x=\"307.49\" y=\"97.43716\" style=\"fill-opacity: 0; stroke: #000000\"/>\n     <use xlink:href=\"#m9b08d5efb8\" x=\"307.49\" y=\"63.824875\" style=\"fill-opacity: 0; stroke: #000000\"/>\n     <use xlink:href=\"#m9b08d5efb8\" x=\"307.49\" y=\"34.414125\" style=\"fill-opacity: 0; stroke: #000000\"/>\n     <use xlink:href=\"#m9b08d5efb8\" x=\"307.49\" y=\"167.978732\" style=\"fill-opacity: 0; stroke: #000000\"/>\n     <use xlink:href=\"#m9b08d5efb8\" x=\"307.49\" y=\"162.229262\" style=\"fill-opacity: 0; stroke: #000000\"/>\n    </g>\n   </g>\n   <g id=\"line2d_19\">\n    <path d=\"M 115.538 270.584655 \nL 142.322 270.584655 \n\" clip-path=\"url(#p4b3ca2568c)\" style=\"fill: none; stroke: #ff7f0e; stroke-linecap: square\"/>\n   </g>\n   <g id=\"line2d_20\">\n    <path d=\"M 294.098 253.225679 \nL 320.882 253.225679 \n\" clip-path=\"url(#p4b3ca2568c)\" style=\"fill: none; stroke: #ff7f0e; stroke-linecap: square\"/>\n   </g>\n   <g id=\"patch_5\">\n    <path d=\"M 39.65 288.430125 \nL 39.65 22.318125 \n\" style=\"fill: none; stroke: #000000; stroke-width: 0.8; stroke-linejoin: miter; stroke-linecap: square\"/>\n   </g>\n   <g id=\"patch_6\">\n    <path d=\"M 396.77 288.430125 \nL 396.77 22.318125 \n\" style=\"fill: none; stroke: #000000; stroke-width: 0.8; stroke-linejoin: miter; stroke-linecap: square\"/>\n   </g>\n   <g id=\"patch_7\">\n    <path d=\"M 39.65 288.430125 \nL 396.77 288.430125 \n\" style=\"fill: none; stroke: #000000; stroke-width: 0.8; stroke-linejoin: miter; stroke-linecap: square\"/>\n   </g>\n   <g id=\"patch_8\">\n    <path d=\"M 39.65 22.318125 \nL 396.77 22.318125 \n\" style=\"fill: none; stroke: #000000; stroke-width: 0.8; stroke-linejoin: miter; stroke-linecap: square\"/>\n   </g>\n   <g id=\"text_9\">\n    <!-- title -->\n    <g transform=\"translate(206.48 16.318125) scale(0.12 -0.12)\">\n     <defs>\n      <path id=\"DejaVuSans-74\" d=\"M 1172 4494 \nL 1172 3500 \nL 2356 3500 \nL 2356 3053 \nL 1172 3053 \nL 1172 1153 \nQ 1172 725 1289 603 \nQ 1406 481 1766 481 \nL 2356 481 \nL 2356 0 \nL 1766 0 \nQ 1100 0 847 248 \nQ 594 497 594 1153 \nL 594 3053 \nL 172 3053 \nL 172 3500 \nL 594 3500 \nL 594 4494 \nL 1172 4494 \nz\n\" transform=\"scale(0.015625)\"/>\n      <path id=\"DejaVuSans-6c\" d=\"M 603 4863 \nL 1178 4863 \nL 1178 0 \nL 603 0 \nL 603 4863 \nz\n\" transform=\"scale(0.015625)\"/>\n     </defs>\n     <use xlink:href=\"#DejaVuSans-74\"/>\n     <use xlink:href=\"#DejaVuSans-69\" x=\"39.208984\"/>\n     <use xlink:href=\"#DejaVuSans-74\" x=\"66.992188\"/>\n     <use xlink:href=\"#DejaVuSans-6c\" x=\"106.201172\"/>\n     <use xlink:href=\"#DejaVuSans-65\" x=\"133.984375\"/>\n    </g>\n   </g>\n  </g>\n </g>\n <defs>\n  <clipPath id=\"p4b3ca2568c\">\n   <rect x=\"39.65\" y=\"22.318125\" width=\"357.12\" height=\"266.112\"/>\n  </clipPath>\n </defs>\n</svg>\n",
      "image/png": "[encoded data removed]"
     },
     "metadata": {}
    }
   ],
   "source": [
    "plt.style.use('default')\n",
    "\n",
    "labels = ['phishing', 'benign']\n",
    "data = [\n",
    "    phishing_rows['pos_len'],\n",
    "    benign_rows['pos_len'],\n",
    "]\n",
    "\n",
    "fig, ax = plt.subplots()\n",
    "#ax.scatter(mails_small['pos_len'], mails_small['is_phishing'])\n",
    "ax.boxplot(data,\n",
    "            vert=True,\n",
    "            patch_artist=True,\n",
    "            labels=labels)\n",
    "ax.set_title('title')\n",
    "plt.show()"
   ]
  },
  {
   "cell_type": "code",
   "execution_count": 13,
   "metadata": {
    "tags": [
     "outputPrepend"
    ]
   },
   "outputs": [],
   "source": [
    "phishing_rows = mails_small.loc[mails_small['is_phishing'] == 1][['sender_mail', 'pos_len']]\n",
    "benign_rows = mails_small.loc[mails_small['is_phishing'] == 0][['sender_mail', 'pos_len']]"
   ]
  },
  {
   "cell_type": "code",
   "execution_count": null,
   "metadata": {},
   "outputs": [],
   "source": []
  }
 ],
 "metadata": {
  "language_info": {
   "codemirror_mode": {
    "name": "ipython",
    "version": 3
   },
   "file_extension": ".py",
   "mimetype": "text/x-python",
   "name": "python",
   "nbconvert_exporter": "python",
   "pygments_lexer": "ipython3",
   "version": "3.9.5-final"
  },
  "orig_nbformat": 2,
  "kernelspec": {
   "name": "python39564bitc3010b94230a474699e3eebe689650e5",
   "display_name": "Python 3.9.5 64-bit"
  }
 },
 "nbformat": 4,
 "nbformat_minor": 2
}