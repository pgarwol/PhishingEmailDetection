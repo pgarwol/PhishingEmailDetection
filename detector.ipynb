{
 "cells": [
  {
   "cell_type": "code",
   "execution_count": 1,
   "metadata": {},
   "outputs": [],
   "source": [
    "import pandas as pd\n",
    "import numpy as np\n",
    "import matplotlib.pyplot as plt\n",
    "\n",
    "import re\n",
    "\n",
    "import spacy"
   ]
  },
  {
   "cell_type": "code",
   "execution_count": 2,
   "metadata": {},
   "outputs": [
    {
     "output_type": "stream",
     "name": "stdout",
     "text": "sender  \\\n0                   Young Esposito <Young@iworld.de>   \n1                       Mok <ipline's1983@icable.ph>   \n2  Daily Top 10 <Karmandeep-opengevl@universalnet...   \n3                 Michael Parker <ivqrnai@pobox.com>   \n4  Gretchen Suggs <externalsep1@loanofficertool.com>   \n5  Caroline Aragon <dwthaidomainnamesm@thaidomain...   \n6    Replica Watches <jhorton@thebakercompanies.com>   \n7             Daily Top 10 <acidirev_1972@tcwpg.com>   \n8                  qydlqcws-iacfym@issues.apache.org   \n9      Daily Top 10 <orn|dent_1973@musicaedischi.it>   \n\n                                         receiver  \\\n0                     user4@gvc.ceas-challenge.cc   \n1                   user2.2@gvc.ceas-challenge.cc   \n2                   user2.9@gvc.ceas-challenge.cc   \n3  SpamAssassin Dev <xrh@spamassassin.apache.org>   \n4                   user2.2@gvc.ceas-challenge.cc   \n5                user7-ext5@gvc.ceas-challenge.cc   \n6                  user2.10@gvc.ceas-challenge.cc   \n7                   user2.3@gvc.ceas-challenge.cc   \n8                     xrh@spamassassin.apache.org   \n9                     user7@gvc.ceas-challenge.cc   \n\n                              date  \\\n0  Tue, 05 Aug 2008 16:31:02 -0700   \n1  Tue, 05 Aug 2008 18:31:03 -0500   \n2  Tue, 05 Aug 2008 20:28:00 -1200   \n3  Tue, 05 Aug 2008 17:31:20 -0600   \n4  Tue, 05 Aug 2008 19:31:21 -0400   \n5  Wed, 06 Aug 2008 05:31:22 +0600   \n6  Tue, 05 Aug 2008 21:44:01 +0000   \n7  Tue, 05 Aug 2008 20:41:14 -0300   \n8  Tue, 05 Aug 2008 15:31:03 -0800   \n9  Wed, 06 Aug 2008 00:31:38 +0100   \n\n                                             subject  \\\n0                          Never agree to be a loser   \n1                             Befriend Jenna Jameson   \n2                               CNN.com Daily Top 10   \n3  Re: svn commit: r619753 - in /spamassassin/tru...   \n4                         SpecialPricesPharmMoreinfo   \n5                               From Caroline Aragon   \n6                                    Replica Watches   \n7                               CNN.com Daily Top 10   \n8  [Bug 5780] URI processing turns uuencoded stri...   \n9                               CNN.com Daily Top 10   \n\n                                                body  label  urls  \n0  Buck up, your troubles caused by small dimensi...      1     1  \n1  \\nUpgrade your sex and pleasures with these te...      1     1  \n2  >+=+=+=+=+=+=+=+=+=+=+=+=+=+=+=+=+=+=+=+=+=+=+...      1     1  \n3  Would anyone object to removing .so from this ...      0     1  \n4  \\nWelcomeFastShippingCustomerSupport\\nhttp://7...      1     1  \n5  \\n\\n\\n\\n\\nYo wu urS mo ou go rc ebo eForM rgi ...      1     0  \n6  We have fake Swiss Men's and Ladie's Replica \\...      1     0  \n7  >+=+=+=+=+=+=+=+=+=+=+=+=+=+=+=+=+=+=+=+=+=+=+...      1     1  \n8  http://issues.apache.org/SpamAssassin/show_bug...      0     1  \n9  >+=+=+=+=+=+=+=+=+=+=+=+=+=+=+=+=+=+=+=+=+=+=+...      1     1  \n"
    }
   ],
   "source": [
    "mails = pd.read_csv('CEAS_08.csv')\n",
    "print(mails.head(10))"
   ]
  },
  {
   "cell_type": "code",
   "execution_count": 3,
   "metadata": {},
   "outputs": [],
   "source": [
    "duplicates = mails.duplicated(subset=['subject', 'sender'], keep=False)"
   ]
  },
  {
   "cell_type": "code",
   "execution_count": 4,
   "metadata": {},
   "outputs": [
    {
     "output_type": "stream",
     "name": "stdout",
     "text": "sender        0\ndate          0\nbody          0\nlabel         0\nurls          0\nsubject      28\nreceiver    462\ndtype: int64\n"
    }
   ],
   "source": [
    "print(mails.isnull().sum().sort_values())\n",
    "mails.dropna(subset=['subject'], inplace=True)"
   ]
  },
  {
   "cell_type": "code",
   "execution_count": 5,
   "metadata": {},
   "outputs": [
    {
     "output_type": "stream",
     "name": "stdout",
     "text": "['Young Esposito <Young@iworld.de>' \"Mok <ipline's1983@icable.ph>\"\n 'Daily Top 10 <Karmandeep-opengevl@universalnet.psi.br>' ...\n 'Abhijit Vyas <xpojhbz@gmail.com>'\n 'Joseph Brennan <vupzesm@columbia.edu>'\n 'Christian Heimes <wluhe@cheimes.de>']\n"
    }
   ],
   "source": [
    "print(mails['sender'].values)"
   ]
  },
  {
   "cell_type": "code",
   "execution_count": 6,
   "metadata": {},
   "outputs": [
    {
     "output_type": "stream",
     "name": "stdout",
     "text": "Young@iworld.de\n0                             Young@iworld.de\n1                      ipline's1983@icable.ph\n2     Karmandeep-opengevl@universalnet.psi.br\n3                           ivqrnai@pobox.com\n4            externalsep1@loanofficertool.com\n                       ...                   \n95                           liivp@python.org\n96                       ppcwedbyff@gmail.com\n97                        xycn-vtnhz@perl.org\n98                   qgzon.djsmosok@gmail.com\n99      vqznddhdkax_04446187@yourvoice.net.nz\nName: sender_mail, Length: 100, dtype: object\n"
    }
   ],
   "source": [
    "def strip_for_mail(sender):\n",
    "    start_symbol = '<'\n",
    "    end_symbol = '>'\n",
    "    if start_symbol in sender:\n",
    "        start_index = sender.index(start_symbol) + 1\n",
    "        end_index = sender.index(end_symbol)\n",
    "        output = sender[start_index:end_index]\n",
    "        return output\n",
    "    else:\n",
    "        return sender\n",
    "\n",
    "print(strip_for_mail('Young Esposito <Young@iworld.de>'))\n",
    "\n",
    "mails['sender_mail'] = mails['sender'].apply(strip_for_mail)\n",
    "print(mails['sender_mail'].head(100))\n",
    "\n",
    "\n"
   ]
  },
  {
   "cell_type": "code",
   "execution_count": 7,
   "metadata": {},
   "outputs": [],
   "source": [
    "mails = mails[['sender_mail', 'subject', 'body', 'urls', 'label']]\n",
    "mails.columns = ['sender_mail', 'subject', 'body', 'contain_urls', 'is_phishing']"
   ]
  },
  {
   "cell_type": "code",
   "execution_count": 8,
   "metadata": {},
   "outputs": [],
   "source": [
    "# Smaller dataframe for easier computing\n",
    "mails_small = mails.head(100)"
   ]
  },
  {
   "cell_type": "code",
   "execution_count": 9,
   "metadata": {},
   "outputs": [
    {
     "output_type": "stream",
     "name": "stdout",
     "text": ">+=+=+=+=+=+=+=+=+=+=+=+=+=+=+=+=+=+=+=+=+=+=+=+=+=+=+=+=+=+= >THE DAILY TOP 10 >from CNN.com >Top videos and stories as of: Aug  1, 2008  3:58 PM EDT >+=+=+=+=+=+=+=+=+=+=+=+=+=+=+=+=+=+=+=+=+=+=+=+=+=+=+=+=+=+= TOP 10 VIDEOS 1. MONTAUK 'MONSTER' http://www.cnn.com/video/partners/email/index.html?url=/video/us/2008/07/31/moos.montauk.monster.cnn Is it a devil dog? Is it a turtle? Is it the Montauk Monster? CNN's Jeanne Moos asks, \"what is this thing?\" 2. RACY PHOTOS OF TODDLER'S MOM http://www.cnn.com/video/partners/email/index.html?url=/video/crime/2008/07/31/ng.racy.photos.cnn 3. NEWS OF THE ABSURD EPISODE 54 http://www.cnn.com/video/partners/email/index.html?url=/video/podcasts/absurd/site/2008/08/01/nota.episode.54.cnn 4. POLICE BEATING DISPUTE http://www.cnn.com/video/partners/email/index.html?url=/video/us/2008/07/31/levs.police.video.cnn 5. MOM PLEADS FOR GIRL'S RETURN http://www.cnn.com/video/partners/email/index.html?url=/video/crime/2008/08/01/hill.boss.reigh.plea.cnn 6. DEFENDANT FAKES HEART ATTACK http://www.cnn.com/video/partners/email/index.html?url=/video/crime/2008/08/01/dnt.fake.heart.attack.mxf.whio 7. KILLER CARRIED VICTIM'S HEAD http://www.cnn.com/video/partners/email/index.html?url=/video/world/2008/07/31/natpkg.can.bus.decapitation.ctv 8. MURDER CONFESSION RECANTED http://www.cnn.com/video/partners/email/index.html?url=/video/world/2008/08/01/blake.brazil.teen.murder.itn 9. ANTHRAX SUSPECT'S HOME http://www.cnn.com/video/partners/email/index.html?url=/video/us/2008/08/01/von.dr.bruce.ivins.home.cnn 10. HECKLERS INTERRUPT OBAMA TALK http://www.cnn.com/video/partners/email/index.html?url=/video/politics/2008/08/01/sot.fl.obama.protesters.baynews9 TOP 10 STORIES 1. SUSPECT IN BEHEADING IDENTIFIED http://www.cnn.com/2008/WORLD/americas/08/01/canada.beheading/index.html Canadian police say Vince Weiguang Li, 40, of Edmonton is charged with second-degree murder in the beheading of a man on a bus. 2. JUDGE TAKEN OFF LAST JENA 6 CASES http://www.cnn.com/2008/CRIME/08/01/jena6.appeal/index.html 3. PEOPLE MAG GETS PITT-JOLIE PIX http://www.cnn.com/2008/SHOWBIZ/Movies/08/01/brangelina.photos.ap/index.html 4. ATTACK IN TORONTO CALLED RACIAL http://www.cnn.com/2008/WORLD/americas/08/01/canada.attack.ap/index.html 5. IREPORTERS' UNUSUAL NAMES http://www.cnn.com/2008/LIVING/08/01/unusual.names.irpt/index.html 6. MOTHER PLEADS FOR CHILD'S RETURN http://www.cnn.com/2008/CRIME/08/01/rockefeller.kidnapping/index.html 7. KARADZIC: I MADE DEAL WITH U.S. http://www.cnn.com/2008/WORLD/europe/08/01/karadzic.trial/index.html 8. SUSPECT ARRESTED IN SWIM KILLINGS http://www.cnn.com/2008/CRIME/08/01/wisconsin.shooting.ap/index.html 9. ANTHRAX SUSPECT APPARENT SUICIDE http://www.cnn.com/2008/CRIME/08/01/anthrax.death/index.html 10. MCCAIN: OBAMA CRITICISM 'FAIR' http://www.cnn.com/2008/POLITICS/08/01/campaign.wrap/index.html CNN, The Most Trusted Name in News >    Cable News Network LP, LLLP.                       < >    One CNN Center, Atlanta, Georgia 30303             < >    2008 Cable News Network LP, LLLP.                  < >    A Time Warner Company.                             < >    All Rights Reserved.                               < ========================================================= =   Please send comments or suggestions by going to     = =           http://www.cnn.com/feedback/                = =                                                       = =      Read our privacy guidelines by going to          = =         http://www.cnn.com/privacy.html               = ========================================================= You have agreed to receive this email from CNN.com as a result of your CNN.com preference settings. To manage your settings, go to: http://www.cnn.com/linkto/bn.manage.html To unsubscribe from the Daily Top 10, go to http://cgi.cnn.com/m/clik?e=c202f8eb239faf8d4b0a5c6a41cde453@gvc.ceas-challenge.cc&l=cnn-dailytop10\n"
    }
   ],
   "source": [
    "text_example = mails_small.iloc[2]['body']\n",
    "print(text_example)"
   ]
  },
  {
   "cell_type": "code",
   "execution_count": 13,
   "metadata": {},
   "outputs": [
    {
     "output_type": "stream",
     "name": "stdout",
     "text": "object\n"
    }
   ],
   "source": [
    "mails_small['lemmas'] = mails_small['body'].apply(get_lemmas)\n",
    "mails_small['lemmas_len'] = mails_small['lemmas'].apply(count_tuples)\n",
    "\n",
    "mails_small['entities'] = mails_small['body'].apply(get_ents)\n",
    "mails_small['entities_len'] = mails_small['entities'].apply(count_tuples)\n",
    "\n",
    "mails_small['pos'] = mails_small['body'].apply(get_pos)\n",
    "mails_small['pos_len'] = mails_small['pos'].apply(count_tuples)\n",
    "\n",
    "print(mails_small['pos'].dtype)"
   ]
  },
  {
   "cell_type": "code",
   "execution_count": 10,
   "metadata": {},
   "outputs": [],
   "source": [
    "# Set up spaCy\n",
    "nlp = spacy.load('en_core_web_lg')\n",
    "\n",
    "stopwords = spacy.lang.en.stop_words.STOP_WORDS"
   ]
  },
  {
   "cell_type": "code",
   "execution_count": 11,
   "metadata": {},
   "outputs": [],
   "source": [
    "def not_stopword_and_is_alpha(s):\n",
    "    return s.isalpha() and s not in stopwords\n",
    "\n",
    "\n",
    "def get_lemmas(s):\n",
    "    doc = nlp(s)\n",
    "    output = [token.lemma_ for token in doc\n",
    "                        if not_stopword_and_is_alpha(token.lemma_)]\n",
    "    return output\n",
    "\n",
    "\n",
    "def get_ents(s):\n",
    "    doc = nlp(s)\n",
    "    output = [(ent.text, ent.label_) for ent in doc.ents\n",
    "                                    if not_stopword_and_is_alpha(ent.text)]\n",
    "    return output\n",
    "\n",
    "\n",
    "def get_pos(s):\n",
    "    doc = nlp(s)\n",
    "    output = [(token.text, token.pos_) for token in doc\n",
    "                                    if not_stopword_and_is_alpha(token.text)]\n",
    "    return output"
   ]
  },
  {
   "cell_type": "code",
   "execution_count": 12,
   "metadata": {},
   "outputs": [],
   "source": [
    "def count_tuples(t):\n",
    "    return len(t)"
   ]
  },
  {
   "cell_type": "code",
   "execution_count": 14,
   "metadata": {},
   "outputs": [
    {
     "output_type": "stream",
     "name": "stdout",
     "text": "sender_mail                    subject  \\\n0                          Young@iworld.de  Never agree to be a loser   \n1                   ipline's1983@icable.ph     Befriend Jenna Jameson   \n2  Karmandeep-opengevl@universalnet.psi.br       CNN.com Daily Top 10   \n\n                                                body  contain_urls  \\\n0  Buck up, your troubles caused by small dimensi...             1   \n1  \\nUpgrade your sex and pleasures with these te...             1   \n2  >+=+=+=+=+=+=+=+=+=+=+=+=+=+=+=+=+=+=+=+=+=+=+...             1   \n\n   is_phishing                                             lemmas  lemmas_len  \\\n0            1  [Buck, trouble, cause, small, dimension, soon,...          19   \n1            1                [upgrade, sex, pleasure, technique]           4   \n2            1  [DAILY, TOP, video, story, Aug, PM, EDT, VIDEO...         144   \n\n                                            entities  entities_len  \\\n0                     [(Buck, PERSON), (Nazi, NORP)]             2   \n1                                                 []             0   \n2  [(CNN, ORG), (OBAMA, PERSON), (Canadian, NORP)...            13   \n\n                                                 pos  pos_len  \n0  [(Buck, PROPN), (troubles, NOUN), (caused, VER...       22  \n1  [(Upgrade, VERB), (sex, NOUN), (pleasures, NOU...        4  \n2  [(THE, DET), (DAILY, PROPN), (TOP, PROPN), (To...      175  \n"
    }
   ],
   "source": [
    "print(mails_small.head(3))"
   ]
  }
 ],
 "metadata": {
  "language_info": {
   "codemirror_mode": {
    "name": "ipython",
    "version": 3
   },
   "file_extension": ".py",
   "mimetype": "text/x-python",
   "name": "python",
   "nbconvert_exporter": "python",
   "pygments_lexer": "ipython3",
   "version": "3.9.5-final"
  },
  "orig_nbformat": 2,
  "kernelspec": {
   "name": "python39564bitc3010b94230a474699e3eebe689650e5",
   "display_name": "Python 3.9.5 64-bit"
  }
 },
 "nbformat": 4,
 "nbformat_minor": 2
}