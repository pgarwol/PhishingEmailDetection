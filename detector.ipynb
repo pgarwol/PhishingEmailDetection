{
 "cells": [
  {
   "cell_type": "code",
   "execution_count": 1,
   "metadata": {},
   "outputs": [],
   "source": [
    "import pandas as pd\n",
    "import numpy as np\n",
    "import matplotlib.pyplot as plt\n",
    "\n",
    "import re\n",
    "\n",
    "import spacy"
   ]
  },
  {
   "cell_type": "code",
   "execution_count": 2,
   "metadata": {},
   "outputs": [
    {
     "output_type": "stream",
     "name": "stdout",
     "text": "sender  \\\n0                   Young Esposito <Young@iworld.de>   \n1                       Mok <ipline's1983@icable.ph>   \n2  Daily Top 10 <Karmandeep-opengevl@universalnet...   \n3                 Michael Parker <ivqrnai@pobox.com>   \n4  Gretchen Suggs <externalsep1@loanofficertool.com>   \n5  Caroline Aragon <dwthaidomainnamesm@thaidomain...   \n6    Replica Watches <jhorton@thebakercompanies.com>   \n7             Daily Top 10 <acidirev_1972@tcwpg.com>   \n8                  qydlqcws-iacfym@issues.apache.org   \n9      Daily Top 10 <orn|dent_1973@musicaedischi.it>   \n\n                                         receiver  \\\n0                     user4@gvc.ceas-challenge.cc   \n1                   user2.2@gvc.ceas-challenge.cc   \n2                   user2.9@gvc.ceas-challenge.cc   \n3  SpamAssassin Dev <xrh@spamassassin.apache.org>   \n4                   user2.2@gvc.ceas-challenge.cc   \n5                user7-ext5@gvc.ceas-challenge.cc   \n6                  user2.10@gvc.ceas-challenge.cc   \n7                   user2.3@gvc.ceas-challenge.cc   \n8                     xrh@spamassassin.apache.org   \n9                     user7@gvc.ceas-challenge.cc   \n\n                              date  \\\n0  Tue, 05 Aug 2008 16:31:02 -0700   \n1  Tue, 05 Aug 2008 18:31:03 -0500   \n2  Tue, 05 Aug 2008 20:28:00 -1200   \n3  Tue, 05 Aug 2008 17:31:20 -0600   \n4  Tue, 05 Aug 2008 19:31:21 -0400   \n5  Wed, 06 Aug 2008 05:31:22 +0600   \n6  Tue, 05 Aug 2008 21:44:01 +0000   \n7  Tue, 05 Aug 2008 20:41:14 -0300   \n8  Tue, 05 Aug 2008 15:31:03 -0800   \n9  Wed, 06 Aug 2008 00:31:38 +0100   \n\n                                             subject  \\\n0                          Never agree to be a loser   \n1                             Befriend Jenna Jameson   \n2                               CNN.com Daily Top 10   \n3  Re: svn commit: r619753 - in /spamassassin/tru...   \n4                         SpecialPricesPharmMoreinfo   \n5                               From Caroline Aragon   \n6                                    Replica Watches   \n7                               CNN.com Daily Top 10   \n8  [Bug 5780] URI processing turns uuencoded stri...   \n9                               CNN.com Daily Top 10   \n\n                                                body  label  urls  \n0  Buck up, your troubles caused by small dimensi...      1     1  \n1  \\nUpgrade your sex and pleasures with these te...      1     1  \n2  >+=+=+=+=+=+=+=+=+=+=+=+=+=+=+=+=+=+=+=+=+=+=+...      1     1  \n3  Would anyone object to removing .so from this ...      0     1  \n4  \\nWelcomeFastShippingCustomerSupport\\nhttp://7...      1     1  \n5  \\n\\n\\n\\n\\nYo wu urS mo ou go rc ebo eForM rgi ...      1     0  \n6  We have fake Swiss Men's and Ladie's Replica \\...      1     0  \n7  >+=+=+=+=+=+=+=+=+=+=+=+=+=+=+=+=+=+=+=+=+=+=+...      1     1  \n8  http://issues.apache.org/SpamAssassin/show_bug...      0     1  \n9  >+=+=+=+=+=+=+=+=+=+=+=+=+=+=+=+=+=+=+=+=+=+=+...      1     1  \n"
    }
   ],
   "source": [
    "mails = pd.read_csv('CEAS_08.csv')\n",
    "print(mails.head(10))"
   ]
  },
  {
   "cell_type": "code",
   "execution_count": 3,
   "metadata": {},
   "outputs": [],
   "source": [
    "duplicates = mails.duplicated(subset=['subject', 'sender'], keep=False)"
   ]
  },
  {
   "cell_type": "code",
   "execution_count": 4,
   "metadata": {},
   "outputs": [
    {
     "output_type": "stream",
     "name": "stdout",
     "text": "sender        0\ndate          0\nbody          0\nlabel         0\nurls          0\nsubject      28\nreceiver    462\ndtype: int64\n"
    }
   ],
   "source": [
    "print(mails.isnull().sum().sort_values())\n",
    "mails.dropna(subset=['subject'], inplace=True)"
   ]
  },
  {
   "cell_type": "code",
   "execution_count": 5,
   "metadata": {},
   "outputs": [
    {
     "output_type": "stream",
     "name": "stdout",
     "text": "['Young Esposito <Young@iworld.de>' \"Mok <ipline's1983@icable.ph>\"\n 'Daily Top 10 <Karmandeep-opengevl@universalnet.psi.br>' ...\n 'Abhijit Vyas <xpojhbz@gmail.com>'\n 'Joseph Brennan <vupzesm@columbia.edu>'\n 'Christian Heimes <wluhe@cheimes.de>']\n"
    }
   ],
   "source": [
    "print(mails['sender'].values)"
   ]
  },
  {
   "cell_type": "code",
   "execution_count": 6,
   "metadata": {},
   "outputs": [
    {
     "output_type": "stream",
     "name": "stdout",
     "text": "Young@iworld.de\n0                             Young@iworld.de\n1                      ipline's1983@icable.ph\n2     Karmandeep-opengevl@universalnet.psi.br\n3                           ivqrnai@pobox.com\n4            externalsep1@loanofficertool.com\n                       ...                   \n95                           liivp@python.org\n96                       ppcwedbyff@gmail.com\n97                        xycn-vtnhz@perl.org\n98                   qgzon.djsmosok@gmail.com\n99      vqznddhdkax_04446187@yourvoice.net.nz\nName: sender_mail, Length: 100, dtype: object\n"
    }
   ],
   "source": [
    "def strip_for_mail(sender):\n",
    "    start_symbol = '<'\n",
    "    end_symbol = '>'\n",
    "    if start_symbol in sender:\n",
    "        start_index = sender.index(start_symbol) + 1\n",
    "        end_index = sender.index(end_symbol)\n",
    "        output = sender[start_index:end_index]\n",
    "        return output\n",
    "    else:\n",
    "        return sender\n",
    "\n",
    "print(strip_for_mail('Young Esposito <Young@iworld.de>'))\n",
    "\n",
    "mails['sender_mail'] = mails['sender'].apply(strip_for_mail)\n",
    "print(mails['sender_mail'].head(100))\n",
    "\n",
    "\n"
   ]
  },
  {
   "cell_type": "code",
   "execution_count": 9,
   "metadata": {},
   "outputs": [],
   "source": [
    "mails = mails[['sender_mail', 'subject', 'body', 'urls', 'label']]\n",
    "mails.columns = ['sender_mail', 'subject', 'body', 'contain_urls', 'is_phishing']"
   ]
  },
  {
   "cell_type": "code",
   "execution_count": 16,
   "metadata": {},
   "outputs": [
    {
     "output_type": "stream",
     "name": "stdout",
     "text": "sender_mail  \\\n0                           Young@iworld.de   \n1                    ipline's1983@icable.ph   \n2   Karmandeep-opengevl@universalnet.psi.br   \n3                         ivqrnai@pobox.com   \n4          externalsep1@loanofficertool.com   \n..                                      ...   \n95                         liivp@python.org   \n96                     ppcwedbyff@gmail.com   \n97                      xycn-vtnhz@perl.org   \n98                 qgzon.djsmosok@gmail.com   \n99    vqznddhdkax_04446187@yourvoice.net.nz   \n\n                                              subject  \\\n0                           Never agree to be a loser   \n1                              Befriend Jenna Jameson   \n2                                CNN.com Daily Top 10   \n3   Re: svn commit: r619753 - in /spamassassin/tru...   \n4                          SpecialPricesPharmMoreinfo   \n..                                                ...   \n95  Re: [Python-Dev] Python-Dev Summary Draft (Apr...   \n96  Re: [Python-Dev] Python-Dev Summary Draft (Apr...   \n97  [Perl Jobs] Top NYC LAMP shop / B2B mod_perl /...   \n98  [SM-USERS] SM 1.4.13 Configuration Question: M...   \n99  ACNielsen Your Voice * 150 e-points for survey...   \n\n                                                 body  contain_urls  \\\n0   Buck up, your troubles caused by small dimensi...             1   \n1   \\nUpgrade your sex and pleasures with these te...             1   \n2   >+=+=+=+=+=+=+=+=+=+=+=+=+=+=+=+=+=+=+=+=+=+=+...             1   \n3   Would anyone object to removing .so from this ...             1   \n4   \\nWelcomeFastShippingCustomerSupport\\nhttp://7...             1   \n..                                                ...           ...   \n95  On 4/24/07, Calvin Spealman  wrote:\\n> I have ...             1   \n96  On 4/24/07, Talin  wrote:\\n> Calvin Spealman w...             1   \n97  Online URL for this job: http://jobs.perl.org/...             1   \n98  Good Evening,\\n\\nI have tried setting the Mail...             0   \n99  This email contains HTML that cannot be displa...             0   \n\n    is_phishing  \n0             1  \n1             1  \n2             1  \n3             0  \n4             1  \n..          ...  \n95            0  \n96            0  \n97            0  \n98            0  \n99            0  \n\n[100 rows x 5 columns]\n"
    }
   ],
   "source": [
    "mails_small = mails.head(100)\n",
    "print(mails_small)"
   ]
  },
  {
   "cell_type": "code",
   "execution_count": 10,
   "metadata": {},
   "outputs": [
    {
     "output_type": "stream",
     "name": "stdout",
     "text": "sender_mail  \\\n0                          Young@iworld.de   \n1                   ipline's1983@icable.ph   \n2  Karmandeep-opengevl@universalnet.psi.br   \n3                        ivqrnai@pobox.com   \n4         externalsep1@loanofficertool.com   \n\n                                             subject  \\\n0                          Never agree to be a loser   \n1                             Befriend Jenna Jameson   \n2                               CNN.com Daily Top 10   \n3  Re: svn commit: r619753 - in /spamassassin/tru...   \n4                         SpecialPricesPharmMoreinfo   \n\n                                                body  contain_urls  \\\n0  Buck up, your troubles caused by small dimensi...             1   \n1  \\nUpgrade your sex and pleasures with these te...             1   \n2  >+=+=+=+=+=+=+=+=+=+=+=+=+=+=+=+=+=+=+=+=+=+=+...             1   \n3  Would anyone object to removing .so from this ...             1   \n4  \\nWelcomeFastShippingCustomerSupport\\nhttp://7...             1   \n\n   is_phishing  \n0            1  \n1            1  \n2            1  \n3            0  \n4            1  \n"
    }
   ],
   "source": [
    "print(mails.head())"
   ]
  },
  {
   "cell_type": "code",
   "execution_count": 11,
   "metadata": {},
   "outputs": [
    {
     "output_type": "stream",
     "name": "stdout",
     "text": ">+=+=+=+=+=+=+=+=+=+=+=+=+=+=+=+=+=+=+=+=+=+=+=+=+=+=+=+=+=+= >THE DAILY TOP 10 >from CNN.com >Top videos and stories as of: Aug  1, 2008  3:58 PM EDT >+=+=+=+=+=+=+=+=+=+=+=+=+=+=+=+=+=+=+=+=+=+=+=+=+=+=+=+=+=+= TOP 10 VIDEOS 1. MONTAUK 'MONSTER' http://www.cnn.com/video/partners/email/index.html?url=/video/us/2008/07/31/moos.montauk.monster.cnn Is it a devil dog? Is it a turtle? Is it the Montauk Monster? CNN's Jeanne Moos asks, \"what is this thing?\" 2. RACY PHOTOS OF TODDLER'S MOM http://www.cnn.com/video/partners/email/index.html?url=/video/crime/2008/07/31/ng.racy.photos.cnn 3. NEWS OF THE ABSURD EPISODE 54 http://www.cnn.com/video/partners/email/index.html?url=/video/podcasts/absurd/site/2008/08/01/nota.episode.54.cnn 4. POLICE BEATING DISPUTE http://www.cnn.com/video/partners/email/index.html?url=/video/us/2008/07/31/levs.police.video.cnn 5. MOM PLEADS FOR GIRL'S RETURN http://www.cnn.com/video/partners/email/index.html?url=/video/crime/2008/08/01/hill.boss.reigh.plea.cnn 6. DEFENDANT FAKES HEART ATTACK http://www.cnn.com/video/partners/email/index.html?url=/video/crime/2008/08/01/dnt.fake.heart.attack.mxf.whio 7. KILLER CARRIED VICTIM'S HEAD http://www.cnn.com/video/partners/email/index.html?url=/video/world/2008/07/31/natpkg.can.bus.decapitation.ctv 8. MURDER CONFESSION RECANTED http://www.cnn.com/video/partners/email/index.html?url=/video/world/2008/08/01/blake.brazil.teen.murder.itn 9. ANTHRAX SUSPECT'S HOME http://www.cnn.com/video/partners/email/index.html?url=/video/us/2008/08/01/von.dr.bruce.ivins.home.cnn 10. HECKLERS INTERRUPT OBAMA TALK http://www.cnn.com/video/partners/email/index.html?url=/video/politics/2008/08/01/sot.fl.obama.protesters.baynews9 TOP 10 STORIES 1. SUSPECT IN BEHEADING IDENTIFIED http://www.cnn.com/2008/WORLD/americas/08/01/canada.beheading/index.html Canadian police say Vince Weiguang Li, 40, of Edmonton is charged with second-degree murder in the beheading of a man on a bus. 2. JUDGE TAKEN OFF LAST JENA 6 CASES http://www.cnn.com/2008/CRIME/08/01/jena6.appeal/index.html 3. PEOPLE MAG GETS PITT-JOLIE PIX http://www.cnn.com/2008/SHOWBIZ/Movies/08/01/brangelina.photos.ap/index.html 4. ATTACK IN TORONTO CALLED RACIAL http://www.cnn.com/2008/WORLD/americas/08/01/canada.attack.ap/index.html 5. IREPORTERS' UNUSUAL NAMES http://www.cnn.com/2008/LIVING/08/01/unusual.names.irpt/index.html 6. MOTHER PLEADS FOR CHILD'S RETURN http://www.cnn.com/2008/CRIME/08/01/rockefeller.kidnapping/index.html 7. KARADZIC: I MADE DEAL WITH U.S. http://www.cnn.com/2008/WORLD/europe/08/01/karadzic.trial/index.html 8. SUSPECT ARRESTED IN SWIM KILLINGS http://www.cnn.com/2008/CRIME/08/01/wisconsin.shooting.ap/index.html 9. ANTHRAX SUSPECT APPARENT SUICIDE http://www.cnn.com/2008/CRIME/08/01/anthrax.death/index.html 10. MCCAIN: OBAMA CRITICISM 'FAIR' http://www.cnn.com/2008/POLITICS/08/01/campaign.wrap/index.html CNN, The Most Trusted Name in News >    Cable News Network LP, LLLP.                       < >    One CNN Center, Atlanta, Georgia 30303             < >    2008 Cable News Network LP, LLLP.                  < >    A Time Warner Company.                             < >    All Rights Reserved.                               < ========================================================= =   Please send comments or suggestions by going to     = =           http://www.cnn.com/feedback/                = =                                                       = =      Read our privacy guidelines by going to          = =         http://www.cnn.com/privacy.html               = ========================================================= You have agreed to receive this email from CNN.com as a result of your CNN.com preference settings. To manage your settings, go to: http://www.cnn.com/linkto/bn.manage.html To unsubscribe from the Daily Top 10, go to http://cgi.cnn.com/m/clik?e=c202f8eb239faf8d4b0a5c6a41cde453@gvc.ceas-challenge.cc&l=cnn-dailytop10\n"
    }
   ],
   "source": [
    "text_example = mails.iloc[2]['body']\n",
    "print(text_example)"
   ]
  },
  {
   "cell_type": "code",
   "execution_count": 12,
   "metadata": {},
   "outputs": [],
   "source": [
    "nlp = spacy.load('en_core_web_lg')\n",
    "\n",
    "stopwords = spacy.lang.en.stop_words.STOP_WORDS\n",
    "\n",
    "doc = nlp(text_example)\n",
    "\n",
    "def not_stopword_and_is_alpha(s):\n",
    "    return s.isalpha() and s not in stopwords\n",
    "\n",
    "lemmas = [token.lemma_ for token in doc\n",
    "                        if not_stopword_and_is_alpha(token.lemma_)]\n",
    "\n",
    "entities = [(ent.text, ent.label_) for ent in doc.ents\n",
    "                                    if not_stopword_and_is_alpha(ent.text)]\n",
    "pos = [(token.text, token.pos_) for token in doc\n",
    "                                    if not_stopword_and_is_alpha(token.text)]"
   ]
  },
  {
   "cell_type": "code",
   "execution_count": 13,
   "metadata": {},
   "outputs": [
    {
     "output_type": "stream",
     "name": "stdout",
     "text": "LEMMAS\nDAILY\nTOP\nvideo\nstory\nAug\nPM\nEDT\nVIDEOS\nMONTAUK\nmonster\ndevil\ndog\nturtle\nMontauk\nMonster\nCNN\nJeanne\nMoos\nask\nthing\nracy\nphoto\nTODDLER\nmom\nnews\nABSURD\nEPISODE\nPOLICE\nbeat\nDISPUTE\nMOM\nPLEADS\nGIRL\nRETURN\ndefendant\nfake\nHEART\nATTACK\nKILLER\ncarry\nVICTIM\nhead\nmurder\nconfession\nRECANTED\nANTHRAX\nSUSPECT\nhome\nheckler\ninterrupt\nobama\nTALK\nSTORIES\nsuspect\nBEHEADING\nIDENTIFIED\ncanadian\npolice\nVince\nWeiguang\nLi\nEdmonton\ncharge\nsecond\ndegree\nmurder\nbeheading\nman\nbus\njudge\nTAKEN\nOFF\njena\ncase\nPEOPLE\nMAG\nGETS\nPITT\nJOLIE\nPIX\nattack\nTORONTO\nRACIAL\nireporter\nunusual\nnames\nMOTHER\nPLEADS\nchild\nRETURN\nKARADZIC\nI\ndeal\nSUSPECT\nARRESTED\nSWIM\nKILLINGS\nANTHRAX\nSUSPECT\nAPPARENT\nSUICIDE\nMCCAIN\nOBAMA\nCRITICISM\nFAIR\nCNN\ntrusted\nNews\nCable\nNews\nNetwork\nLP\nLLLP\nCNN\nCenter\nAtlanta\nGeorgia\nCable\nNews\nNetwork\nLP\nLLLP\nTime\nWarner\nCompany\nRights\nreserve\nsend\ncomment\nsuggestion\nread\nprivacy\nguideline\nagree\nreceive\nemail\nresult\npreference\nsetting\nmanage\nsetting\nunsubscribe\nDaily\nTop\n"
    }
   ],
   "source": [
    "print(\"LEMMAS\")\n",
    "for lemma in lemmas:\n",
    "    print(lemma)"
   ]
  },
  {
   "cell_type": "code",
   "execution_count": 14,
   "metadata": {},
   "outputs": [
    {
     "output_type": "stream",
     "name": "stdout",
     "text": "ENTITIES\nCNN: ORG\nOBAMA: PERSON\nCanadian: NORP\nEdmonton: GPE\nsecond: ORDINAL\nMAG: ORG\nPITT: ORG\nSWIM: GPE\nMCCAIN: ORG\nOBAMA: PERSON\nCNN: ORG\nAtlanta: GPE\nGeorgia: GPE\n"
    }
   ],
   "source": [
    "print(\"ENTITIES\")\n",
    "for name, type_ in entities:\n",
    "    print(name + \": \" + type_)"
   ]
  },
  {
   "cell_type": "code",
   "execution_count": 15,
   "metadata": {},
   "outputs": [
    {
     "output_type": "stream",
     "name": "stdout",
     "text": "POS\nTHE: DET\nDAILY: PROPN\nTOP: PROPN\nTop: ADJ\nvideos: NOUN\nstories: NOUN\nAug: PROPN\nPM: PROPN\nEDT: PROPN\nTOP: ADV\nVIDEOS: PROPN\nMONTAUK: PROPN\nMONSTER: NOUN\nIs: AUX\ndevil: NOUN\ndog: NOUN\nIs: AUX\nturtle: NOUN\nIs: AUX\nMontauk: PROPN\nMonster: PROPN\nCNN: PROPN\nJeanne: PROPN\nMoos: PROPN\nasks: VERB\nthing: NOUN\nRACY: NOUN\nPHOTOS: NOUN\nOF: ADP\nTODDLER: PROPN\nMOM: NOUN\nNEWS: NOUN\nOF: ADP\nTHE: DET\nABSURD: PROPN\nEPISODE: VERB\nPOLICE: NOUN\nBEATING: VERB\nDISPUTE: VERB\nMOM: PROPN\nPLEADS: PROPN\nFOR: ADP\nGIRL: PROPN\nRETURN: PROPN\nDEFENDANT: VERB\nFAKES: VERB\nHEART: PROPN\nATTACK: PROPN\nKILLER: PROPN\nCARRIED: VERB\nVICTIM: NOUN\nHEAD: NOUN\nMURDER: NOUN\nCONFESSION: NOUN\nRECANTED: PROPN\nANTHRAX: PROPN\nSUSPECT: PROPN\nHOME: NOUN\nHECKLERS: NOUN\nINTERRUPT: VERB\nOBAMA: NOUN\nTALK: PROPN\nTOP: ADV\nSTORIES: PROPN\nSUSPECT: ADJ\nIN: ADP\nBEHEADING: PROPN\nIDENTIFIED: PROPN\nCanadian: ADJ\npolice: NOUN\nVince: PROPN\nWeiguang: PROPN\nLi: PROPN\nEdmonton: PROPN\ncharged: VERB\nsecond: ADJ\ndegree: NOUN\nmurder: NOUN\nbeheading: NOUN\nman: NOUN\nbus: NOUN\nJUDGE: NOUN\nTAKEN: PROPN\nOFF: PROPN\nLAST: ADJ\nJENA: NOUN\nCASES: NOUN\nPEOPLE: PROPN\nMAG: PROPN\nGETS: PROPN\nPITT: PROPN\nJOLIE: PROPN\nPIX: PROPN\nATTACK: NOUN\nIN: ADP\nTORONTO: PROPN\nCALLED: VERB\nRACIAL: PROPN\nIREPORTERS: NOUN\nUNUSUAL: NOUN\nNAMES: NOUN\nMOTHER: PROPN\nPLEADS: PROPN\nFOR: ADP\nCHILD: NOUN\nRETURN: PROPN\nKARADZIC: NOUN\nI: PRON\nMADE: VERB\nDEAL: VERB\nWITH: ADP\nSUSPECT: PROPN\nARRESTED: PROPN\nIN: ADP\nSWIM: PROPN\nKILLINGS: PROPN\nANTHRAX: PROPN\nSUSPECT: PROPN\nAPPARENT: PROPN\nSUICIDE: PROPN\nMCCAIN: PROPN\nOBAMA: PROPN\nCRITICISM: PROPN\nFAIR: PROPN\nCNN: PROPN\nThe: DET\nMost: ADV\nTrusted: ADJ\nName: NOUN\nNews: PROPN\nCable: PROPN\nNews: PROPN\nNetwork: PROPN\nLP: PROPN\nLLLP: NOUN\nOne: NUM\nCNN: PROPN\nCenter: PROPN\nAtlanta: PROPN\nGeorgia: PROPN\nCable: PROPN\nNews: PROPN\nNetwork: PROPN\nLP: PROPN\nLLLP: NOUN\nA: DET\nTime: PROPN\nWarner: PROPN\nCompany: PROPN\nAll: DET\nRights: PROPN\nReserved: VERB\nPlease: INTJ\nsend: VERB\ncomments: NOUN\nsuggestions: NOUN\ngoing: VERB\nRead: VERB\nprivacy: NOUN\nguidelines: NOUN\ngoing: VERB\nYou: PRON\nagreed: VERB\nreceive: VERB\nemail: NOUN\nresult: NOUN\npreference: NOUN\nsettings: NOUN\nTo: PART\nmanage: VERB\nsettings: NOUN\nTo: PART\nunsubscribe: VERB\nDaily: PROPN\nTop: PROPN\n"
    }
   ],
   "source": [
    "print(\"POS\")\n",
    "for word, pos_ in pos:\n",
    "    print(word + \": \" + pos_)"
   ]
  },
  {
   "cell_type": "code",
   "execution_count": null,
   "metadata": {},
   "outputs": [],
   "source": []
  },
  {
   "cell_type": "code",
   "execution_count": null,
   "metadata": {},
   "outputs": [],
   "source": []
  }
 ],
 "metadata": {
  "language_info": {
   "codemirror_mode": {
    "name": "ipython",
    "version": 3
   },
   "file_extension": ".py",
   "mimetype": "text/x-python",
   "name": "python",
   "nbconvert_exporter": "python",
   "pygments_lexer": "ipython3",
   "version": "3.9.5-final"
  },
  "orig_nbformat": 2,
  "kernelspec": {
   "name": "python39564bitc3010b94230a474699e3eebe689650e5",
   "display_name": "Python 3.9.5 64-bit"
  }
 },
 "nbformat": 4,
 "nbformat_minor": 2
}