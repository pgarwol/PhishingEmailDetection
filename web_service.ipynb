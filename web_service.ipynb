{
 "cells": [
  {
   "cell_type": "code",
   "execution_count": 2,
   "metadata": {},
   "outputs": [
    {
     "name": "stdout",
     "output_type": "stream",
     "text": [
      "Collecting zeep\n",
      "  Downloading zeep-4.2.1-py3-none-any.whl (101 kB)\n",
      "     ---------------------------------------- 0.0/101.2 kB ? eta -:--:--\n",
      "     ---- ----------------------------------- 10.2/101.2 kB ? eta -:--:--\n",
      "     ---- ----------------------------------- 10.2/101.2 kB ? eta -:--:--\n",
      "     -------------- ---------------------- 41.0/101.2 kB 245.8 kB/s eta 0:00:01\n",
      "     -------------------------- ---------- 71.7/101.2 kB 328.6 kB/s eta 0:00:01\n",
      "     ------------------------------------ 101.2/101.2 kB 448.1 kB/s eta 0:00:00\n",
      "Requirement already satisfied: attrs>=17.2.0 in c:\\users\\patryk\\appdata\\local\\packages\\pythonsoftwarefoundation.python.3.11_qbz5n2kfra8p0\\localcache\\local-packages\\python311\\site-packages (from zeep) (23.1.0)\n",
      "Collecting isodate>=0.5.4 (from zeep)\n",
      "  Downloading isodate-0.6.1-py2.py3-none-any.whl (41 kB)\n",
      "     ---------------------------------------- 0.0/41.7 kB ? eta -:--:--\n",
      "     ---------------------------------------- 41.7/41.7 kB 2.1 MB/s eta 0:00:00\n",
      "Requirement already satisfied: lxml>=4.6.0 in c:\\users\\patryk\\appdata\\local\\packages\\pythonsoftwarefoundation.python.3.11_qbz5n2kfra8p0\\localcache\\local-packages\\python311\\site-packages (from zeep) (4.9.3)\n",
      "Requirement already satisfied: platformdirs>=1.4.0 in c:\\users\\patryk\\appdata\\local\\packages\\pythonsoftwarefoundation.python.3.11_qbz5n2kfra8p0\\localcache\\local-packages\\python311\\site-packages (from zeep) (4.0.0)\n",
      "Requirement already satisfied: requests>=2.7.0 in c:\\users\\patryk\\appdata\\local\\packages\\pythonsoftwarefoundation.python.3.11_qbz5n2kfra8p0\\localcache\\local-packages\\python311\\site-packages (from zeep) (2.31.0)\n",
      "Collecting requests-toolbelt>=0.7.1 (from zeep)\n",
      "  Downloading requests_toolbelt-1.0.0-py2.py3-none-any.whl (54 kB)\n",
      "     ---------------------------------------- 0.0/54.5 kB ? eta -:--:--\n",
      "     ---------------------------------------- 54.5/54.5 kB 1.4 MB/s eta 0:00:00\n",
      "Requirement already satisfied: requests-file>=1.5.1 in c:\\users\\patryk\\appdata\\local\\packages\\pythonsoftwarefoundation.python.3.11_qbz5n2kfra8p0\\localcache\\local-packages\\python311\\site-packages (from zeep) (1.5.1)\n",
      "Requirement already satisfied: pytz in c:\\users\\patryk\\appdata\\local\\packages\\pythonsoftwarefoundation.python.3.11_qbz5n2kfra8p0\\localcache\\local-packages\\python311\\site-packages (from zeep) (2023.3.post1)\n",
      "Requirement already satisfied: six in c:\\users\\patryk\\appdata\\local\\packages\\pythonsoftwarefoundation.python.3.11_qbz5n2kfra8p0\\localcache\\local-packages\\python311\\site-packages (from isodate>=0.5.4->zeep) (1.16.0)\n",
      "Requirement already satisfied: charset-normalizer<4,>=2 in c:\\users\\patryk\\appdata\\local\\packages\\pythonsoftwarefoundation.python.3.11_qbz5n2kfra8p0\\localcache\\local-packages\\python311\\site-packages (from requests>=2.7.0->zeep) (3.3.2)\n",
      "Requirement already satisfied: idna<4,>=2.5 in c:\\users\\patryk\\appdata\\local\\packages\\pythonsoftwarefoundation.python.3.11_qbz5n2kfra8p0\\localcache\\local-packages\\python311\\site-packages (from requests>=2.7.0->zeep) (3.4)\n",
      "Requirement already satisfied: urllib3<3,>=1.21.1 in c:\\users\\patryk\\appdata\\local\\packages\\pythonsoftwarefoundation.python.3.11_qbz5n2kfra8p0\\localcache\\local-packages\\python311\\site-packages (from requests>=2.7.0->zeep) (1.26.18)\n",
      "Requirement already satisfied: certifi>=2017.4.17 in c:\\users\\patryk\\appdata\\local\\packages\\pythonsoftwarefoundation.python.3.11_qbz5n2kfra8p0\\localcache\\local-packages\\python311\\site-packages (from requests>=2.7.0->zeep) (2023.7.22)\n",
      "Installing collected packages: isodate, requests-toolbelt, zeep\n",
      "Successfully installed isodate-0.6.1 requests-toolbelt-1.0.0 zeep-4.2.1\n"
     ]
    }
   ],
   "source": [
    "!pip install zeep\n"
   ]
  },
  {
   "cell_type": "code",
   "execution_count": 3,
   "metadata": {},
   "outputs": [],
   "source": [
    "import tkinter as tk\n",
    "from zeep import Client\n",
    "\n",
    "class SoapClientGUI:\n",
    "    def __init__(self, master):\n",
    "        self.master = master\n",
    "        master.title(\"SOAP Web Service GUI\")\n",
    "\n",
    "        # Create labels and entry widgets\n",
    "        self.label_url = tk.Label(master, text=\"WSDL URL:\")\n",
    "        self.label_url.grid(row=0, column=0, sticky=tk.E)\n",
    "        self.entry_url = tk.Entry(master, width=40)\n",
    "        self.entry_url.grid(row=0, column=1, columnspan=2)\n",
    "\n",
    "        self.label_method = tk.Label(master, text=\"Method:\")\n",
    "        self.label_method.grid(row=1, column=0, sticky=tk.E)\n",
    "        self.entry_method = tk.Entry(master)\n",
    "        self.entry_method.grid(row=1, column=1, columnspan=2)\n",
    "\n",
    "        self.label_params = tk.Label(master, text=\"Parameters:\")\n",
    "        self.label_params.grid(row=2, column=0, sticky=tk.E)\n",
    "        self.entry_params = tk.Entry(master)\n",
    "        self.entry_params.grid(row=2, column=1, columnspan=2)\n",
    "\n",
    "        # Create a text area for displaying results\n",
    "        self.result_text = tk.Text(master, height=10, width=50)\n",
    "        self.result_text.grid(row=3, column=0, columnspan=3)\n",
    "\n",
    "        # Create a button to invoke the SOAP web service\n",
    "        self.invoke_button = tk.Button(master, text=\"Invoke\", command=self.invoke_soap_service)\n",
    "        self.invoke_button.grid(row=4, column=1)\n",
    "\n",
    "    def invoke_soap_service(self):\n",
    "        wsdl_url = self.entry_url.get('http://localhost:8080/CalculatorService?wsdl')\n",
    "        method = self.entry_method.get()\n",
    "        params = self.entry_params.get()\n",
    "\n",
    "        try:\n",
    "            # Create a SOAP client\n",
    "            client = Client(wsdl_url)\n",
    "\n",
    "            # Invoke the SOAP method with parameters\n",
    "            result = client.service[method](params)\n",
    "\n",
    "            # Display the result in the text area\n",
    "            self.result_text.delete(1.0, tk.END)\n",
    "            self.result_text.insert(tk.END, str(result))\n",
    "        except Exception as e:\n",
    "            self.result_text.delete(1.0, tk.END)\n",
    "            self.result_text.insert(tk.END, f\"Error: {str(e)}\")\n",
    "\n",
    "if __name__ == \"__main__\":\n",
    "    root = tk.Tk()\n",
    "    app = SoapClientGUI(root)\n",
    "    root.mainloop()\n"
   ]
  },
  {
   "cell_type": "code",
   "execution_count": null,
   "metadata": {},
   "outputs": [],
   "source": []
  }
 ],
 "metadata": {
  "kernelspec": {
   "display_name": "Python 3",
   "language": "python",
   "name": "python3"
  },
  "language_info": {
   "codemirror_mode": {
    "name": "ipython",
    "version": 3
   },
   "file_extension": ".py",
   "mimetype": "text/x-python",
   "name": "python",
   "nbconvert_exporter": "python",
   "pygments_lexer": "ipython3",
   "version": "3.11.7"
  }
 },
 "nbformat": 4,
 "nbformat_minor": 2
}
