{
 "cells": [
  {
   "cell_type": "code",
   "execution_count": 1,
   "metadata": {},
   "outputs": [],
   "source": [
    "import pandas as pd\n",
    "import numpy as np\n",
    "import matplotlib.pyplot as plt\n",
    "\n",
    "import re\n",
    "\n",
    "import spacy\n",
    "\n",
    "import ssl\n",
    "import socket"
   ]
  },
  {
   "cell_type": "code",
   "execution_count": 2,
   "metadata": {},
   "outputs": [
    {
     "name": "stdout",
     "output_type": "stream",
     "text": [
      "                                              sender  \\\n",
      "0                   Young Esposito <Young@iworld.de>   \n",
      "1                       Mok <ipline's1983@icable.ph>   \n",
      "2  Daily Top 10 <Karmandeep-opengevl@universalnet...   \n",
      "\n",
      "                        receiver                             date  \\\n",
      "0    user4@gvc.ceas-challenge.cc  Tue, 05 Aug 2008 16:31:02 -0700   \n",
      "1  user2.2@gvc.ceas-challenge.cc  Tue, 05 Aug 2008 18:31:03 -0500   \n",
      "2  user2.9@gvc.ceas-challenge.cc  Tue, 05 Aug 2008 20:28:00 -1200   \n",
      "\n",
      "                     subject  \\\n",
      "0  Never agree to be a loser   \n",
      "1     Befriend Jenna Jameson   \n",
      "2       CNN.com Daily Top 10   \n",
      "\n",
      "                                                body  label  urls  \n",
      "0  Buck up, your troubles caused by small dimensi...      1     1  \n",
      "1  \\nUpgrade your sex and pleasures with these te...      1     1  \n",
      "2  >+=+=+=+=+=+=+=+=+=+=+=+=+=+=+=+=+=+=+=+=+=+=+...      1     1  \n"
     ]
    }
   ],
   "source": [
    "mails = pd.read_csv('CEAS_08.csv')\n",
    "print(mails.head(3))"
   ]
  },
  {
   "cell_type": "code",
   "execution_count": 3,
   "metadata": {},
   "outputs": [],
   "source": [
    "mails.drop_duplicates(subset=['subject', 'sender'],\n",
    "                      keep='first',\n",
    "                      inplace=True)\n",
    "\n",
    "# print(mails.isnull().sum().sort_values())\n",
    "mails.dropna(subset=['subject'], inplace=True)"
   ]
  },
  {
   "cell_type": "code",
   "execution_count": 4,
   "metadata": {},
   "outputs": [],
   "source": [
    "def strip_for_mail(sender):\n",
    "    start_symbol = '<'\n",
    "    end_symbol = '>'\n",
    "    if start_symbol in sender:\n",
    "        start_index = sender.index(start_symbol) + 1\n",
    "        end_index = sender.index(end_symbol)\n",
    "        output = sender[start_index:end_index]\n",
    "        return output\n",
    "    else:\n",
    "        return sender\n",
    "\n",
    "\n",
    "mails['sender_mail'] = mails['sender'].apply(strip_for_mail)"
   ]
  },
  {
   "cell_type": "code",
   "execution_count": 5,
   "metadata": {},
   "outputs": [],
   "source": [
    "mapping = {\n",
    "    0: 'legit',\n",
    "    1: 'malicious'\n",
    "}\n",
    "\n",
    "mails['label'] = mails['label'].map(mapping)\n",
    "\n",
    "mails = mails[['sender_mail', 'subject', 'body', 'label']]\n",
    "mails.columns = ['sender_mail', 'subject', 'body', 'phishing']\n",
    "\n",
    "# print(mails.info())"
   ]
  },
  {
   "cell_type": "code",
   "execution_count": 6,
   "metadata": {},
   "outputs": [],
   "source": [
    "# Na potrzeby obliczeń zmniejszamy\n",
    "# mails = mails.iloc[:10000, :]\n",
    "# print(mails.info())"
   ]
  },
  {
   "cell_type": "code",
   "execution_count": 7,
   "metadata": {},
   "outputs": [
    {
     "name": "stdout",
     "output_type": "stream",
     "text": [
      "Buck up, your troubles caused by small dimension will soon be over!\n",
      "Become a lover no woman will be able to resist!\n",
      "http://whitedone.com/\n",
      "\n",
      "\n",
      "come. Even as Nazi tanks were rolling down the streets, the dreamersphilosopher or a journalist. He was still not sure.I do the same.\n",
      "                               sender_mail                    subject  \\\n",
      "0                          Young@iworld.de  Never agree to be a loser   \n",
      "1                   ipline's1983@icable.ph     Befriend Jenna Jameson   \n",
      "2  Karmandeep-opengevl@universalnet.psi.br       CNN.com Daily Top 10   \n",
      "\n",
      "                                                body   phishing  \\\n",
      "0  Buck up, your troubles caused by small dimensi...  malicious   \n",
      "1  \\nUpgrade your sex and pleasures with these te...  malicious   \n",
      "2  >+=+=+=+=+=+=+=+=+=+=+=+=+=+=+=+=+=+=+=+=+=+=+...  malicious   \n",
      "\n",
      "                                      extracted_urls  urls_count  \n",
      "0                            [http://whitedone.com/]           1  \n",
      "1                        [http://www.brightmade.com]           1  \n",
      "2  [http://www.cnn.com/video/partners/email/index...          24  \n"
     ]
    }
   ],
   "source": [
    "print(mails.body[0])\n",
    "def extract_urls(text):\n",
    "    url_pattern = re.compile(r'https?://\\S+|www\\.\\S+')\n",
    "    matches = re.findall(url_pattern, text)\n",
    "\n",
    "    return matches, len(matches)\n",
    "\n",
    "mails[['extracted_urls', 'urls_count']] = mails['body'].apply(lambda x:\n",
    "                                                              pd.Series(extract_urls(x)))\n",
    "print(mails.head(3))\n"
   ]
  },
  {
   "cell_type": "markdown",
   "metadata": {},
   "source": [
    "## 1. Certyfikat SSL"
   ]
  },
  {
   "cell_type": "code",
   "execution_count": 8,
   "metadata": {},
   "outputs": [
    {
     "name": "stdout",
     "output_type": "stream",
     "text": [
      "                               sender_mail  \\\n",
      "0                          Young@iworld.de   \n",
      "1                   ipline's1983@icable.ph   \n",
      "2  Karmandeep-opengevl@universalnet.psi.br   \n",
      "3                        ivqrnai@pobox.com   \n",
      "4         externalsep1@loanofficertool.com   \n",
      "\n",
      "                                             subject  \\\n",
      "0                          Never agree to be a loser   \n",
      "1                             Befriend Jenna Jameson   \n",
      "2                               CNN.com Daily Top 10   \n",
      "3  Re: svn commit: r619753 - in /spamassassin/tru...   \n",
      "4                         SpecialPricesPharmMoreinfo   \n",
      "\n",
      "                                                body   phishing  \\\n",
      "0  Buck up, your troubles caused by small dimensi...  malicious   \n",
      "1  \\nUpgrade your sex and pleasures with these te...  malicious   \n",
      "2  >+=+=+=+=+=+=+=+=+=+=+=+=+=+=+=+=+=+=+=+=+=+=+...  malicious   \n",
      "3  Would anyone object to removing .so from this ...      legit   \n",
      "4  \\nWelcomeFastShippingCustomerSupport\\nhttp://7...  malicious   \n",
      "\n",
      "                                      extracted_urls  urls_count protocol  \n",
      "0                            [http://whitedone.com/]           1     http  \n",
      "1                        [http://www.brightmade.com]           1     http  \n",
      "2  [http://www.cnn.com/video/partners/email/index...          24     http  \n",
      "3  [http://en.wikipedia.org/wiki/.so_%28domain_na...         652     http  \n",
      "4  [http://7iwfna.blu.livefilestore.com/y1pXdX3kw...           1     http  \n"
     ]
    }
   ],
   "source": [
    "def is_https(urls):\n",
    "    if not urls:\n",
    "        return 'None'\n",
    "    \n",
    "    if urls[0][:5] == 'https':\n",
    "        return 'https'\n",
    "    else:\n",
    "        return 'http'\n",
    "    \n",
    "\n",
    "mails['protocol'] = mails['extracted_urls'].apply(is_https)\n",
    "\n",
    "protocols = pd.CategoricalDtype(['None', 'http', 'https'],\n",
    "                                ordered=True)\n",
    "\n",
    "mails['protocol'] = mails['protocol'].astype(protocols)\n",
    "# print(mails.head())"
   ]
  },
  {
   "cell_type": "code",
   "execution_count": 9,
   "metadata": {},
   "outputs": [],
   "source": [
    "val_count = mails[['protocol', 'phishing']].value_counts()\n",
    "\n",
    "data = {\n",
    "    \"malicious\": {\n",
    "        protocol: count for (protocol, phishing),\n",
    "                    count in val_count.items() if phishing == 'malicious'\n",
    "    },\n",
    "    \"legit\": {\n",
    "        protocol: count for (protocol, phishing),\n",
    "                    count in val_count.items() if phishing == 'legit'\n",
    "    }\n",
    "}"
   ]
  },
  {
   "cell_type": "code",
   "execution_count": 13,
   "metadata": {},
   "outputs": [
    {
     "data": {
      "image/png": "[encoded data removed]",
      "text/plain": [
       "<Figure size 640x480 with 1 Axes>"
      ]
     },
     "metadata": {},
     "output_type": "display_data"
    }
   ],
   "source": [
    "\n",
    "categories = list(data.keys())\n",
    "protocols = list(data[\"malicious\"].keys())\n",
    "values_malicious = [data[\"malicious\"][protocol] for protocol in protocols]\n",
    "values_legit = [data[\"legit\"][protocol] for protocol in protocols]\n",
    "\n",
    "fig, ax = plt.subplots()\n",
    "ax.barh(protocols, values_malicious, label='Malicious')\n",
    "ax.barh(protocols, values_legit, label='Legit', left=values_malicious)\n",
    "\n",
    "ax.set_xlabel('# URLs')\n",
    "ax.set_title('Placeholder')\n",
    "\n",
    "plt.legend()\n",
    "plt.show()"
   ]
  },
  {
   "cell_type": "markdown",
   "metadata": {},
   "source": [
    "## Autentyczność certyfikatu"
   ]
  },
  {
   "cell_type": "code",
   "execution_count": 40,
   "metadata": {},
   "outputs": [
    {
     "name": "stdout",
     "output_type": "stream",
     "text": [
      "aniagotuje.pl\n",
      "Issuer: {'Common Name': 'R3', 'Organization': \"Let's Encrypt\"}\n",
      "Expiration_date: Feb 27 16:34:55 2024 GMT\n"
     ]
    }
   ],
   "source": [
    "def get_ssl_certificate(url):\n",
    "    domain = url.split('//')[1].split('/')[0]\n",
    "    print(domain)\n",
    "\n",
    "    try:\n",
    "        connection = socket.create_connection((domain, 443))\n",
    "        context = ssl.create_default_context()\n",
    "        with context.wrap_socket(connection, server_hostname=domain) as sock:\n",
    "            certificate = sock.getpeercert()\n",
    "            return shorten_certificate(certificate)\n",
    "    except Exception as e:\n",
    "        print(f\"Error: {e}\")\n",
    "        return None\n",
    "\n",
    "\n",
    "def shorten_certificate(cert):\n",
    "    output_cert = {\n",
    "        'Issuer': {\n",
    "            'Common Name': cert['issuer'][2][0][1],\n",
    "            'Organization': cert['issuer'][1][0][1],  \n",
    "        },\n",
    "        'Expiration_date': cert['notAfter']\n",
    "    }\n",
    "    return output_cert\n",
    "\n",
    "\n",
    "url = 'https://aniagotuje.pl/'\n",
    "certificate = get_ssl_certificate(url)\n",
    "for k, v in certificate.items():\n",
    "    print('{}: {}'.format(k, v))\n",
    "\n",
    "\n",
    "\n"
   ]
  },
  {
   "cell_type": "markdown",
   "metadata": {},
   "source": [
    "## Czarna lista słów"
   ]
  },
  {
   "cell_type": "markdown",
   "metadata": {},
   "source": []
  },
  {
   "cell_type": "markdown",
   "metadata": {},
   "source": [
    "## Odnośniki przekierowywujące"
   ]
  },
  {
   "cell_type": "markdown",
   "metadata": {},
   "source": []
  },
  {
   "cell_type": "markdown",
   "metadata": {},
   "source": [
    "## Ukrywane odnośniki"
   ]
  },
  {
   "cell_type": "markdown",
   "metadata": {},
   "source": []
  },
  {
   "cell_type": "markdown",
   "metadata": {},
   "source": [
    "## Adres IP wewnątrz odnośnika"
   ]
  },
  {
   "cell_type": "markdown",
   "metadata": {},
   "source": []
  },
  {
   "cell_type": "markdown",
   "metadata": {},
   "source": [
    "## Liczba odwiedzin witryny"
   ]
  },
  {
   "cell_type": "markdown",
   "metadata": {},
   "source": []
  },
  {
   "cell_type": "markdown",
   "metadata": {},
   "source": [
    "## Wiek strony internetowej"
   ]
  },
  {
   "cell_type": "markdown",
   "metadata": {},
   "source": []
  },
  {
   "cell_type": "markdown",
   "metadata": {},
   "source": [
    "## Adres e-mail nadawcy"
   ]
  },
  {
   "cell_type": "markdown",
   "metadata": {},
   "source": []
  }
 ],
 "metadata": {
  "kernelspec": {
   "display_name": "Python 3",
   "language": "python",
   "name": "python3"
  },
  "language_info": {
   "codemirror_mode": {
    "name": "ipython",
    "version": 3
   },
   "file_extension": ".py",
   "mimetype": "text/x-python",
   "name": "python",
   "nbconvert_exporter": "python",
   "pygments_lexer": "ipython3",
   "version": "3.11.6"
  }
 },
 "nbformat": 4,
 "nbformat_minor": 2
}
