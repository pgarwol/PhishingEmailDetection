{
 "cells": [
  {
   "cell_type": "code",
   "execution_count": 1,
   "metadata": {},
   "outputs": [],
   "source": [
    "import pandas as pd\n",
    "import numpy as np\n",
    "import matplotlib.pyplot as plt\n",
    "\n",
    "import re\n",
    "\n",
    "import spacy\n",
    "\n",
    "import ssl\n",
    "import socket"
   ]
  },
  {
   "cell_type": "code",
   "execution_count": 2,
   "metadata": {},
   "outputs": [
    {
     "name": "stdout",
     "output_type": "stream",
     "text": [
      "                                              sender  \\\n",
      "0                   Young Esposito <Young@iworld.de>   \n",
      "1                       Mok <ipline's1983@icable.ph>   \n",
      "2  Daily Top 10 <Karmandeep-opengevl@universalnet...   \n",
      "\n",
      "                        receiver                             date  \\\n",
      "0    user4@gvc.ceas-challenge.cc  Tue, 05 Aug 2008 16:31:02 -0700   \n",
      "1  user2.2@gvc.ceas-challenge.cc  Tue, 05 Aug 2008 18:31:03 -0500   \n",
      "2  user2.9@gvc.ceas-challenge.cc  Tue, 05 Aug 2008 20:28:00 -1200   \n",
      "\n",
      "                     subject  \\\n",
      "0  Never agree to be a loser   \n",
      "1     Befriend Jenna Jameson   \n",
      "2       CNN.com Daily Top 10   \n",
      "\n",
      "                                                body  label  urls  \n",
      "0  Buck up, your troubles caused by small dimensi...      1     1  \n",
      "1  \\nUpgrade your sex and pleasures with these te...      1     1  \n",
      "2  >+=+=+=+=+=+=+=+=+=+=+=+=+=+=+=+=+=+=+=+=+=+=+...      1     1  \n"
     ]
    }
   ],
   "source": [
    "mails = pd.read_csv('CEAS_08.csv')\n",
    "print(mails.head(3))"
   ]
  },
  {
   "cell_type": "code",
   "execution_count": 3,
   "metadata": {},
   "outputs": [],
   "source": [
    "mails.drop_duplicates(subset=['subject', 'sender'],\n",
    "                      keep='first',\n",
    "                      inplace=True)\n",
    "\n",
    "# print(mails.isnull().sum().sort_values())\n",
    "mails.dropna(subset=['subject'], inplace=True)"
   ]
  },
  {
   "cell_type": "code",
   "execution_count": 4,
   "metadata": {},
   "outputs": [],
   "source": [
    "def strip_for_mail(sender):\n",
    "    start_symbol = '<'\n",
    "    end_symbol = '>'\n",
    "    if start_symbol in sender:\n",
    "        start_index = sender.index(start_symbol) + 1\n",
    "        end_index = sender.index(end_symbol)\n",
    "        output = sender[start_index:end_index]\n",
    "        return output\n",
    "    else:\n",
    "        return sender\n",
    "\n",
    "\n",
    "mails['sender_mail'] = mails['sender'].apply(strip_for_mail)"
   ]
  },
  {
   "cell_type": "code",
   "execution_count": 5,
   "metadata": {},
   "outputs": [],
   "source": [
    "mapping = {\n",
    "    0: 'legit',\n",
    "    1: 'malicious'\n",
    "}\n",
    "\n",
    "mails['label'] = mails['label'].map(mapping)\n",
    "\n",
    "mails = mails[['sender_mail', 'subject', 'body', 'label']]\n",
    "mails.columns = ['sender_mail', 'subject', 'body', 'phishing']\n",
    "\n",
    "# print(mails.info())"
   ]
  },
  {
   "cell_type": "code",
   "execution_count": 6,
   "metadata": {},
   "outputs": [
    {
     "name": "stdout",
     "output_type": "stream",
     "text": [
      "<class 'pandas.core.frame.DataFrame'>\n",
      "RangeIndex: 100 entries, 0 to 99\n",
      "Data columns (total 4 columns):\n",
      " #   Column       Non-Null Count  Dtype \n",
      "---  ------       --------------  ----- \n",
      " 0   sender_mail  100 non-null    object\n",
      " 1   subject      100 non-null    object\n",
      " 2   body         100 non-null    object\n",
      " 3   phishing     100 non-null    object\n",
      "dtypes: object(4)\n",
      "memory usage: 3.3+ KB\n",
      "None\n"
     ]
    }
   ],
   "source": [
    "# Shufflujemy sobie\n",
    "mails = mails.sample(frac=1).reset_index(drop=True)\n",
    "\n",
    "# Na potrzeby obliczeń zmniejszamy\n",
    "cut_rows_to = 100\n",
    "mails = mails.iloc[:cut_rows_to, :]\n",
    "print(mails.info())"
   ]
  },
  {
   "cell_type": "code",
   "execution_count": 7,
   "metadata": {},
   "outputs": [
    {
     "name": "stdout",
     "output_type": "stream",
     "text": [
      "\n",
      "\n",
      "Do not ignore me please,\n",
      "I found your email somewhere and now decided to write you.\n",
      "Let me know if you do not mind. If you want I can send you some pictures of me.\n",
      "I am a nice pretty girl. Don't reply to this email. \n",
      "Email me direclty at dkrystle@cardrealc.com\n",
      "\n",
      "\n",
      "\n",
      "                   sender_mail                                subject  \\\n",
      "0  aorugceqzdlh@mystarship.com                        hi from krystle   \n",
      "1            mjl@ix.netcom.com  Re: [Dixielandjazz] Dixieland Beatles   \n",
      "2      okbdrnfsbrqqp@gmail.com                Re: [ie-rant] Re: pubs.   \n",
      "\n",
      "                                                body   phishing  \\\n",
      "0  \\n\\nDo not ignore me please,\\nI found your ema...  malicious   \n",
      "1  Not an answer to the question, but one of my m...      legit   \n",
      "2  I like Anseo on Camden street, the vibe is sim...      legit   \n",
      "\n",
      "                                      extracted_urls  urls_count  \n",
      "0                                                 []           0  \n",
      "1  [http://ml.islandnet.com/mailman/listinfo/dixi...           1  \n",
      "2  [http://www.johnbraine.com, http://www.johnbra...           4  \n"
     ]
    }
   ],
   "source": [
    "print(mails.body[0])\n",
    "def extract_urls(text):\n",
    "    url_pattern = re.compile(r'https?://\\S+|www\\.\\S+')\n",
    "    matches = re.findall(url_pattern, text)\n",
    "\n",
    "    return matches, len(matches)\n",
    "\n",
    "mails[['extracted_urls', 'urls_count']] = mails['body'].apply(lambda x:\n",
    "                                                              pd.Series(extract_urls(x)))\n",
    "print(mails.head(3))\n"
   ]
  },
  {
   "cell_type": "markdown",
   "metadata": {},
   "source": [
    "## 1. Certyfikat SSL"
   ]
  },
  {
   "cell_type": "code",
   "execution_count": 8,
   "metadata": {},
   "outputs": [],
   "source": [
    "def is_https(urls):\n",
    "    if not urls:\n",
    "        return 'None'\n",
    "    \n",
    "    if urls[0][:5] == 'https':\n",
    "        return 'https'\n",
    "    else:\n",
    "        return 'http'\n",
    "    \n",
    "\n",
    "mails['protocol'] = mails['extracted_urls'].apply(is_https)\n",
    "\n",
    "protocols = pd.CategoricalDtype(['None', 'http', 'https'],\n",
    "                                ordered=True)\n",
    "\n",
    "mails['protocol'] = mails['protocol'].astype(protocols)\n",
    "# print(mails.head())"
   ]
  },
  {
   "cell_type": "code",
   "execution_count": 9,
   "metadata": {},
   "outputs": [],
   "source": [
    "val_count = mails[['protocol', 'phishing']].value_counts()\n",
    "\n",
    "data = {\n",
    "    \"malicious\": {\n",
    "        protocol: count for (protocol, phishing),\n",
    "                    count in val_count.items() if phishing == 'malicious'\n",
    "    },\n",
    "    \"legit\": {\n",
    "        protocol: count for (protocol, phishing),\n",
    "                    count in val_count.items() if phishing == 'legit'\n",
    "    }\n",
    "}"
   ]
  },
  {
   "cell_type": "code",
   "execution_count": 10,
   "metadata": {},
   "outputs": [
    {
     "data": {
      "image/png": "[encoded data removed]",
      "text/plain": [
       "<Figure size 640x480 with 1 Axes>"
      ]
     },
     "metadata": {},
     "output_type": "display_data"
    }
   ],
   "source": [
    "\n",
    "categories = list(data.keys())\n",
    "protocols = list(data[\"malicious\"].keys())\n",
    "values_malicious = [data[\"malicious\"][protocol] for protocol in protocols]\n",
    "values_legit = [data[\"legit\"][protocol] for protocol in protocols]\n",
    "\n",
    "fig, ax = plt.subplots()\n",
    "ax.barh(protocols, values_malicious, label='Malicious')\n",
    "ax.barh(protocols, values_legit, label='Legit', left=values_malicious)\n",
    "\n",
    "ax.set_xlabel('# URLs')\n",
    "ax.set_title('Placeholder')\n",
    "\n",
    "plt.legend()\n",
    "plt.show()"
   ]
  },
  {
   "cell_type": "markdown",
   "metadata": {},
   "source": [
    "## Autentyczność certyfikatu"
   ]
  },
  {
   "cell_type": "code",
   "execution_count": 11,
   "metadata": {},
   "outputs": [],
   "source": [
    "def get_domain_from_url(url):\n",
    "    pass\n",
    "# ZROBIĆ\n",
    "\n",
    "\n",
    "def get_ssl_certificate(url):\n",
    "    if not url:\n",
    "        return 'no url'\n",
    "\n",
    "    # Get domain out of url\n",
    "    pattern = re.compile(r'https?://([^/]+)')\n",
    "    match = pattern.match(url[0])\n",
    "    \n",
    "    if match:\n",
    "        domain = match.group(1)\n",
    "    else:\n",
    "        return 'url error'\n",
    "\n",
    "    # Get certificate\n",
    "    try:\n",
    "        connection = socket.create_connection((domain, 443))\n",
    "        context = ssl.create_default_context()\n",
    "        with context.wrap_socket(connection, server_hostname=domain) as sock:\n",
    "            certificate = sock.getpeercert()\n",
    "    except Exception:\n",
    "        return 'checking error'\n",
    "    \n",
    "    certificate_short = {\n",
    "        'Issuer': {\n",
    "            'Common Name': certificate['issuer'][2][0][1],\n",
    "            'Organization': certificate['issuer'][1][0][1],  \n",
    "        },\n",
    "        'Expiration_date': certificate['notAfter']\n",
    "    }\n",
    "\n",
    "    #Lista jest niekompletna, TODO: UZUPEŁNIĆ\n",
    "    trusted_organizations = ['sectigo', 'comodo', 'digicert', 'ssl.com', 'alphassl', 'entrust', 'globalsign']\n",
    "    \n",
    "\n",
    "    # .split(' ')[0] bo trzeba rozwiązać problem porównywania organizacji.\n",
    "    if certificate_short['Issuer']['Organization'].split(' ')[0].lower() in trusted_organizations:\n",
    "        return 'thrustworthy'\n",
    "    else:\n",
    "        return 'uncertain'\n",
    "    \n",
    "    "
   ]
  },
  {
   "cell_type": "code",
   "execution_count": 12,
   "metadata": {},
   "outputs": [
    {
     "name": "stdout",
     "output_type": "stream",
     "text": [
      "<class 'pandas.core.frame.DataFrame'>\n",
      "RangeIndex: 100 entries, 0 to 99\n",
      "Data columns (total 8 columns):\n",
      " #   Column          Non-Null Count  Dtype   \n",
      "---  ------          --------------  -----   \n",
      " 0   sender_mail     100 non-null    object  \n",
      " 1   subject         100 non-null    object  \n",
      " 2   body            100 non-null    object  \n",
      " 3   phishing        100 non-null    object  \n",
      " 4   extracted_urls  100 non-null    object  \n",
      " 5   urls_count      100 non-null    int64   \n",
      " 6   protocol        100 non-null    category\n",
      " 7   ssl_confidence  86 non-null     category\n",
      "dtypes: category(2), int64(1), object(5)\n",
      "memory usage: 5.3+ KB\n",
      "None\n",
      "['no url', 'checking error', 'uncertain', NaN, 'url error']\n",
      "Categories (5, object): ['no url' < 'url error' < 'checking error' < 'uncertain' < 'trustworthy']\n"
     ]
    }
   ],
   "source": [
    "mails['ssl_confidence'] = mails['extracted_urls'].apply(get_ssl_certificate)\n",
    "categories = pd.CategoricalDtype(['no url', 'url error', 'checking error', 'uncertain', 'trustworthy'],\n",
    "                                 ordered=True)\n",
    "mails['ssl_confidence'] = mails['ssl_confidence'].astype(categories)\n",
    "print(mails.info())\n",
    "print(mails['ssl_confidence'].unique())"
   ]
  },
  {
   "cell_type": "markdown",
   "metadata": {},
   "source": [
    "## Czarna lista słów"
   ]
  },
  {
   "cell_type": "markdown",
   "metadata": {},
   "source": []
  },
  {
   "cell_type": "markdown",
   "metadata": {},
   "source": [
    "## Odnośniki przekierowywujące"
   ]
  },
  {
   "cell_type": "markdown",
   "metadata": {},
   "source": []
  },
  {
   "cell_type": "markdown",
   "metadata": {},
   "source": [
    "## Ukrywane odnośniki"
   ]
  },
  {
   "cell_type": "code",
   "execution_count": null,
   "metadata": {},
   "outputs": [],
   "source": []
  },
  {
   "cell_type": "markdown",
   "metadata": {},
   "source": []
  },
  {
   "cell_type": "markdown",
   "metadata": {},
   "source": [
    "## Adres IP wewnątrz odnośnika"
   ]
  },
  {
   "cell_type": "code",
   "execution_count": 35,
   "metadata": {},
   "outputs": [
    {
     "name": "stdout",
     "output_type": "stream",
     "text": [
      "https://example.com/192.168.1.1/page exclude\n",
      "<class 'pandas.core.frame.DataFrame'>\n",
      "RangeIndex: 100 entries, 0 to 99\n",
      "Data columns (total 9 columns):\n",
      " #   Column          Non-Null Count  Dtype   \n",
      "---  ------          --------------  -----   \n",
      " 0   sender_mail     100 non-null    object  \n",
      " 1   subject         100 non-null    object  \n",
      " 2   body            100 non-null    object  \n",
      " 3   phishing        100 non-null    object  \n",
      " 4   extracted_urls  100 non-null    object  \n",
      " 5   urls_count      100 non-null    int64   \n",
      " 6   protocol        100 non-null    category\n",
      " 7   ssl_confidence  86 non-null     category\n",
      " 8   ip_in_url       100 non-null    category\n",
      "dtypes: category(3), int64(1), object(5)\n",
      "memory usage: 5.6+ KB\n",
      "None\n",
      "                   sender_mail                                subject  \\\n",
      "0  aorugceqzdlh@mystarship.com                        hi from krystle   \n",
      "1            mjl@ix.netcom.com  Re: [Dixielandjazz] Dixieland Beatles   \n",
      "2      okbdrnfsbrqqp@gmail.com                Re: [ie-rant] Re: pubs.   \n",
      "3             plichtig@qad.com            CNN Alerts: My Custom Alert   \n",
      "4      efierluh_1984@LANGAS.LT     G-spot location techniques for men   \n",
      "\n",
      "                                                body   phishing  \\\n",
      "0  \\n\\nDo not ignore me please,\\nI found your ema...  malicious   \n",
      "1  Not an answer to the question, but one of my m...      legit   \n",
      "2  I like Anseo on Camden street, the vibe is sim...      legit   \n",
      "3  \\n\\n\\nCNN Alerts: My Custom Alert\\n\\n\\n\\n\\n\\n\\...  malicious   \n",
      "4  \\nMen who ignore this report will regret http:...  malicious   \n",
      "\n",
      "                                      extracted_urls  urls_count protocol  \\\n",
      "0                                                 []           0     None   \n",
      "1  [http://ml.islandnet.com/mailman/listinfo/dixi...           1     http   \n",
      "2  [http://www.johnbraine.com, http://www.johnbra...           4     http   \n",
      "3                                                 []           0     None   \n",
      "4                         [http://www.fiftywin.com/]           1     http   \n",
      "\n",
      "   ssl_confidence ip_in_url  \n",
      "0          no url    no url  \n",
      "1  checking error   exclude  \n",
      "2       uncertain   exclude  \n",
      "3          no url    no url  \n",
      "4  checking error   exclude  \n"
     ]
    }
   ],
   "source": [
    "import re\n",
    "\n",
    "def contains_ip(url):\n",
    "    if not url:\n",
    "        return 'no url'\n",
    "\n",
    "    ip_pattern = re.compile(r'\\b(?:\\d{1,3}\\.){3}\\d{1,3}\\b|\\b(?:[0-9a-fA-F]{1,4}:){7}[0-9a-fA-F]{1,4}\\b')\n",
    "    ips = ip_pattern.findall(url[0])\n",
    "\n",
    "    if ips:\n",
    "        return 'include'\n",
    "    else:\n",
    "        return 'exclude'\n",
    "\n",
    "url_to_check = 'https://example.com/192.168.1.1/page'\n",
    "print(url_to_check, contains_ip(url_to_check))\n",
    "mails['ip_in_url'] = mails['extracted_urls'].apply(contains_ip)\n",
    "categories = pd.CategoricalDtype(['no url', 'exclude', 'include'], ordered=True)\n",
    "mails['ip_in_url'] = mails['ip_in_url'].astype(categories)"
   ]
  },
  {
   "cell_type": "markdown",
   "metadata": {},
   "source": [
    "## Liczba odwiedzin witryny"
   ]
  },
  {
   "cell_type": "markdown",
   "metadata": {},
   "source": []
  },
  {
   "cell_type": "markdown",
   "metadata": {},
   "source": [
    "## Wiek strony internetowej"
   ]
  },
  {
   "cell_type": "code",
   "execution_count": 28,
   "metadata": {},
   "outputs": [
    {
     "name": "stdout",
     "output_type": "stream",
     "text": [
      "Error: module 'whois' has no attribute 'whois'\n",
      "Failed to retrieve creation date for '['https://aniagotuje.pl/']'\n"
     ]
    }
   ],
   "source": [
    "\n",
    "# import whois\n",
    "# from datetime import datetime\n",
    "\n",
    "# def get_website_creation_date(url):\n",
    "#     if not url:\n",
    "#         return None\n",
    "\n",
    "#     # Get url out of url\n",
    "#     pattern = re.compile(r'https?://([^/]+)')\n",
    "#     match = pattern.match(url[0])\n",
    "    \n",
    "#     if match:\n",
    "#         url = match.group(1)\n",
    "#     else:\n",
    "#         return None\n",
    "\n",
    "#     try:\n",
    "#         url_info = whois.whois(url)\n",
    "        \n",
    "#         if isinstance(url_info.creation_date, list):\n",
    "#             creation_date = url_info.creation_date[0]\n",
    "#         else:\n",
    "#             creation_date = url_info.creation_date\n",
    "\n",
    "#         if creation_date:\n",
    "#             creation_date = datetime.strptime(str(creation_date), '%Y-%m-%d %H:%M:%S')\n",
    "#             return creation_date\n",
    "#         else:\n",
    "#             return None\n",
    "\n",
    "#     except Exception as e:\n",
    "#         print(f\"Error: {e}\")\n",
    "#         return None\n",
    "\n",
    "# url_to_check = ['https://aniagotuje.pl/']\n",
    "# creation_date = get_website_creation_date(url_to_check)\n",
    "\n",
    "# if creation_date:\n",
    "#     print(f\"The website '{url_to_check}' was created on: {creation_date}\")\n",
    "# else:\n",
    "#     print(f\"Failed to retrieve creation date for '{url_to_check}'\")"
   ]
  },
  {
   "cell_type": "markdown",
   "metadata": {},
   "source": [
    "## Adres e-mail nadawcy"
   ]
  },
  {
   "cell_type": "markdown",
   "metadata": {},
   "source": []
  }
 ],
 "metadata": {
  "kernelspec": {
   "display_name": "Python 3",
   "language": "python",
   "name": "python3"
  },
  "language_info": {
   "codemirror_mode": {
    "name": "ipython",
    "version": 3
   },
   "file_extension": ".py",
   "mimetype": "text/x-python",
   "name": "python",
   "nbconvert_exporter": "python",
   "pygments_lexer": "ipython3",
   "version": "3.11.6"
  }
 },
 "nbformat": 4,
 "nbformat_minor": 2
}
