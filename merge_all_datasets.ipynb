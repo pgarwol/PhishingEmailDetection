{
 "cells": [
  {
   "cell_type": "code",
   "execution_count": 1,
   "metadata": {},
   "outputs": [],
   "source": [
    "import pandas as pd\n",
    "CEAS_08 = pd.read_csv('Datasets/CEAS_08.csv')\n",
    "# Enron = pd.read_csv('Datasets/Enron.csv') za mało kolumn\n",
    "# Ling = pd.read_csv('Datasets/Ling.csv') za mało kolumn\n",
    "Nazario_5 = pd.read_csv('Datasets/Nazario_5.csv')\n",
    "Nazario = pd.read_csv('Datasets/Nazario.csv')\n",
    "Nigerian_5 = pd.read_csv('Datasets/CEAS_08.csv')\n",
    "Nigerian_Fraud = pd.read_csv('Datasets/Nigerian_Fraud.csv')\n",
    "SpamAssasin = pd.read_csv('Datasets/SpamAssasin.csv')\n",
    "TREC_05 = pd.read_csv('Datasets/TREC_05.csv')\n"
   ]
  },
  {
   "cell_type": "code",
   "execution_count": 2,
   "metadata": {},
   "outputs": [
    {
     "name": "stdout",
     "output_type": "stream",
     "text": [
      "                             sender                       receiver  \\\n",
      "0  Young Esposito <Young@iworld.de>    user4@gvc.ceas-challenge.cc   \n",
      "1      Mok <ipline's1983@icable.ph>  user2.2@gvc.ceas-challenge.cc   \n",
      "\n",
      "                              date                    subject  \\\n",
      "0  Tue, 05 Aug 2008 16:31:02 -0700  Never agree to be a loser   \n",
      "1  Tue, 05 Aug 2008 18:31:03 -0500     Befriend Jenna Jameson   \n",
      "\n",
      "                                                body  label  urls  \n",
      "0  Buck up, your troubles caused by small dimensi...      1     1  \n",
      "1  \\nUpgrade your sex and pleasures with these te...      1     1  \n"
     ]
    }
   ],
   "source": [
    "print(CEAS_08.head(2))"
   ]
  },
  {
   "cell_type": "code",
   "execution_count": null,
   "metadata": {},
   "outputs": [],
   "source": []
  },
  {
   "cell_type": "code",
   "execution_count": 3,
   "metadata": {},
   "outputs": [],
   "source": [
    "# print(Ling.head(2))\n",
    "# print(Ling.info())"
   ]
  },
  {
   "cell_type": "code",
   "execution_count": 4,
   "metadata": {},
   "outputs": [
    {
     "name": "stdout",
     "output_type": "stream",
     "text": [
      "                                              sender         receiver  \\\n",
      "0  Mail System Internal Data <MAILER-DAEMON@monke...              NaN   \n",
      "1                        cPanel <service@cpanel.com>  jose@monkey.org   \n",
      "\n",
      "                              date  \\\n",
      "0       28 Sep 2017 09:57:25 -0400   \n",
      "1  Fri, 30 Oct 2015 00:00:48 -0500   \n",
      "\n",
      "                                             subject  \\\n",
      "0  DON'T DELETE THIS MESSAGE -- FOLDER INTERNAL DATA   \n",
      "1                                Verify Your Account   \n",
      "\n",
      "                                                body  urls  label  \n",
      "0  This text is part of the internal format of yo...     1      1  \n",
      "1  Business with  \\t\\t\\t\\t\\t\\t\\t\\tcPanel & WHM \\t...     1      1  \n",
      "<class 'pandas.core.frame.DataFrame'>\n",
      "RangeIndex: 1565 entries, 0 to 1564\n",
      "Data columns (total 7 columns):\n",
      " #   Column    Non-Null Count  Dtype \n",
      "---  ------    --------------  ----- \n",
      " 0   sender    1565 non-null   object\n",
      " 1   receiver  1469 non-null   object\n",
      " 2   date      1564 non-null   object\n",
      " 3   subject   1561 non-null   object\n",
      " 4   body      1565 non-null   object\n",
      " 5   urls      1565 non-null   int64 \n",
      " 6   label     1565 non-null   int64 \n",
      "dtypes: int64(2), object(5)\n",
      "memory usage: 85.7+ KB\n",
      "None\n"
     ]
    }
   ],
   "source": [
    "print(Nazario.head(2))\n",
    "print(Nazario.info())"
   ]
  },
  {
   "cell_type": "code",
   "execution_count": 5,
   "metadata": {},
   "outputs": [
    {
     "name": "stdout",
     "output_type": "stream",
     "text": [
      "                             sender                       receiver  \\\n",
      "0  Young Esposito <Young@iworld.de>    user4@gvc.ceas-challenge.cc   \n",
      "1      Mok <ipline's1983@icable.ph>  user2.2@gvc.ceas-challenge.cc   \n",
      "\n",
      "                              date                    subject  \\\n",
      "0  Tue, 05 Aug 2008 16:31:02 -0700  Never agree to be a loser   \n",
      "1  Tue, 05 Aug 2008 18:31:03 -0500     Befriend Jenna Jameson   \n",
      "\n",
      "                                                body  label  urls  \n",
      "0  Buck up, your troubles caused by small dimensi...      1     1  \n",
      "1  \\nUpgrade your sex and pleasures with these te...      1     1  \n",
      "<class 'pandas.core.frame.DataFrame'>\n",
      "RangeIndex: 39154 entries, 0 to 39153\n",
      "Data columns (total 7 columns):\n",
      " #   Column    Non-Null Count  Dtype \n",
      "---  ------    --------------  ----- \n",
      " 0   sender    39154 non-null  object\n",
      " 1   receiver  38692 non-null  object\n",
      " 2   date      39154 non-null  object\n",
      " 3   subject   39126 non-null  object\n",
      " 4   body      39154 non-null  object\n",
      " 5   label     39154 non-null  int64 \n",
      " 6   urls      39154 non-null  int64 \n",
      "dtypes: int64(2), object(5)\n",
      "memory usage: 2.1+ MB\n",
      "None\n"
     ]
    }
   ],
   "source": [
    "print(Nigerian_5.head(2))\n",
    "print(Nigerian_5.info())"
   ]
  },
  {
   "cell_type": "code",
   "execution_count": 6,
   "metadata": {},
   "outputs": [
    {
     "name": "stdout",
     "output_type": "stream",
     "text": [
      "                                           sender              receiver  \\\n",
      "0  MR. JAMES NGOLA. <james_ngola2002@maktoob.com>  webmaster@aclweb.org   \n",
      "1  Mr. Ben Suleman <bensul2004nng@spinfinder.com>                   R@M   \n",
      "\n",
      "                              date  \\\n",
      "0  Thu, 31 Oct 2002 02:38:20 +0000   \n",
      "1  Thu, 31 Oct 2002 05:10:00 -0000   \n",
      "\n",
      "                                      subject  \\\n",
      "0  URGENT BUSINESS ASSISTANCE AND PARTNERSHIP   \n",
      "1         URGENT ASSISTANCE /RELATIONSHIP (P)   \n",
      "\n",
      "                                                body  urls  label  \n",
      "0  FROM:MR. JAMES NGOLA.\\nCONFIDENTIAL TEL: 233-2...     0      1  \n",
      "1  Dear Friend,\\n\\nI am Mr. Ben Suleman a custom ...     0      1  \n",
      "<class 'pandas.core.frame.DataFrame'>\n",
      "RangeIndex: 3332 entries, 0 to 3331\n",
      "Data columns (total 7 columns):\n",
      " #   Column    Non-Null Count  Dtype \n",
      "---  ------    --------------  ----- \n",
      " 0   sender    3001 non-null   object\n",
      " 1   receiver  2008 non-null   object\n",
      " 2   date      2850 non-null   object\n",
      " 3   subject   3293 non-null   object\n",
      " 4   body      3332 non-null   object\n",
      " 5   urls      3332 non-null   int64 \n",
      " 6   label     3332 non-null   int64 \n",
      "dtypes: int64(2), object(5)\n",
      "memory usage: 182.3+ KB\n",
      "None\n"
     ]
    }
   ],
   "source": [
    "\n",
    "print(Nigerian_Fraud.head(2))\n",
    "print(Nigerian_Fraud.info())"
   ]
  },
  {
   "cell_type": "code",
   "execution_count": 7,
   "metadata": {},
   "outputs": [
    {
     "name": "stdout",
     "output_type": "stream",
     "text": [
      "                                      sender  \\\n",
      "0             Robert Elz <kre@munnari.OZ.AU>   \n",
      "1  Steve Burt <Steve_Burt@cursor-system.com>   \n",
      "\n",
      "                                            receiver  \\\n",
      "0  Chris Garrigues <cwg-dated-1030377287.06fa6d@D...   \n",
      "1  \"'zzzzteana@yahoogroups.com'\" <zzzzteana@yahoo...   \n",
      "\n",
      "                              date                    subject  \\\n",
      "0  Thu, 22 Aug 2002 18:26:25 +0700   Re: New Sequences Window   \n",
      "1  Thu, 22 Aug 2002 12:46:18 +0100  [zzzzteana] RE: Alexander   \n",
      "\n",
      "                                                body  label  urls  \n",
      "0  Date:        Wed, 21 Aug 2002 10:54:46 -0500  ...      0     1  \n",
      "1  Martin A posted:\\nTassos Papadopoulos, the Gre...      0     1  \n",
      "<class 'pandas.core.frame.DataFrame'>\n",
      "RangeIndex: 5809 entries, 0 to 5808\n",
      "Data columns (total 7 columns):\n",
      " #   Column    Non-Null Count  Dtype \n",
      "---  ------    --------------  ----- \n",
      " 0   sender    5809 non-null   object\n",
      " 1   receiver  5599 non-null   object\n",
      " 2   date      5809 non-null   object\n",
      " 3   subject   5793 non-null   object\n",
      " 4   body      5808 non-null   object\n",
      " 5   label     5809 non-null   int64 \n",
      " 6   urls      5809 non-null   int64 \n",
      "dtypes: int64(2), object(5)\n",
      "memory usage: 317.8+ KB\n",
      "None\n"
     ]
    }
   ],
   "source": [
    "print(SpamAssasin.head(2))\n",
    "print(SpamAssasin.info())"
   ]
  },
  {
   "cell_type": "code",
   "execution_count": 8,
   "metadata": {},
   "outputs": [
    {
     "name": "stdout",
     "output_type": "stream",
     "text": [
      "                               sender  \\\n",
      "0  \"Hu, Sylvia\" <Sylvia.Hu@ENRON.com>   \n",
      "1    \"Webb, Jay\" <Jay.Webb@ENRON.com>   \n",
      "\n",
      "                                            receiver  \\\n",
      "0  \"Acevedo, Felecia\" <Felecia.Acevedo@ENRON.com>...   \n",
      "1           \"Lambie, Chris\" <Chris.Lambie@ENRON.com>   \n",
      "\n",
      "                              date  \\\n",
      "0  Fri, 29 Jun 2001 08:36:09 -0500   \n",
      "1  Fri, 29 Jun 2001 09:37:04 -0500   \n",
      "\n",
      "                                       subject  \\\n",
      "0  FW: June 29 -- BNA, Inc. Daily Labor Report   \n",
      "1                           NGX failover plan.   \n",
      "\n",
      "                                                body  label  urls  \n",
      "0  User ID:  enrondlr PW:        bnaweb22  -----O...    0.0   1.0  \n",
      "1  \\nHi Chris,  \\n\\nTonight we are rolling out a ...    0.0   0.0  \n",
      "<class 'pandas.core.frame.DataFrame'>\n",
      "RangeIndex: 56003 entries, 0 to 56002\n",
      "Data columns (total 7 columns):\n",
      " #   Column    Non-Null Count  Dtype  \n",
      "---  ------    --------------  -----  \n",
      " 0   sender    55987 non-null  object \n",
      " 1   receiver  53772 non-null  object \n",
      " 2   date      54195 non-null  object \n",
      " 3   subject   54094 non-null  object \n",
      " 4   body      55413 non-null  object \n",
      " 5   label     55275 non-null  float64\n",
      " 6   urls      55275 non-null  float64\n",
      "dtypes: float64(2), object(5)\n",
      "memory usage: 3.0+ MB\n",
      "None\n"
     ]
    }
   ],
   "source": [
    "print(TREC_05.head(2))\n",
    "print(TREC_05.info())"
   ]
  },
  {
   "cell_type": "code",
   "execution_count": null,
   "metadata": {},
   "outputs": [],
   "source": []
  },
  {
   "cell_type": "code",
   "execution_count": 9,
   "metadata": {},
   "outputs": [
    {
     "name": "stdout",
     "output_type": "stream",
     "text": [
      "sender_mail    object\n",
      "subject        object\n",
      "body           object\n",
      "label           int32\n",
      "dtype: object\n",
      "sender_mail    object\n",
      "subject        object\n",
      "body           object\n",
      "label           int32\n",
      "dtype: object\n",
      "sender_mail    object\n",
      "subject        object\n",
      "body           object\n",
      "label           int32\n",
      "dtype: object\n",
      "sender_mail    object\n",
      "subject        object\n",
      "body           object\n",
      "label           int32\n",
      "dtype: object\n",
      "sender_mail    object\n",
      "subject        object\n",
      "body           object\n",
      "label           int32\n",
      "dtype: object\n",
      "sender_mail    object\n",
      "subject        object\n",
      "body           object\n",
      "label           int32\n",
      "dtype: object\n",
      "sender_mail    object\n",
      "subject        object\n",
      "body           object\n",
      "label           int32\n",
      "dtype: object\n"
     ]
    },
    {
     "name": "stderr",
     "output_type": "stream",
     "text": [
      "C:\\Users\\Patryk\\AppData\\Local\\Temp\\ipykernel_25136\\250329048.py:28: SettingWithCopyWarning: \n",
      "A value is trying to be set on a copy of a slice from a DataFrame.\n",
      "Try using .loc[row_indexer,col_indexer] = value instead\n",
      "\n",
      "See the caveats in the documentation: https://pandas.pydata.org/pandas-docs/stable/user_guide/indexing.html#returning-a-view-versus-a-copy\n",
      "  df['label'] = df['label'].astype(int)\n",
      "C:\\Users\\Patryk\\AppData\\Local\\Temp\\ipykernel_25136\\250329048.py:28: SettingWithCopyWarning: \n",
      "A value is trying to be set on a copy of a slice from a DataFrame.\n",
      "Try using .loc[row_indexer,col_indexer] = value instead\n",
      "\n",
      "See the caveats in the documentation: https://pandas.pydata.org/pandas-docs/stable/user_guide/indexing.html#returning-a-view-versus-a-copy\n",
      "  df['label'] = df['label'].astype(int)\n",
      "C:\\Users\\Patryk\\AppData\\Local\\Temp\\ipykernel_25136\\250329048.py:28: SettingWithCopyWarning: \n",
      "A value is trying to be set on a copy of a slice from a DataFrame.\n",
      "Try using .loc[row_indexer,col_indexer] = value instead\n",
      "\n",
      "See the caveats in the documentation: https://pandas.pydata.org/pandas-docs/stable/user_guide/indexing.html#returning-a-view-versus-a-copy\n",
      "  df['label'] = df['label'].astype(int)\n",
      "C:\\Users\\Patryk\\AppData\\Local\\Temp\\ipykernel_25136\\250329048.py:28: SettingWithCopyWarning: \n",
      "A value is trying to be set on a copy of a slice from a DataFrame.\n",
      "Try using .loc[row_indexer,col_indexer] = value instead\n",
      "\n",
      "See the caveats in the documentation: https://pandas.pydata.org/pandas-docs/stable/user_guide/indexing.html#returning-a-view-versus-a-copy\n",
      "  df['label'] = df['label'].astype(int)\n",
      "C:\\Users\\Patryk\\AppData\\Local\\Temp\\ipykernel_25136\\250329048.py:28: SettingWithCopyWarning: \n",
      "A value is trying to be set on a copy of a slice from a DataFrame.\n",
      "Try using .loc[row_indexer,col_indexer] = value instead\n",
      "\n",
      "See the caveats in the documentation: https://pandas.pydata.org/pandas-docs/stable/user_guide/indexing.html#returning-a-view-versus-a-copy\n",
      "  df['label'] = df['label'].astype(int)\n",
      "C:\\Users\\Patryk\\AppData\\Local\\Temp\\ipykernel_25136\\250329048.py:28: SettingWithCopyWarning: \n",
      "A value is trying to be set on a copy of a slice from a DataFrame.\n",
      "Try using .loc[row_indexer,col_indexer] = value instead\n",
      "\n",
      "See the caveats in the documentation: https://pandas.pydata.org/pandas-docs/stable/user_guide/indexing.html#returning-a-view-versus-a-copy\n",
      "  df['label'] = df['label'].astype(int)\n",
      "C:\\Users\\Patryk\\AppData\\Local\\Temp\\ipykernel_25136\\250329048.py:28: SettingWithCopyWarning: \n",
      "A value is trying to be set on a copy of a slice from a DataFrame.\n",
      "Try using .loc[row_indexer,col_indexer] = value instead\n",
      "\n",
      "See the caveats in the documentation: https://pandas.pydata.org/pandas-docs/stable/user_guide/indexing.html#returning-a-view-versus-a-copy\n",
      "  df['label'] = df['label'].astype(int)\n"
     ]
    }
   ],
   "source": [
    "def strip_for_mail(sender):\n",
    "    start_symbol = '<'\n",
    "    end_symbol = '>'\n",
    "    try:\n",
    "        if start_symbol in sender:\n",
    "            start_index = sender.index(start_symbol) + 1\n",
    "            if end_symbol in sender:\n",
    "                end_index = sender.index(end_symbol)\n",
    "                \n",
    "            else:\n",
    "                end_index = len(sender)\n",
    "\n",
    "            output = sender[start_index:end_index]\n",
    "            return output\n",
    "        else:\n",
    "            return sender\n",
    "    except Exception as e:\n",
    "        print(sender)\n",
    "\n",
    "dfs = [CEAS_08, Nazario_5, Nazario, Nigerian_5, Nigerian_Fraud, SpamAssasin, TREC_05]\n",
    "columns = ['sender_mail', 'subject', 'body', 'label']\n",
    "\n",
    "for i, df in enumerate(dfs):\n",
    "    df.dropna(inplace=True)\n",
    "    df['sender_mail'] = df['sender'].apply(strip_for_mail)\n",
    "    df = df[['sender_mail', 'subject', 'body', 'label']]\n",
    "    df.columns = columns\n",
    "    df['label'] = df['label'].astype(int)\n",
    "    dfs[i] = df\n",
    "\n",
    "\n",
    "for df in dfs:\n",
    "    print(df.dtypes)"
   ]
  },
  {
   "cell_type": "code",
   "execution_count": 12,
   "metadata": {},
   "outputs": [
    {
     "name": "stdout",
     "output_type": "stream",
     "text": [
      "<class 'pandas.core.frame.DataFrame'>\n",
      "RangeIndex: 99470 entries, 0 to 99469\n",
      "Data columns (total 4 columns):\n",
      " #   Column       Non-Null Count  Dtype \n",
      "---  ------       --------------  ----- \n",
      " 0   sender_mail  99470 non-null  object\n",
      " 1   subject      99470 non-null  object\n",
      " 2   body         99470 non-null  object\n",
      " 3   label        99470 non-null  object\n",
      "dtypes: object(4)\n",
      "memory usage: 3.0+ MB\n",
      "None\n",
      "\n",
      "label\n",
      "safe        0.527938\n",
      "phishing    0.472062\n",
      "Name: proportion, dtype: float64\n"
     ]
    }
   ],
   "source": [
    "from functools import reduce\n",
    "\n",
    "merged_df = reduce(lambda left, right: pd.merge(left,\n",
    "                                                right[['sender_mail', 'subject', 'body', 'label']],\n",
    "                                                how='outer'),\n",
    "                    dfs)\n",
    "\n",
    "mapping = {\n",
    "    0: 'safe',\n",
    "    1: 'phishing'\n",
    "}\n",
    "\n",
    "merged_df['label'] = merged_df['label'].map(mapping)\n",
    "print(merged_df.info(), end='\\n\\n')\n",
    "print(merged_df.label.value_counts(normalize=True))\n",
    "merged_df.to_csv('merged_datasets.csv')"
   ]
  },
  {
   "cell_type": "code",
   "execution_count": null,
   "metadata": {},
   "outputs": [],
   "source": []
  }
 ],
 "metadata": {
  "kernelspec": {
   "display_name": "Python 3",
   "language": "python",
   "name": "python3"
  },
  "language_info": {
   "codemirror_mode": {
    "name": "ipython",
    "version": 3
   },
   "file_extension": ".py",
   "mimetype": "text/x-python",
   "name": "python",
   "nbconvert_exporter": "python",
   "pygments_lexer": "ipython3",
   "version": "3.11.7"
  }
 },
 "nbformat": 4,
 "nbformat_minor": 2
}
