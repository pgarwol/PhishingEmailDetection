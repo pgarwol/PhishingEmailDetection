{
 "cells": [
  {
   "cell_type": "markdown",
   "metadata": {},
   "source": [
    "# Przygotowanie danych pod <b><i><font color=\"orange\">Machine Learning</font></i></b>"
   ]
  },
  {
   "cell_type": "code",
   "execution_count": 1,
   "metadata": {},
   "outputs": [],
   "source": [
    "import matplotlib.pyplot as plt\n",
    "from unidecode import unidecode\n",
    "import pandas as pd\n",
    "import numpy as np\n",
    "import spacy\n",
    "import re\n",
    "\n",
    "import warnings\n",
    "warnings.simplefilter(action='ignore', category=FutureWarning)"
   ]
  },
  {
   "cell_type": "markdown",
   "metadata": {},
   "source": [
    "### Wczytujemy data set <i><b><font color=\"orange\">merged_datasets.csv</font></b></i> (~100k rekordów)"
   ]
  },
  {
   "cell_type": "code",
   "execution_count": 2,
   "metadata": {},
   "outputs": [],
   "source": [
    "mails = pd.read_csv('merged_datasets.csv')\n",
    "categories = pd.CategoricalDtype(['safe', 'phishing'], ordered=True)\n",
    "mails['label'] = mails['label'].astype(categories)"
   ]
  },
  {
   "cell_type": "markdown",
   "metadata": {},
   "source": [
    "### <font color=\"orange\">Usuwamy <b>duplikaty</b></font> i <font color=\"orange\">usuwamy <b>wiersze</b></font>, w których <b><font color=\"orange\">treść</font></b> lub <b><font color=\"orange\">nadawca</font></b> są puste"
   ]
  },
  {
   "cell_type": "code",
   "execution_count": 3,
   "metadata": {},
   "outputs": [],
   "source": [
    "mails.drop_duplicates(subset=['subject', 'sender_mail'], keep='first', inplace=True)\n",
    "mails.dropna(subset=['body', 'sender_mail'], inplace=True)"
   ]
  },
  {
   "cell_type": "markdown",
   "metadata": {},
   "source": [
    "## Tworzymy <font color=\"orange\"><b>kolumny wartości</b></font>, który pomogą rozpoznawać <b><font color=\"red\">phishing</font></b>"
   ]
  },
  {
   "cell_type": "markdown",
   "metadata": {},
   "source": [
    "### Wyciągamy informacje o <b><font color=\"orange\">nadawcy</font></b>"
   ]
  },
  {
   "cell_type": "code",
   "execution_count": 4,
   "metadata": {},
   "outputs": [],
   "source": [
    "def get_sender_info(sender_mail: str):\n",
    "    splitted = sender_mail.split('@')\n",
    "    if len(splitted) != 2:\n",
    "        return None, None\n",
    "    \n",
    "    name = splitted[0]\n",
    "    domain = splitted[1]\n",
    "    return name, domain\n",
    "\n",
    "\n",
    "mails[['sender_mail_name', 'sender_mail_domain']] = mails['sender_mail'].apply(lambda x: pd.Series(get_sender_info(x)))"
   ]
  },
  {
   "cell_type": "markdown",
   "metadata": {},
   "source": [
    "### Ilość <font color=\"orange\">cyfr</font> w <b><font color=\"orange\">nazwie nadawcy</font></b>"
   ]
  },
  {
   "cell_type": "code",
   "execution_count": 5,
   "metadata": {},
   "outputs": [
    {
     "name": "stdout",
     "output_type": "stream",
     "text": [
      "            count      mean       std  min  25%  50%  75%   max\n",
      "label                                                          \n",
      "safe      42678.0  0.136886  1.068021  0.0  0.0  0.0  0.0  37.0\n",
      "phishing  44955.0  0.707218  1.789063  0.0  0.0  0.0  0.0  75.0\n"
     ]
    }
   ],
   "source": [
    "def get_nums_count(name: str):\n",
    "    name = str(name)\n",
    "    return sum(1 for char in name if char.isnumeric())\n",
    "\n",
    "\n",
    "mails['sender_nums_count'] = mails['sender_mail_name'].apply(get_nums_count)\n",
    "print(mails.groupby('label').sender_nums_count.describe())"
   ]
  },
  {
   "cell_type": "markdown",
   "metadata": {},
   "source": [
    "### Ilość <font color=\"orange\">cyfr</font> w <b><font color=\"orange\">domenie</font></b>; <font color=\"orange\">długość <b>domeny</b></font>"
   ]
  },
  {
   "cell_type": "code",
   "execution_count": 6,
   "metadata": {},
   "outputs": [
    {
     "name": "stdout",
     "output_type": "stream",
     "text": [
      "            count      mean       std  min  25%  50%  75%   max\n",
      "label                                                          \n",
      "safe      42612.0  0.023913  0.215922  0.0  0.0  0.0  0.0   6.0\n",
      "phishing  44770.0  0.180902  0.855269  0.0  0.0  0.0  0.0  22.0\n",
      "            count      mean       std  min  25%  50%   75%   max\n",
      "label                                                           \n",
      "safe      42612.0  7.017624  4.013944  0.0  5.0  5.0   8.0  36.0\n",
      "phishing  44770.0  9.184298  4.443968  0.0  6.0  8.0  11.0  53.0\n"
     ]
    }
   ],
   "source": [
    "def get_domain_info(domain: str):\n",
    "    if domain is None:\n",
    "        return None\n",
    "    \n",
    "    splitted = domain.split('.')[:-1]\n",
    "    domain_noTLD = '.'.join(splitted)\n",
    "    return sum(1 for char in domain_noTLD if char.isnumeric()), len(domain_noTLD)\n",
    "    \n",
    "\n",
    "mails[['sender_domain_num_count', 'sender_domain_length']] = mails['sender_mail_domain'].apply(lambda x: pd.Series(get_domain_info(x)))\n",
    "print(mails.groupby('label').sender_domain_num_count.describe())\n",
    "print(mails.groupby('label').sender_domain_length.describe())"
   ]
  },
  {
   "cell_type": "markdown",
   "metadata": {},
   "source": [
    "### Znowu usuwamy <font color=\"orange\"><b>wiersze</b></font>, w których są wartości <font color=\"orange\"><i>None</i></font>"
   ]
  },
  {
   "cell_type": "code",
   "execution_count": 7,
   "metadata": {},
   "outputs": [],
   "source": [
    "mails.dropna(subset=['sender_domain_num_count', 'sender_domain_length', 'sender_mail_name', 'sender_nums_count'], inplace=True)"
   ]
  },
  {
   "cell_type": "markdown",
   "metadata": {},
   "source": [
    "### Sprawdzamy, czy słowa z <font color=\"orange\"><b>tematu</b></font> lub <font color=\"orange\"><b>treści</b></font> <font color=\"orange\">są w</font> naszej <font color=\"orange\">liście podejrzanych słów </font>"
   ]
  },
  {
   "cell_type": "code",
   "execution_count": 8,
   "metadata": {},
   "outputs": [],
   "source": [
    "nlp = spacy.load('en_core_web_md', disable=[\"parser\", \"ner\"])\n",
    "nlp.max_length = 2500000\n",
    "stop_words = spacy.lang.en.STOP_WORDS"
   ]
  },
  {
   "cell_type": "code",
   "execution_count": 9,
   "metadata": {},
   "outputs": [],
   "source": [
    "with open('suspicious_words.txt', 'r') as file:\n",
    "    lines = file.readlines()\n",
    "    \n",
    "suspicious_words = []\n",
    "for line in lines:\n",
    "    word = line.strip()\n",
    "    suspicious_words.append(word)\n",
    "\n",
    "suspicious_str = ' '.join(suspicious_words)\n",
    "doc = nlp(suspicious_str)\n",
    "suspicious_lemmas = [token.lemma_.lower() for token in doc]\n",
    "\n",
    "suspicious_set = set(suspicious_lemmas)"
   ]
  },
  {
   "cell_type": "markdown",
   "metadata": {},
   "source": [
    "### <font color=\"orange\">Podejrzane słowa</font> w <font color=\"orange\"><b>temacie</b></font>"
   ]
  },
  {
   "cell_type": "code",
   "execution_count": 10,
   "metadata": {},
   "outputs": [
    {
     "name": "stdout",
     "output_type": "stream",
     "text": [
      "            count      mean       std  min  25%  50%  75%  max\n",
      "label                                                         \n",
      "safe      42612.0  0.152797  0.395230  0.0  0.0  0.0  0.0  4.0\n",
      "phishing  44770.0  0.219455  0.462415  0.0  0.0  0.0  0.0  5.0\n"
     ]
    }
   ],
   "source": [
    "def count_suspicious_words(text: str):\n",
    "    doc = nlp(text)\n",
    "    tokens = [token.lemma_.lower() for token in doc if token.text.isalnum()]\n",
    "    unique_words = set(tokens)\n",
    "    sus_words = unique_words.intersection(suspicious_set)\n",
    "    return len(sus_words)\n",
    "\n",
    "\n",
    "mails['suspicious_words_subject'] = mails['subject'].apply(count_suspicious_words)\n",
    "print(mails.groupby('label').suspicious_words_subject.describe())"
   ]
  },
  {
   "cell_type": "markdown",
   "metadata": {},
   "source": [
    "### <font color=\"orange\">Podejrzane słowa</font> w <font color=\"orange\"><b>treści</b></font>"
   ]
  },
  {
   "cell_type": "code",
   "execution_count": 11,
   "metadata": {},
   "outputs": [
    {
     "name": "stdout",
     "output_type": "stream",
     "text": [
      "            count      mean       std  min  25%  50%  75%   max\n",
      "label                                                          \n",
      "safe      42612.0  2.668216  2.915032  0.0  1.0  2.0  3.0  51.0\n",
      "phishing  44770.0  2.208868  2.767256  0.0  0.0  1.0  3.0  39.0\n"
     ]
    }
   ],
   "source": [
    "mails['suspicious_words_body'] = mails['body'].apply(count_suspicious_words)\n",
    "print(mails.groupby('label').suspicious_words_body.describe())"
   ]
  },
  {
   "cell_type": "markdown",
   "metadata": {},
   "source": [
    "### Wyciągamy <font color=\"orange\">odnośniki</font> z <font color=\"orange\"><b>treści</b></font> wiadomości e-mail i <font color=\"orange\">liczymy</font> ich <font color=\"orange\">ilość</font>"
   ]
  },
  {
   "cell_type": "code",
   "execution_count": 12,
   "metadata": {},
   "outputs": [
    {
     "name": "stdout",
     "output_type": "stream",
     "text": [
      "label     urls_count\n",
      "safe      0             0.623486\n",
      "          1             0.149324\n",
      "          3<=           0.131817\n",
      "          2             0.095372\n",
      "phishing  0             0.427876\n",
      "          1             0.355193\n",
      "          3<=           0.113603\n",
      "          2             0.103328\n",
      "Name: proportion, dtype: float64\n"
     ]
    }
   ],
   "source": [
    "def extract_urls(text: str):\n",
    "    url_pattern = re.compile(r'https?://\\S+|www\\.\\S+')\n",
    "    matches = re.findall(url_pattern, text)\n",
    "\n",
    "    return matches, len(matches)\n",
    "\n",
    "\n",
    "mails[['extracted_urls', 'urls_count']] = mails['body'].apply(lambda x: pd.Series(extract_urls(x)))\n",
    "\n",
    "def map_url_lens(lens: int):\n",
    "    if lens <= 2:\n",
    "        return str(lens)\n",
    "    else:\n",
    "        return '3<='\n",
    "\n",
    "\n",
    "mails['urls_count'] = mails['urls_count'].apply(map_url_lens)\n",
    "categories = pd.CategoricalDtype(['0', '1', '2', '3<='], ordered=True)\n",
    "mails['urls_count'] = mails['urls_count'].astype(categories)\n",
    "print(mails.groupby('label').urls_count.value_counts(normalize=True))"
   ]
  },
  {
   "cell_type": "markdown",
   "metadata": {},
   "source": [
    "### <font color=\"orange\">Losujemy</font> <font color=\"gray\">(dla czystego sumienia)</font> jeden <font color=\"orange\"><b>odnośnik</b></font> z uzyskanej listy <font color=\"gray\">(zakładamy, że jeżeli jeden URL w wiadomości jest </font><font color=\"red\"><b>phishingiem</b></font><font color=\"gray\">, to inne też)</font>"
   ]
  },
  {
   "cell_type": "code",
   "execution_count": 13,
   "metadata": {},
   "outputs": [],
   "source": [
    "# Jeżeli jeden url w mailu jest fałszywy, to wychodzimy z założenia, że inne też\n",
    "def return_random_url(urls: str):\n",
    "    urls_len = len(urls)\n",
    "    if urls_len == 0:\n",
    "        return None\n",
    "\n",
    "    random_index = np.random.randint(0, urls_len)\n",
    "    randomized_url = urls[random_index]\n",
    "    return randomized_url\n",
    "\n",
    "mails['in_body_url'] = mails['extracted_urls'].apply(return_random_url)"
   ]
  },
  {
   "cell_type": "markdown",
   "metadata": {},
   "source": [
    "### <font color=\"orange\">Usuwamy <b>wiersze</b></font>, które <font color=\"orange\">nie zawierają</font> żadnych <font color=\"orange\">odnośników</font>, są nam zbędne i tylko utrudniają życie"
   ]
  },
  {
   "cell_type": "code",
   "execution_count": 14,
   "metadata": {},
   "outputs": [
    {
     "name": "stdout",
     "output_type": "stream",
     "text": [
      "(87382, 15)\n",
      "(41658, 15)\n",
      "label\n",
      "phishing    0.614864\n",
      "safe        0.385136\n",
      "Name: proportion, dtype: float64\n"
     ]
    }
   ],
   "source": [
    "print(mails.shape)\n",
    "mails.dropna(subset=['in_body_url'], inplace=True)\n",
    "print(mails.shape)\n",
    "print(mails.label.value_counts(normalize=True))"
   ]
  },
  {
   "cell_type": "markdown",
   "metadata": {},
   "source": [
    "<hr width=\"20%\" align=\"left\"/>\n",
    "87 382 - 41 658 = <b>45 724</b></br>\n",
    "Tyle wierszy poszło z dymem.</br>\n",
    "Z pozostałych wierszy:\n",
    "<ul>\n",
    "    <li>61.49% stanowi <font color=\"red\"><b><i>phishing</i></b></font></li>\n",
    "    <li>38.51% stanowią <font color=\"lime\"><b><i>bezpieczne wiersze</i></b></font></li>\n",
    "</ul>\n",
    "<hr width=\"20%\" align=\"left\"/>"
   ]
  },
  {
   "cell_type": "markdown",
   "metadata": {},
   "source": [
    "### Wyciągamy z <font color=\"orange\"><b>odnośników</b></font> <font color=\"orange\">protokoły</font>: <b><i>HTTP</i></b> i <b><i>HTTPS</i></b>"
   ]
  },
  {
   "cell_type": "code",
   "execution_count": 15,
   "metadata": {},
   "outputs": [
    {
     "name": "stdout",
     "output_type": "stream",
     "text": [
      "protocol  label   \n",
      "http      phishing    0.626848\n",
      "          safe        0.373152\n",
      "https     safe        0.813769\n",
      "          phishing    0.186231\n",
      "Name: proportion, dtype: float64\n"
     ]
    }
   ],
   "source": [
    "def is_https(url: str):\n",
    "    protocol = url[:5].lower()\n",
    "    return 'https' if protocol == 'https' else 'http'\n",
    "\n",
    "\n",
    "mails['protocol'] = mails['in_body_url'].apply(is_https)\n",
    "categories = pd.CategoricalDtype(['http', 'https'], ordered=True)\n",
    "mails['protocol'] = mails['protocol'].astype(categories)\n",
    "print(mails.groupby('protocol').label.value_counts(normalize=True))"
   ]
  },
  {
   "cell_type": "markdown",
   "metadata": {},
   "source": [
    "### Sprawdzamy, czy <font color=\"orange\"><b>odnośniki</b></font> <font color=\"orange\">zawierają IP</font>"
   ]
  },
  {
   "cell_type": "code",
   "execution_count": 16,
   "metadata": {},
   "outputs": [
    {
     "name": "stdout",
     "output_type": "stream",
     "text": [
      "contains_ip  label   \n",
      "False        phishing    0.613826\n",
      "             safe        0.386174\n",
      "True         phishing    0.916084\n",
      "             safe        0.083916\n",
      "Name: proportion, dtype: float64\n"
     ]
    }
   ],
   "source": [
    "def contains_ip(url: str):\n",
    "    ip_pattern = re.compile(r'\\b(?:\\d{1,3}\\.){3}\\d{1,3}\\b|\\b(?:[0-9a-fA-F]{1,4}:){7}[0-9a-fA-F]{1,4}\\b')\n",
    "    ips = ip_pattern.findall(url)\n",
    "\n",
    "    if ips:\n",
    "        return True\n",
    "    else:\n",
    "        return False\n",
    "\n",
    "\n",
    "mails['contains_ip'] = mails['in_body_url'].apply(contains_ip)\n",
    "print(mails.groupby('contains_ip').label.value_counts(normalize=True))"
   ]
  },
  {
   "cell_type": "markdown",
   "metadata": {},
   "source": [
    "### Wyodrębniamy <font color=\"orange\">długość <b>odnośników</b></font>"
   ]
  },
  {
   "cell_type": "code",
   "execution_count": 17,
   "metadata": {},
   "outputs": [],
   "source": [
    "mails['url_length'] = mails['in_body_url'].apply(len)"
   ]
  },
  {
   "cell_type": "markdown",
   "metadata": {},
   "source": [
    "### Wyodrębniamy z <font color=\"orange\"><b>odnośników</b> domenę</font>"
   ]
  },
  {
   "cell_type": "code",
   "execution_count": 18,
   "metadata": {},
   "outputs": [],
   "source": [
    "def get_domain(url: str):\n",
    "    pattern = re.compile(r'https?://([^/?]+)')\n",
    "    match = pattern.match(url)\n",
    "    if match:\n",
    "        domain = match.group(1)\n",
    "        if '/' in domain:\n",
    "            return domain.split('/')[0]\n",
    "        \n",
    "        return domain\n",
    "    else:\n",
    "        return url\n",
    "\n",
    "\n",
    "mails['domain'] = mails['in_body_url'].apply(get_domain)"
   ]
  },
  {
   "cell_type": "markdown",
   "metadata": {},
   "source": [
    "### Wyciągamy z <font color=\"orange\"><b>domeny</b> TLD</font> <font color=\"gray\">(top-level domain)</font>\n",
    "<ul>\n",
    "    <li>ue.poznan.<font color=\"orange\"><b>pl</b></font></br></li>\n",
    "    <li>www.vaticannews.<font color=\"orange\"><b>va</b></font></li>\n",
    "</ul>\n",
    "\n"
   ]
  },
  {
   "cell_type": "code",
   "execution_count": 19,
   "metadata": {},
   "outputs": [],
   "source": [
    "def get_TLD(domain: str):\n",
    "    split_domain = domain.split('.')\n",
    "    n = len(split_domain)\n",
    "    delimiters = ['/', ':', ')', ']', '%', '_', '=', ',', '>', '\"', '#', '!']\n",
    "    \n",
    "    after_dot = split_domain[n-1]\n",
    "    if len(after_dot) > 2:\n",
    "        after_dot = after_dot.split('/')[0]\n",
    "        \n",
    "        if len(after_dot) > 2:\n",
    "            for delimiter in delimiters:\n",
    "                after_dot = \" \".join(after_dot.split(delimiter))\n",
    "            \n",
    "            after_dot = after_dot.split()[0]\n",
    "\n",
    "    TLD = '.'+after_dot.lower()\n",
    "    return TLD\n",
    "\n",
    "\n",
    "mails['TLD'] = mails['domain'].apply(get_TLD)"
   ]
  },
  {
   "cell_type": "markdown",
   "metadata": {},
   "source": [
    "### Sprawdzamy, <font color=\"orange\">czy <b>TLD</b> zawiera <u>tylko</u> litery</font> <font color=\"gray\">(a nie na przykład <b>liczbę</b>, <b>adres IP</b> itd.)</font>\n"
   ]
  },
  {
   "cell_type": "code",
   "execution_count": 20,
   "metadata": {},
   "outputs": [
    {
     "name": "stdout",
     "output_type": "stream",
     "text": [
      "TLD_alpha  label   \n",
      "False      safe        0.623955\n",
      "           phishing    0.376045\n",
      "True       phishing    0.619052\n",
      "           safe        0.380948\n",
      "Name: proportion, dtype: float64\n"
     ]
    }
   ],
   "source": [
    "def is_tld_alpha(tld: str):\n",
    "    return tld[1:].isalpha()\n",
    "\n",
    "\n",
    "mails['TLD_alpha'] = mails['TLD'].apply(is_tld_alpha)\n",
    "print(mails.groupby('TLD_alpha').label.value_counts(normalize=True))"
   ]
  },
  {
   "cell_type": "markdown",
   "metadata": {},
   "source": [
    "### Sprawdzany <font color=\"orange\">poziom <b>subdomeny</b></font>\n",
    "<ul>\n",
    "    <li>wikipedia.org = 0 </li>\n",
    "    <li><font color=\"orange\"><b>en</b></font>.wikipedia.org = 1</li>\n",
    "</ul>"
   ]
  },
  {
   "cell_type": "code",
   "execution_count": 21,
   "metadata": {},
   "outputs": [
    {
     "name": "stdout",
     "output_type": "stream",
     "text": [
      "label     subdomain_level\n",
      "safe      1                  0.793024\n",
      "          2                  0.110146\n",
      "          0                  0.073951\n",
      "          3<=                0.022879\n",
      "phishing  1                  0.515307\n",
      "          0                  0.384603\n",
      "          2                  0.094616\n",
      "          3<=                0.005474\n",
      "Name: proportion, dtype: float64\n"
     ]
    }
   ],
   "source": [
    "def get_subdomain_level(domain: str):\n",
    "    return domain.count('.')-1\n",
    "\n",
    "\n",
    "def map_subdomain_lv(num):\n",
    "    if num <= 2:\n",
    "        return str(num)\n",
    "    else:\n",
    "        return '3<='\n",
    "\n",
    "\n",
    "mails['subdomain_level'] = mails['domain'].apply(get_subdomain_level)\n",
    "mails['subdomain_level'] = mails['subdomain_level'].apply(map_subdomain_lv)\n",
    "categories = pd.CategoricalDtype(['0', '1', '2', '3<='], ordered=True)\n",
    "mails['subdomain_level'] = mails['subdomain_level'].astype(categories)\n",
    "print(mails.groupby('label').subdomain_level.value_counts(normalize=True))"
   ]
  },
  {
   "cell_type": "markdown",
   "metadata": {},
   "source": [
    "### <font color=\"orange\">Liczymy wystapienia</font> \"<font color=\"orange\">/</font>\" <font color=\"orange\">w <b>odnośnikach</b></font>"
   ]
  },
  {
   "cell_type": "code",
   "execution_count": 22,
   "metadata": {},
   "outputs": [
    {
     "name": "stdout",
     "output_type": "stream",
     "text": [
      "label     slash_count\n",
      "safe      5              0.286587\n",
      "          3              0.204687\n",
      "          4              0.164734\n",
      "          6<=            0.144104\n",
      "          2              0.117115\n",
      "          0              0.072924\n",
      "          1              0.009848\n",
      "phishing  3              0.455610\n",
      "          4              0.194464\n",
      "          2              0.176622\n",
      "          6<=            0.108534\n",
      "          5              0.036035\n",
      "          0              0.025845\n",
      "          1              0.002889\n",
      "Name: proportion, dtype: float64\n"
     ]
    }
   ],
   "source": [
    "def count_slashes(url: str):\n",
    "    return url.count('/')\n",
    "\n",
    "\n",
    "def map_slashes(num):\n",
    "    if num <= 5:\n",
    "        return str(num)\n",
    "    else:\n",
    "        return '6<='\n",
    "\n",
    "\n",
    "mails['slash_count'] = mails['in_body_url'].apply(count_slashes)\n",
    "\n",
    "mails['slash_count'] = mails['slash_count'].apply(map_slashes)\n",
    "categories = pd.CategoricalDtype(['0', '1', '2', '3', '4', '5', '6<='], ordered=True)\n",
    "mails['slash_count'] = mails['slash_count'].astype(categories)\n",
    "print(mails.groupby('label').slash_count.value_counts(normalize=True))"
   ]
  },
  {
   "cell_type": "markdown",
   "metadata": {},
   "source": [
    "### <font color=\"orange\">Liczymy wystapienia</font> \"<font color=\"orange\">.</font>\" <font color=\"orange\">w <b>odnośnikach</b></font>"
   ]
  },
  {
   "cell_type": "code",
   "execution_count": 23,
   "metadata": {},
   "outputs": [
    {
     "name": "stdout",
     "output_type": "stream",
     "text": [
      "label     dots_count\n",
      "safe      2             0.528858\n",
      "          3             0.317003\n",
      "          4             0.068935\n",
      "          1             0.055223\n",
      "          5<=           0.028671\n",
      "          0             0.001309\n",
      "phishing  1             0.343562\n",
      "          2             0.340478\n",
      "          3             0.130007\n",
      "          4             0.098423\n",
      "          5<=           0.086515\n",
      "          0             0.001015\n",
      "Name: proportion, dtype: float64\n"
     ]
    }
   ],
   "source": [
    "def count_dots(url: str):\n",
    "    return url.count('.')\n",
    "\n",
    "\n",
    "def map_dots(num):\n",
    "    if num <= 4:\n",
    "        return str(num)\n",
    "    else:\n",
    "        return '5<='\n",
    "\n",
    "\n",
    "mails['dots_count'] = mails['in_body_url'].apply(count_dots)\n",
    "\n",
    "mails['dots_count'] = mails['dots_count'].apply(map_dots)\n",
    "categories = pd.CategoricalDtype(['0', '1', '2', '3', '4', '5<='], ordered=True)\n",
    "mails['dots_count'] = mails['dots_count'].astype(categories)\n",
    "print(mails.groupby('label').dots_count.value_counts(normalize=True))"
   ]
  },
  {
   "cell_type": "markdown",
   "metadata": {},
   "source": [
    "### <font color=\"orange\">Liczymy wystapienia</font> \"<font color=\"orange\">-</font>\" <font color=\"orange\">w <b>odnośnikach</b></font>"
   ]
  },
  {
   "cell_type": "code",
   "execution_count": 24,
   "metadata": {},
   "outputs": [
    {
     "name": "stdout",
     "output_type": "stream",
     "text": [
      "label     hyphens_count\n",
      "safe      0                0.703378\n",
      "          1                0.207554\n",
      "          2<=              0.089068\n",
      "phishing  0                0.898181\n",
      "          1                0.066019\n",
      "          2<=              0.035801\n",
      "Name: proportion, dtype: float64\n"
     ]
    }
   ],
   "source": [
    "def count_hyphens(url: str):\n",
    "    return url.count('-')\n",
    "\n",
    "\n",
    "def map_hyphens(num):\n",
    "    if num <= 1:\n",
    "        return str(num)\n",
    "    else:\n",
    "        return '2<='\n",
    "\n",
    "\n",
    "mails['hyphens_count'] = mails['in_body_url'].apply(count_hyphens)\n",
    "\n",
    "mails['hyphens_count'] = mails['hyphens_count'].apply(map_hyphens)\n",
    "categories = pd.CategoricalDtype(['0', '1', '2<='], ordered=True)\n",
    "mails['hyphens_count'] = mails['hyphens_count'].astype(categories)\n",
    "print(mails.groupby('label').hyphens_count.value_counts(normalize=True))"
   ]
  },
  {
   "cell_type": "markdown",
   "metadata": {},
   "source": [
    "### Sprawdzamy, czy w <font color=\"orange\"><b>odnośnikach</b> znajdują się litery z alfabetu innego niż <b><i>łaciński</i></b></font><font color=\"gray\"> (例 itd.)</font> \n"
   ]
  },
  {
   "cell_type": "code",
   "execution_count": 25,
   "metadata": {},
   "outputs": [
    {
     "name": "stdout",
     "output_type": "stream",
     "text": [
      "has_non_latin  label   \n",
      "False          phishing    0.614359\n",
      "               safe        0.385641\n",
      "True           phishing    0.807339\n",
      "               safe        0.192661\n",
      "Name: proportion, dtype: float64\n"
     ]
    }
   ],
   "source": [
    "def has_non_latin_chars(url: str):\n",
    "    ascii = unidecode(url)\n",
    "    return url != ascii\n",
    "\n",
    "\n",
    "mails['has_non_latin'] = mails['in_body_url'].apply(has_non_latin_chars)\n",
    "print(mails.groupby('has_non_latin').label.value_counts(normalize=True))"
   ]
  },
  {
   "cell_type": "markdown",
   "metadata": {},
   "source": [
    "# Przygotowujemy <font color=\"orange\">zebrane dane</font> pod <font color=\"orange\"><b><i>Machine Learning</i></b></font>\n",
    "<font color=\"gray\">Dane muszą być w postaci liczbowej.</font>"
   ]
  },
  {
   "cell_type": "code",
   "execution_count": 26,
   "metadata": {},
   "outputs": [
    {
     "name": "stdout",
     "output_type": "stream",
     "text": [
      "   Unnamed: 0      sender_mail                    subject  \\\n",
      "0           0  Young@iworld.de  Never agree to be a loser   \n",
      "\n",
      "                                                body     label  \\\n",
      "0  Buck up, your troubles caused by small dimensi...  phishing   \n",
      "\n",
      "  sender_mail_name sender_mail_domain  sender_nums_count  \\\n",
      "0            Young          iworld.de                  0   \n",
      "\n",
      "   sender_domain_num_count  sender_domain_length  ...  contains_ip  \\\n",
      "0                      0.0                   6.0  ...        False   \n",
      "\n",
      "   url_length         domain   TLD TLD_alpha subdomain_level  slash_count  \\\n",
      "0          21  whitedone.com  .com      True               0            3   \n",
      "\n",
      "   dots_count hyphens_count has_non_latin  \n",
      "0           1             0         False  \n",
      "\n",
      "[1 rows x 26 columns]\n"
     ]
    }
   ],
   "source": [
    "print(mails.head(1))"
   ]
  },
  {
   "cell_type": "markdown",
   "metadata": {},
   "source": [
    "### Zamiana<font color=\"orange\"> kolejności [ <b>y</b> | <b>x</b><sub>i</sub> ]</font> <font color=\"gray\">(dla wygody)</font>"
   ]
  },
  {
   "cell_type": "code",
   "execution_count": 27,
   "metadata": {},
   "outputs": [
    {
     "name": "stdout",
     "output_type": "stream",
     "text": [
      "      label  suspicious_words_subject  suspicious_words_body  \\\n",
      "0  phishing                         0                      2   \n",
      "1  phishing                         0                      0   \n",
      "2  phishing                         0                      4   \n",
      "\n",
      "   sender_nums_count  sender_domain_num_count  sender_domain_length  \\\n",
      "0                  0                      0.0                   6.0   \n",
      "1                  4                      0.0                   6.0   \n",
      "2                  0                      0.0                  16.0   \n",
      "\n",
      "  urls_count protocol  contains_ip  url_length  TLD_alpha subdomain_level  \\\n",
      "0          1     http        False          21       True               0   \n",
      "1          1     http        False          25       True               1   \n",
      "2        3<=     http        False          72       True               1   \n",
      "\n",
      "  slash_count dots_count hyphens_count  has_non_latin  \n",
      "0           3          1             0          False  \n",
      "1           2          2             0          False  \n",
      "2         6<=          4             0          False  \n"
     ]
    }
   ],
   "source": [
    "mails_ML = mails[\n",
    "    ['label', 'suspicious_words_subject', 'suspicious_words_body', 'sender_nums_count', 'sender_domain_num_count', 'sender_domain_length',\n",
    "     'urls_count', 'protocol', 'contains_ip', 'url_length', 'TLD_alpha', 'subdomain_level', 'slash_count', 'dots_count', 'hyphens_count', 'has_non_latin']\n",
    "]\n",
    "print(mails_ML.head(3))"
   ]
  },
  {
   "cell_type": "markdown",
   "metadata": {},
   "source": [
    "### <font color=\"orange\">Mapowanie wartości</font> <font color=\"gray\">(z <b><i>categories/object </i>(str)</b> na <b><i>int</i></b>)</font>"
   ]
  },
  {
   "cell_type": "code",
   "execution_count": 28,
   "metadata": {},
   "outputs": [
    {
     "name": "stdout",
     "output_type": "stream",
     "text": [
      "   label  suspicious_words_subject  suspicious_words_body  sender_nums_count  \\\n",
      "0    1.0                       0.0                    2.0                0.0   \n",
      "1    1.0                       0.0                    0.0                4.0   \n",
      "2    1.0                       0.0                    4.0                0.0   \n",
      "\n",
      "   sender_domain_num_count  sender_domain_length  urls_count  protocol  \\\n",
      "0                      0.0                   6.0         1.0       0.0   \n",
      "1                      0.0                   6.0         1.0       0.0   \n",
      "2                      0.0                  16.0         3.0       0.0   \n",
      "\n",
      "   contains_ip  url_length  TLD_alpha  subdomain_level  slash_count  \\\n",
      "0          0.0        21.0        1.0              0.0          3.0   \n",
      "1          0.0        25.0        1.0              1.0          2.0   \n",
      "2          0.0        72.0        1.0              1.0          6.0   \n",
      "\n",
      "   dots_count  hyphens_count  has_non_latin  \n",
      "0         1.0            0.0            0.0  \n",
      "1         2.0            0.0            0.0  \n",
      "2         4.0            0.0            0.0  \n"
     ]
    }
   ],
   "source": [
    "label_map = {\n",
    "    'safe': 0,\n",
    "    'phishing': 1\n",
    "}\n",
    "\n",
    "urls_count_map = {\n",
    "    '1': 1,\n",
    "    '2': 2,\n",
    "    '3<=': 3,\n",
    "}\n",
    "\n",
    "protocol_map = {\n",
    "    'https': 1,\n",
    "    'http': 0\n",
    "}\n",
    "\n",
    "contains_ip_map = {\n",
    "    True: 1,\n",
    "    False: 0\n",
    "}\n",
    "\n",
    "TLD_alpha_map = {\n",
    "    True: 1,\n",
    "    False: 0\n",
    "}\n",
    "\n",
    "subdomain_level = {\n",
    "    '0': 0,\n",
    "    '1': 1,\n",
    "    '2': 2,\n",
    "    '3<=': 3\n",
    "}\n",
    "\n",
    "slash_count_map = {\n",
    "    '0': 0,\n",
    "    '1': 1,\n",
    "    '2': 2,\n",
    "    '3': 3,\n",
    "    '4': 4,\n",
    "    '5': 5,\n",
    "    '6<=': 6,\n",
    "}\n",
    "\n",
    "dots_count_map = {\n",
    "    '0': 0,\n",
    "    '1': 1,\n",
    "    '2': 2,\n",
    "    '3': 3,\n",
    "    '4': 4,\n",
    "    '5<=': 5,\n",
    "}\n",
    "\n",
    "hyphens_count_map = {\n",
    "    '0': 0,\n",
    "    '1': 1,\n",
    "    '2<=': 2,\n",
    "}\n",
    "\n",
    "has_non_latin_map = {\n",
    "    True: 1,\n",
    "    False: 0\n",
    "}\n",
    "\n",
    "mails_ML.loc[:, 'label'] = mails_ML['label'].map(label_map)\n",
    "mails_ML.loc[:, 'urls_count'] = mails_ML['urls_count'].map(urls_count_map)\n",
    "mails_ML.loc[:, 'protocol'] = mails_ML['protocol'].map(protocol_map)\n",
    "mails_ML.loc[:, 'contains_ip'] = mails_ML['contains_ip'].map(contains_ip_map)\n",
    "mails_ML.loc[:, 'TLD_alpha'] = mails_ML['TLD_alpha'].map(TLD_alpha_map)\n",
    "mails_ML.loc[:, 'subdomain_level'] = mails_ML['subdomain_level'].map(subdomain_level)\n",
    "mails_ML.loc[:, 'slash_count'] = mails_ML['slash_count'].map(slash_count_map)\n",
    "mails_ML.loc[:, 'dots_count'] = mails_ML['dots_count'].map(dots_count_map)\n",
    "mails_ML.loc[:, 'hyphens_count'] = mails_ML['hyphens_count'].map(hyphens_count_map)\n",
    "mails_ML.loc[:, 'has_non_latin'] = mails_ML['has_non_latin'].map(has_non_latin_map)\n",
    "mails_ML = mails_ML.astype(float)\n",
    "print(mails_ML.head(3))"
   ]
  },
  {
   "cell_type": "markdown",
   "metadata": {},
   "source": [
    "### Zapisujemy <font color=\"orange\"><b>rezultat</b></font> do <font color=\"orange\">pliku .csv</font>"
   ]
  },
  {
   "cell_type": "code",
   "execution_count": 29,
   "metadata": {},
   "outputs": [],
   "source": [
    "mails_ML.to_csv('ML_DataFrame.csv')"
   ]
  }
 ],
 "metadata": {
  "kernelspec": {
   "display_name": "Python 3",
   "language": "python",
   "name": "python3"
  },
  "language_info": {
   "codemirror_mode": {
    "name": "ipython",
    "version": 3
   },
   "file_extension": ".py",
   "mimetype": "text/x-python",
   "name": "python",
   "nbconvert_exporter": "python",
   "pygments_lexer": "ipython3",
   "version": "3.11.7"
  }
 },
 "nbformat": 4,
 "nbformat_minor": 2
}
